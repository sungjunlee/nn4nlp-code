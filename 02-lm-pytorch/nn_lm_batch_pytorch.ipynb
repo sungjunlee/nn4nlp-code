{
  "nbformat": 4,
  "nbformat_minor": 0,
  "metadata": {
    "colab": {
      "name": "nn-lm-batch_pytorch.ipynb",
      "version": "0.3.2",
      "views": {},
      "default_view": {},
      "provenance": [],
      "collapsed_sections": []
    }
  },
  "cells": [
    {
      "metadata": {
        "id": "w1fBhw8tOpby",
        "colab_type": "code",
        "colab": {
          "autoexec": {
            "startup": false,
            "wait_interval": 0
          },
          "base_uri": "https://localhost:8080/",
          "height": 53
        },
        "outputId": "e71e4c8d-f817-4227-f986-7efd90cc6ac7",
        "executionInfo": {
          "status": "ok",
          "timestamp": 1525874925584,
          "user_tz": -540,
          "elapsed": 7682,
          "user": {
            "displayName": "Sungjun Lee",
            "photoUrl": "https://lh3.googleusercontent.com/a/default-user=s128",
            "userId": "107995332831641667384"
          }
        }
      },
      "cell_type": "code",
      "source": [
        "!pip install torch\n",
        "!git clone https://github.com/neubig/nn4nlp-code.git"
      ],
      "execution_count": 1,
      "outputs": [
        {
          "output_type": "stream",
          "text": [
            "Requirement already satisfied: torch in /usr/local/lib/python2.7/dist-packages (0.4.0)\n",
            "fatal: destination path 'nn4nlp-code' already exists and is not an empty directory.\n"
          ],
          "name": "stdout"
        }
      ]
    },
    {
      "metadata": {
        "id": "YT6_wNEBOX4-",
        "colab_type": "code",
        "colab": {
          "autoexec": {
            "startup": false,
            "wait_interval": 0
          }
        }
      },
      "cell_type": "code",
      "source": [
        "from collections import defaultdict\n",
        "import math\n",
        "import time\n",
        "import random\n",
        "import os, sys\n",
        "\n",
        "import torch\n",
        "import torch.nn as nn\n",
        "from torch.autograd import Variable"
      ],
      "execution_count": 0,
      "outputs": []
    },
    {
      "metadata": {
        "id": "8P4uPl-YOjAF",
        "colab_type": "code",
        "colab": {
          "autoexec": {
            "startup": false,
            "wait_interval": 0
          }
        }
      },
      "cell_type": "code",
      "source": [
        "# Feed-forward Neural Network Language Model\n",
        "class FNN_LM(nn.Module):\n",
        "  def __init__(self, nwords, emb_size, hid_size, num_hist, dropout):\n",
        "    super(FNN_LM, self).__init__()\n",
        "    self.embedding = nn.Embedding(nwords, emb_size)\n",
        "    self.fnn = nn.Sequential(\n",
        "      nn.Linear(num_hist*emb_size, hid_size), nn.Tanh(),\n",
        "      nn.Dropout(dropout),\n",
        "      nn.Linear(hid_size, nwords)\n",
        "    )\n",
        "\n",
        "  def forward(self, words):\n",
        "    emb = self.embedding(words)      # 3D Tensor of size [batch_size x num_hist x emb_size]\n",
        "    feat = emb.view(emb.size(0), -1) # 2D Tensor of size [batch_size x (num_hist*emb_size)]\n",
        "    logit = self.fnn(feat)           # 2D Tensor of size [batch_size x nwords]\n",
        "\n",
        "    return logit\n",
        "\n",
        "N = 2 # The length of the n-gram\n",
        "EMB_SIZE = 128 # The size of the embedding\n",
        "HID_SIZE = 128 # The size of the hidden layer\n",
        "\n",
        "USE_CUDA = torch.cuda.is_available()\n",
        "\n",
        "# Functions to read in the corpus\n",
        "# NOTE: We are using data from the Penn Treebank, which is already converted\n",
        "#       into an easy-to-use format with \"<unk>\" symbols. If we were using other\n",
        "#       data we would have to do pre-processing and consider how to choose\n",
        "#       unknown words, etc.\n",
        "w2i = defaultdict(lambda: len(w2i))\n",
        "S = w2i[\"<s>\"]\n",
        "UNK = w2i[\"<unk>\"]\n",
        "def read_dataset(filename):\n",
        "  with open(filename, \"r\") as f:\n",
        "    for line in f:\n",
        "      yield [w2i[x] for x in line.strip().split(\" \")]\n",
        "\n",
        "# Read in the data\n",
        "train = list(read_dataset(\"nn4nlp-code/data/ptb/train.txt\"))\n",
        "w2i = defaultdict(lambda: UNK, w2i)\n",
        "dev = list(read_dataset(\"nn4nlp-code/data/ptb/valid.txt\"))\n",
        "i2w = {v: k for k, v in w2i.items()}\n",
        "nwords = len(w2i)\n",
        "\n",
        "# Initialize the model and the optimizer\n",
        "model = FNN_LM(nwords=nwords, emb_size=EMB_SIZE, hid_size=HID_SIZE, num_hist=N, dropout=0.2)\n",
        "if USE_CUDA:\n",
        "  model = model.cuda()\n",
        "optimizer = torch.optim.Adam(model.parameters(), lr=0.001)\n",
        "\n",
        "# convert a (nested) list of int into a pytorch Variable\n",
        "def convert_to_variable(words):\n",
        "  var = Variable(torch.LongTensor(words))\n",
        "  if USE_CUDA:\n",
        "    var = var.cuda()\n",
        "\n",
        "  return var\n",
        "\n",
        "# A function to calculate scores for one value\n",
        "def calc_score_of_histories(words):\n",
        "  # This will change from a list of histories, to a pytorch Variable whose data type is LongTensor\n",
        "  words_var = convert_to_variable(words)\n",
        "  logits = model(words_var)\n",
        "  return logits\n",
        "\n",
        "# Calculate the loss value for the entire sentence\n",
        "def calc_sent_loss(sent):\n",
        "  # The initial history is equal to end of sentence symbols\n",
        "  hist = [S] * N\n",
        "  # Step through the sentence, including the end of sentence token\n",
        "  all_histories = []\n",
        "  all_targets = []\n",
        "  for next_word in sent + [S]:\n",
        "    all_histories.append(list(hist))\n",
        "    all_targets.append(next_word)\n",
        "    hist = hist[1:] + [next_word]\n",
        "\n",
        "  logits = calc_score_of_histories(all_histories)\n",
        "  loss = nn.functional.cross_entropy(logits, convert_to_variable(all_targets), size_average=False)\n",
        "\n",
        "  return loss\n",
        "\n",
        "MAX_LEN = 100\n",
        "# Generate a sentence\n",
        "def generate_sent():\n",
        "  hist = [S] * N\n",
        "  sent = []\n",
        "  while True:\n",
        "    logits = calc_score_of_histories([hist])\n",
        "    prob = nn.functional.softmax(logits)\n",
        "    next_word = prob.multinomial().data[0,0]\n",
        "    if next_word == S or len(sent) == MAX_LEN:\n",
        "      break\n",
        "    sent.append(next_word)\n",
        "    hist = hist[1:] + [next_word]\n",
        "  return sent"
      ],
      "execution_count": 0,
      "outputs": []
    },
    {
      "metadata": {
        "id": "MNd4y4s6OmkX",
        "colab_type": "code",
        "colab": {
          "autoexec": {
            "startup": false,
            "wait_interval": 0
          },
          "base_uri": "https://localhost:8080/",
          "height": 660
        },
        "outputId": "2042d6c4-1f2f-43fb-af0a-13674f07d399",
        "executionInfo": {
          "status": "error",
          "timestamp": 1525881760181,
          "user_tz": -540,
          "elapsed": 6831474,
          "user": {
            "displayName": "Sungjun Lee",
            "photoUrl": "https://lh3.googleusercontent.com/a/default-user=s128",
            "userId": "107995332831641667384"
          }
        }
      },
      "cell_type": "code",
      "source": [
        "last_dev = 1e20\n",
        "best_dev = 1e20\n",
        "\n",
        "for ITER in range(5):\n",
        "  # Perform training\n",
        "  random.shuffle(train)\n",
        "  # set the model to training mode\n",
        "  model.train()\n",
        "  train_words, train_loss = 0, 0.0\n",
        "  start = time.time()\n",
        "  for sent_id, sent in enumerate(train):\n",
        "    my_loss = calc_sent_loss(sent)\n",
        "    train_loss += my_loss.data[0]\n",
        "    train_words += len(sent)\n",
        "    optimizer.zero_grad()\n",
        "    my_loss.backward()\n",
        "    optimizer.step()\n",
        "    if (sent_id+1) % 5000 == 0:\n",
        "      print(\"--finished %r sentences (word/sec=%.2f)\" % (sent_id+1, train_words/(time.time()-start)))\n",
        "  print(\"iter %r: train loss/word=%.4f, ppl=%.4f (word/sec=%.2f)\" % (ITER, train_loss/train_words, math.exp(train_loss/train_words), train_words/(time.time()-start)))\n",
        "  \n",
        "  # Evaluate on dev set\n",
        "  # set the model to evaluation mode\n",
        "  model.eval()\n",
        "  dev_words, dev_loss = 0, 0.0\n",
        "  start = time.time()\n",
        "  for sent_id, sent in enumerate(dev):\n",
        "    my_loss = calc_sent_loss(sent)\n",
        "    dev_loss += my_loss.data[0]\n",
        "    dev_words += len(sent)\n",
        "\n",
        "  # Keep track of the development accuracy and reduce the learning rate if it got worse\n",
        "  if last_dev < dev_loss:\n",
        "    optimizer.learning_rate /= 2\n",
        "  last_dev = dev_loss\n",
        "  \n",
        "  # Keep track of the best development accuracy, and save the model only if it's the best one\n",
        "  if best_dev > dev_loss:\n",
        "    torch.save(model, \"model.pt\")\n",
        "    best_dev = dev_loss\n",
        "  \n",
        "  # Save the model\n",
        "  print(\"iter %r: dev loss/word=%.4f, ppl=%.4f (word/sec=%.2f)\" % (ITER, dev_loss/dev_words, math.exp(dev_loss/dev_words), dev_words/(time.time()-start)))\n",
        "  \n",
        "  # Generate a few sentences\n",
        "  for _ in range(5):\n",
        "    sent = generate_sent()\n",
        "    print(\" \".join([i2w[x] for x in sent]))"
      ],
      "execution_count": 4,
      "outputs": [
        {
          "output_type": "stream",
          "text": [
            "/usr/local/lib/python2.7/dist-packages/ipykernel_launcher.py:13: UserWarning: invalid index of a 0-dim tensor. This will be an error in PyTorch 0.5. Use tensor.item() to convert a 0-dim tensor to a Python number\n",
            "  del sys.path[0]\n"
          ],
          "name": "stderr"
        },
        {
          "output_type": "stream",
          "text": [
            "--finished 5000 sentences (word/sec=169.52)\n",
            "--finished 10000 sentences (word/sec=150.56)\n",
            "--finished 15000 sentences (word/sec=142.77)\n",
            "--finished 20000 sentences (word/sec=138.43)\n",
            "--finished 25000 sentences (word/sec=135.54)\n",
            "--finished 30000 sentences (word/sec=133.67)\n",
            "--finished 35000 sentences (word/sec=132.61)\n",
            "--finished 40000 sentences (word/sec=131.79)\n",
            "iter 0: train loss/word=6.2716, ppl=529.3386 (word/sec=131.42)\n"
          ],
          "name": "stdout"
        },
        {
          "output_type": "stream",
          "text": [
            "/usr/local/lib/python2.7/dist-packages/ipykernel_launcher.py:29: UserWarning: invalid index of a 0-dim tensor. This will be an error in PyTorch 0.5. Use tensor.item() to convert a 0-dim tensor to a Python number\n",
            "/usr/local/lib/python2.7/dist-packages/torch/serialization.py:193: UserWarning: Couldn't retrieve source code for container of type FNN_LM. It won't be checked for correctness upon loading.\n",
            "  \"type \" + obj.__name__ + \". It won't be checked \"\n",
            "/usr/local/lib/python2.7/dist-packages/ipykernel_launcher.py:89: UserWarning: Implicit dimension choice for softmax has been deprecated. Change the call to include dim=X as an argument.\n"
          ],
          "name": "stderr"
        },
        {
          "output_type": "stream",
          "text": [
            "iter 0: dev loss/word=5.8810, ppl=358.1567 (word/sec=935.63)\n"
          ],
          "name": "stdout"
        },
        {
          "output_type": "error",
          "ename": "TypeError",
          "evalue": "ignored",
          "traceback": [
            "\u001b[0;31m\u001b[0m",
            "\u001b[0;31mTypeError\u001b[0mTraceback (most recent call last)",
            "\u001b[0;32m<ipython-input-4-35f0bfa08e29>\u001b[0m in \u001b[0;36m<module>\u001b[0;34m()\u001b[0m\n\u001b[1;32m     45\u001b[0m   \u001b[0;31m# Generate a few sentences\u001b[0m\u001b[0;34m\u001b[0m\u001b[0;34m\u001b[0m\u001b[0m\n\u001b[1;32m     46\u001b[0m   \u001b[0;32mfor\u001b[0m \u001b[0m_\u001b[0m \u001b[0;32min\u001b[0m \u001b[0mrange\u001b[0m\u001b[0;34m(\u001b[0m\u001b[0;36m5\u001b[0m\u001b[0;34m)\u001b[0m\u001b[0;34m:\u001b[0m\u001b[0;34m\u001b[0m\u001b[0m\n\u001b[0;32m---> 47\u001b[0;31m     \u001b[0msent\u001b[0m \u001b[0;34m=\u001b[0m \u001b[0mgenerate_sent\u001b[0m\u001b[0;34m(\u001b[0m\u001b[0;34m)\u001b[0m\u001b[0;34m\u001b[0m\u001b[0m\n\u001b[0m\u001b[1;32m     48\u001b[0m     \u001b[0;32mprint\u001b[0m\u001b[0;34m(\u001b[0m\u001b[0;34m\" \"\u001b[0m\u001b[0;34m.\u001b[0m\u001b[0mjoin\u001b[0m\u001b[0;34m(\u001b[0m\u001b[0;34m[\u001b[0m\u001b[0mi2w\u001b[0m\u001b[0;34m[\u001b[0m\u001b[0mx\u001b[0m\u001b[0;34m]\u001b[0m \u001b[0;32mfor\u001b[0m \u001b[0mx\u001b[0m \u001b[0;32min\u001b[0m \u001b[0msent\u001b[0m\u001b[0;34m]\u001b[0m\u001b[0;34m)\u001b[0m\u001b[0;34m)\u001b[0m\u001b[0;34m\u001b[0m\u001b[0m\n",
            "\u001b[0;32m<ipython-input-3-7812440e54c6>\u001b[0m in \u001b[0;36mgenerate_sent\u001b[0;34m()\u001b[0m\n\u001b[1;32m     88\u001b[0m     \u001b[0mlogits\u001b[0m \u001b[0;34m=\u001b[0m \u001b[0mcalc_score_of_histories\u001b[0m\u001b[0;34m(\u001b[0m\u001b[0;34m[\u001b[0m\u001b[0mhist\u001b[0m\u001b[0;34m]\u001b[0m\u001b[0;34m)\u001b[0m\u001b[0;34m\u001b[0m\u001b[0m\n\u001b[1;32m     89\u001b[0m     \u001b[0mprob\u001b[0m \u001b[0;34m=\u001b[0m \u001b[0mnn\u001b[0m\u001b[0;34m.\u001b[0m\u001b[0mfunctional\u001b[0m\u001b[0;34m.\u001b[0m\u001b[0msoftmax\u001b[0m\u001b[0;34m(\u001b[0m\u001b[0mlogits\u001b[0m\u001b[0;34m)\u001b[0m\u001b[0;34m\u001b[0m\u001b[0m\n\u001b[0;32m---> 90\u001b[0;31m     \u001b[0mnext_word\u001b[0m \u001b[0;34m=\u001b[0m \u001b[0mprob\u001b[0m\u001b[0;34m.\u001b[0m\u001b[0mmultinomial\u001b[0m\u001b[0;34m(\u001b[0m\u001b[0;34m)\u001b[0m\u001b[0;34m.\u001b[0m\u001b[0mdata\u001b[0m\u001b[0;34m[\u001b[0m\u001b[0;36m0\u001b[0m\u001b[0;34m,\u001b[0m\u001b[0;36m0\u001b[0m\u001b[0;34m]\u001b[0m\u001b[0;34m\u001b[0m\u001b[0m\n\u001b[0m\u001b[1;32m     91\u001b[0m     \u001b[0;32mif\u001b[0m \u001b[0mnext_word\u001b[0m \u001b[0;34m==\u001b[0m \u001b[0mS\u001b[0m \u001b[0;32mor\u001b[0m \u001b[0mlen\u001b[0m\u001b[0;34m(\u001b[0m\u001b[0msent\u001b[0m\u001b[0;34m)\u001b[0m \u001b[0;34m==\u001b[0m \u001b[0mMAX_LEN\u001b[0m\u001b[0;34m:\u001b[0m\u001b[0;34m\u001b[0m\u001b[0m\n\u001b[1;32m     92\u001b[0m       \u001b[0;32mbreak\u001b[0m\u001b[0;34m\u001b[0m\u001b[0m\n",
            "\u001b[0;31mTypeError\u001b[0m: multinomial() missing 1 required positional arguments: \"num_samples\""
          ]
        }
      ]
    }
  ]
}