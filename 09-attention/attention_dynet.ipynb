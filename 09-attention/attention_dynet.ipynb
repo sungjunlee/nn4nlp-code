{
  "nbformat": 4,
  "nbformat_minor": 0,
  "metadata": {
    "colab": {
      "name": "attention-dynet.ipynb",
      "version": "0.3.2",
      "views": {},
      "default_view": {},
      "provenance": [],
      "collapsed_sections": []
    },
    "kernelspec": {
      "name": "python3",
      "display_name": "Python 3"
    }
  },
  "cells": [
    {
      "metadata": {
        "id": "dpTcf0FT1Fj7",
        "colab_type": "code",
        "colab": {
          "autoexec": {
            "startup": false,
            "wait_interval": 0
          },
          "base_uri": "https://localhost:8080/",
          "height": 255
        },
        "outputId": "c3da8cb9-4295-46d7-a192-0e7ead88ea35",
        "executionInfo": {
          "status": "ok",
          "timestamp": 1530842324345,
          "user_tz": -540,
          "elapsed": 12103,
          "user": {
            "displayName": "Sungjun Lee",
            "photoUrl": "https://lh3.googleusercontent.com/a/default-user=s128",
            "userId": "107995332831641667384"
          }
        }
      },
      "cell_type": "code",
      "source": [
        "!pip install dynet\n",
        "!git clone https://github.com/neubig/nn4nlp-code.git"
      ],
      "execution_count": 1,
      "outputs": [
        {
          "output_type": "stream",
          "text": [
            "Collecting dynet\n",
            "\u001b[?25l  Downloading https://files.pythonhosted.org/packages/1b/8c/767cc83241b2abe567d705f87589d8ad44cca321f7c78720269c45e0469f/dyNET-2.0.3-cp36-cp36m-manylinux1_x86_64.whl (27.8MB)\n",
            "\u001b[K    100% |████████████████████████████████| 27.8MB 1.5MB/s \n",
            "\u001b[?25hRequirement already satisfied: numpy in /usr/local/lib/python3.6/dist-packages (from dynet) (1.14.5)\n",
            "Collecting cython (from dynet)\n",
            "\u001b[?25l  Downloading https://files.pythonhosted.org/packages/6f/79/d8e2cd00bea8156a995fb284ce7b6677c49eccd2d318f73e201a9ce560dc/Cython-0.28.3-cp36-cp36m-manylinux1_x86_64.whl (3.4MB)\n",
            "\u001b[K    100% |████████████████████████████████| 3.4MB 12.8MB/s \n",
            "\u001b[?25hInstalling collected packages: cython, dynet\n",
            "Successfully installed cython-0.28.3 dynet-2.0.3\n",
            "Cloning into 'nn4nlp-code'...\n",
            "remote: Counting objects: 372, done.\u001b[K\n",
            "remote: Total 372 (delta 0), reused 0 (delta 0), pack-reused 372\u001b[K\n",
            "Receiving objects: 100% (372/372), 6.33 MiB | 18.20 MiB/s, done.\n",
            "Resolving deltas: 100% (131/131), done.\n"
          ],
          "name": "stdout"
        }
      ]
    },
    {
      "metadata": {
        "id": "3c8ATR9K1bsV",
        "colab_type": "code",
        "colab": {
          "autoexec": {
            "startup": false,
            "wait_interval": 0
          }
        }
      },
      "cell_type": "code",
      "source": [
        "import numpy as np\n",
        "import matplotlib\n",
        "# matplotlib.use('Agg')\n",
        "\n",
        "from matplotlib.font_manager import FontProperties\n",
        "from matplotlib import rcParams\n",
        "import pdb as pdb\n",
        "import matplotlib.pyplot as plt\n",
        "import six\n",
        "\n",
        "\n",
        "# if you are outputting cjk, matplotlib needs to first load a cjk font.\n",
        "# you can figure out how to find a non-latin font on your system here:\n",
        "# > https://matplotlib.org/users/text_props.html#text-with-non-latin-glyphs\n",
        "# for example\n",
        "#\n",
        "# 1. run in terminal\n",
        "# $ fc-list :lang=ja family\n",
        "# -> displays \"MS Gothic\" as one of the options\n",
        "#\n",
        "# 2. add to code here:\n",
        "# matplotlib.rcParams['font.family'].insert(0, 'MS Gothic')\n",
        "\n",
        "def plot_attention(src_words, trg_words, attention_matrix, file_name=None):\n",
        "  \"\"\"This takes in source and target words and an attention matrix (in numpy format)\n",
        "  and prints a visualization of this to a file.\n",
        "  :param src_words: a list of words in the source\n",
        "  :param trg_words: a list of target words\n",
        "  :param attention_matrix: a two-dimensional numpy array of values between zero and one,\n",
        "    where rows correspond to source words, and columns correspond to target words\n",
        "  :param file_name: the name of the file to which we write the attention\n",
        "  \"\"\"\n",
        "  fig, ax = plt.subplots()\n",
        "  #a lazy, rough, approximate way of making the image large enough\n",
        "  fig.set_figwidth(int(len(trg_words)*.6))\n",
        "\n",
        "  # put the major ticks at the middle of each cell\n",
        "  ax.set_xticks(np.arange(attention_matrix.shape[1]) + 0.5, minor=False)\n",
        "  ax.set_yticks(np.arange(attention_matrix.shape[0]) + 0.5, minor=False)\n",
        "  ax.invert_yaxis()\n",
        "\n",
        "  # label axes by words\n",
        "  ax.set_xticklabels(trg_words, minor=False)\n",
        "  ax.set_yticklabels(src_words, minor=False)\n",
        "  ax.xaxis.tick_top()\n",
        "  plt.setp(ax.get_xticklabels(), rotation=50, horizontalalignment='right')\n",
        "  # draw the heatmap\n",
        "  plt.pcolor(attention_matrix, cmap=plt.cm.Blues, vmin=0, vmax=1)\n",
        "  plt.colorbar()\n",
        "\n",
        "  if file_name != None:\n",
        "    plt.savefig(file_name, dpi=100)\n",
        "  else:\n",
        "    plt.show()\n",
        "  plt.close()"
      ],
      "execution_count": 0,
      "outputs": []
    },
    {
      "metadata": {
        "id": "o37lQnZC1LcW",
        "colab_type": "code",
        "colab": {
          "autoexec": {
            "startup": false,
            "wait_interval": 0
          }
        }
      },
      "cell_type": "code",
      "source": [
        "from __future__ import print_function\n",
        "import time\n",
        "\n",
        "from collections import defaultdict\n",
        "# from plot_attention import plot_attention\n",
        "import random\n",
        "import math\n",
        "import sys\n",
        "import argparse\n",
        "\n",
        "import dynet as dy\n",
        "import numpy as np\n",
        "import pdb"
      ],
      "execution_count": 0,
      "outputs": []
    },
    {
      "metadata": {
        "id": "Bm1rVlhQ1Mxw",
        "colab_type": "code",
        "colab": {
          "autoexec": {
            "startup": false,
            "wait_interval": 0
          }
        }
      },
      "cell_type": "code",
      "source": [
        "#some of this code borrowed from Qinlan Shen's attention from the MT class last year\n",
        "#much of the beginning is the same as the text retrieval\n",
        "# format of files: each line is \"word1 word2 ...\" aligned line-by-line\n",
        "train_src_file = \"nn4nlp-code/data/parallel/train.ja\"\n",
        "train_trg_file = \"nn4nlp-code/data/parallel/train.en\"\n",
        "dev_src_file = \"nn4nlp-code/data/parallel/dev.ja\"\n",
        "dev_trg_file = \"nn4nlp-code/data/parallel/dev.en\"\n",
        "test_src_file = \"nn4nlp-code/data/parallel/test.ja\"\n",
        "test_trg_file = \"nn4nlp-code/data/parallel/test.en\"\n",
        "\n",
        "w2i_src = defaultdict(lambda: len(w2i_src))\n",
        "w2i_trg = defaultdict(lambda: len(w2i_trg))\n",
        "\n",
        "\n",
        "# Creates batches where all source sentences are the same length\n",
        "def create_batches(sorted_dataset, max_batch_size):\n",
        "    source = [x[0] for x in sorted_dataset]\n",
        "    src_lengths = [len(x) for x in source]\n",
        "    batches = []\n",
        "    prev = src_lengths[0]\n",
        "    prev_start = 0\n",
        "    batch_size = 1\n",
        "    for i in range(1, len(src_lengths)):\n",
        "        if src_lengths[i] != prev or batch_size == max_batch_size:\n",
        "            batches.append((prev_start, batch_size))\n",
        "            prev = src_lengths[i]\n",
        "            prev_start = i\n",
        "            batch_size = 1\n",
        "        else:\n",
        "            batch_size += 1\n",
        "    return batches\n",
        "\n",
        "\n",
        "def read(fname_src, fname_trg):\n",
        "    \"\"\"\n",
        "    Read parallel files where each line lines up\n",
        "    \"\"\"\n",
        "    with open(fname_src, \"r\") as f_src, open(fname_trg, \"r\") as f_trg:\n",
        "        for line_src, line_trg in zip(f_src, f_trg):\n",
        "            #need to append EOS tags to at least the target sentence\n",
        "            sent_src = [w2i_src[x] for x in line_src.strip().split() + ['</s>']] \n",
        "            sent_trg = [w2i_trg[x] for x in ['<s>'] + line_trg.strip().split() + ['</s>']] \n",
        "            yield (sent_src, sent_trg)\n",
        "\n",
        "# Read the data\n",
        "train = list(read(train_src_file, train_trg_file))\n",
        "unk_src = w2i_src[\"<unk>\"]\n",
        "eos_src = w2i_src['</s>']\n",
        "w2i_src = defaultdict(lambda: unk_src, w2i_src)\n",
        "unk_trg = w2i_trg[\"<unk>\"]\n",
        "eos_trg = w2i_trg['</s>']\n",
        "sos_trg = w2i_trg['<s>']\n",
        "w2i_trg = defaultdict(lambda: unk_trg, w2i_trg)\n",
        "i2w_trg = {v: k for k, v in w2i_trg.items()}\n",
        "i2w_src = {v: k for k, v in w2i_src.items()}\n",
        "\n",
        "nwords_src = len(w2i_src)\n",
        "nwords_trg = len(w2i_trg)\n",
        "dev = list(read(dev_src_file, dev_trg_file))\n",
        "test = list(read(test_src_file, test_trg_file))"
      ],
      "execution_count": 0,
      "outputs": []
    },
    {
      "metadata": {
        "id": "HqAM1H2h0_dl",
        "colab_type": "code",
        "colab": {
          "autoexec": {
            "startup": false,
            "wait_interval": 0
          },
          "base_uri": "https://localhost:8080/",
          "height": 187
        },
        "outputId": "27d6ef55-e43a-41e7-cc7b-1724c60e5a7a",
        "executionInfo": {
          "status": "ok",
          "timestamp": 1530842495635,
          "user_tz": -540,
          "elapsed": 164495,
          "user": {
            "displayName": "Sungjun Lee",
            "photoUrl": "https://lh3.googleusercontent.com/a/default-user=s128",
            "userId": "107995332831641667384"
          }
        }
      },
      "cell_type": "code",
      "source": [
        "# DyNet Starts\n",
        "model = dy.Model()\n",
        "trainer = dy.AdamTrainer(model)\n",
        "\n",
        "# Model parameters\n",
        "EMBED_SIZE = 64\n",
        "HIDDEN_SIZE = 128\n",
        "ATTENTION_SIZE = 128\n",
        "BATCH_SIZE = 16\n",
        "\n",
        "#Especially in early training, the model can generate basically infinitly without generating an EOS\n",
        "#have a max sent size that you end at\n",
        "MAX_SENT_SIZE = 50\n",
        "\n",
        "# Lookup parameters for word embeddings\n",
        "LOOKUP_SRC = model.add_lookup_parameters((nwords_src, EMBED_SIZE))\n",
        "LOOKUP_TRG = model.add_lookup_parameters((nwords_trg, EMBED_SIZE))\n",
        "\n",
        "# Word-level LSTMs\n",
        "\n",
        "#we want a bidirectional LSTM for attention over the source\n",
        "LSTM_SRC = dy.BiRNNBuilder(1, EMBED_SIZE, HIDDEN_SIZE, model, dy.LSTMBuilder)\n",
        "LSTM_TRG_BUILDER = dy.LSTMBuilder(1, EMBED_SIZE, HIDDEN_SIZE, model, dy.LSTMBuilder)\n",
        "\n",
        "#hidden size*3 to hidden size-layer before softmax in attention\n",
        "W_m_p = model.add_parameters((HIDDEN_SIZE, HIDDEN_SIZE*2))\n",
        "b_m_p = model.add_parameters(HIDDEN_SIZE)\n",
        "\n",
        "#the softmax from the hidden size \n",
        "W_sm_p = model.add_parameters((nwords_trg, HIDDEN_SIZE))         # Weights of the softmax\n",
        "b_sm_p = model.add_parameters((nwords_trg))                   # Softmax bias\n",
        "\n",
        "#parameters for attention\n",
        "w1_att_src_p = model.add_parameters((ATTENTION_SIZE, HIDDEN_SIZE))\n",
        "w1_att_tgt_p = model.add_parameters((ATTENTION_SIZE, HIDDEN_SIZE))\n",
        "w2_att_p = model.add_parameters((ATTENTION_SIZE))\n",
        "\n",
        "def calc_attention(src_output_matrix, tgt_output_embedding, fixed_attentional_component):\n",
        "    w1_att_src = dy.parameter(w1_att_src_p)\n",
        "    w1_att_tgt = dy.parameter(w1_att_tgt_p)\n",
        "    w2_att = dy.parameter(w2_att_p)\n",
        "    a_t = dy.transpose(dy.tanh(dy.colwise_add(fixed_attentional_component, w1_att_tgt * tgt_output_embedding))) * w2_att\n",
        "    alignment = dy.softmax(a_t)\n",
        "    att_output = src_output_matrix * alignment\n",
        "    return att_output, alignment\n",
        "\n",
        "def calc_loss(sents):\n",
        "    dy.renew_cg()\n",
        "\n",
        "    # Transduce all batch elements with an LSTM\n",
        "    src_sents = [x[0] for x in sents]\n",
        "    tgt_sents = [x[1] for x in sents]\n",
        "    src_cws = []\n",
        "\n",
        "    src_len = [len(sent) for sent in src_sents]        \n",
        "    max_src_len = np.max(src_len)\n",
        "    num_words = 0\n",
        "\n",
        "    for i in range(max_src_len):\n",
        "        src_cws.append([sent[i] for sent in src_sents])\n",
        "\n",
        "\n",
        "    #get the outputs of the first LSTM\n",
        "    src_outputs = [dy.concatenate([x.output(), y.output()]) for x,y in LSTM_SRC.add_inputs([dy.lookup_batch(LOOKUP_SRC, cws) for cws in src_cws])]\n",
        "    src_output = src_outputs[-1]\n",
        "\n",
        "    #gets the parameters for the attention\n",
        "    src_output_matrix = dy.concatenate_cols(src_outputs)\n",
        "    w1_att_src = dy.parameter(w1_att_src_p)\n",
        "    fixed_attentional_component = w1_att_src * src_output_matrix\n",
        "\n",
        "    #now decode\n",
        "    all_losses = []\n",
        "\n",
        "    # Decoder\n",
        "    #need to mask padding at end of sentence\n",
        "    tgt_cws = []\n",
        "    tgt_len = [len(sent) for sent in sents]\n",
        "    max_tgt_len = np.max(tgt_len)\n",
        "    masks = []\n",
        "\n",
        "    for i in range(max_tgt_len):\n",
        "        tgt_cws.append([sent[i] if len(sent) > i else eos_trg for sent in tgt_sents])\n",
        "        mask = [(1 if len(sent) > i else 0) for sent in tgt_sents]\n",
        "        masks.append(mask)\n",
        "        num_words += sum(mask)\n",
        "\n",
        "\n",
        "\n",
        "    current_state = LSTM_TRG_BUILDER.initial_state().set_s([src_output, dy.tanh(src_output)])\n",
        "    prev_words = tgt_cws[0]\n",
        "    W_sm = dy.parameter(W_sm_p)\n",
        "    b_sm = dy.parameter(b_sm_p)\n",
        "\n",
        "    W_m = dy.parameter(W_m_p)\n",
        "    b_m = dy.parameter(b_m_p)\n",
        "\n",
        "    for next_words, mask in zip(tgt_cws[1:], masks):\n",
        "        #feed the current state into the \n",
        "        current_state = current_state.add_input(dy.lookup_batch(LOOKUP_TRG, prev_words))\n",
        "        output_embedding = current_state.output()\n",
        "        att_output, _ = calc_attention(src_output_matrix, output_embedding, fixed_attentional_component)\n",
        "        middle_expr = dy.tanh(dy.affine_transform([b_m, W_m, dy.concatenate([output_embedding, att_output])]))\n",
        "        s = dy.affine_transform([b_sm, W_sm, middle_expr])\n",
        "        loss = (dy.pickneglogsoftmax_batch(s, next_words))\n",
        "        mask_expr = dy.inputVector(mask)\n",
        "        mask_expr = dy.reshape(mask_expr, (1,),len(sents))\n",
        "        mask_loss = loss * mask_expr\n",
        "        all_losses.append(mask_loss)\n",
        "        prev_words = next_words\n",
        "    return dy.sum_batches(dy.esum(all_losses)), num_words\n",
        "\n",
        "def generate(sent):\n",
        "    dy.renew_cg()\n",
        "\n",
        "    # Transduce all batch elements with an LSTM\n",
        "    src = sent\n",
        "\n",
        "    #get the output of the first LSTM\n",
        "    src_outputs =  [dy.concatenate([x.output(), y.output()]) for x,y in LSTM_SRC.add_inputs([LOOKUP_SRC[word] for word in src])]\n",
        "\n",
        "    src_output = src_outputs[-1]\n",
        "\n",
        "    #gets the parameters for the attention\n",
        "    src_output_matrix = dy.concatenate_cols(src_outputs)\n",
        "    w1_att_src = dy.parameter(w1_att_src_p)\n",
        "    fixed_attentional_component = w1_att_src * src_output_matrix\n",
        "\n",
        "\n",
        "\n",
        "    #generate until a eos tag or max is reached\n",
        "    current_state = LSTM_TRG_BUILDER.initial_state().set_s([src_output, dy.tanh(src_output)])\n",
        "\n",
        "    prev_word = sos_trg\n",
        "    trg_sent = []\n",
        "    attention_matrix = []\n",
        "    W_sm = dy.parameter(W_sm_p)\n",
        "    b_sm = dy.parameter(b_sm_p)\n",
        "\n",
        "    W_m = dy.parameter(W_m_p)\n",
        "    b_m = dy.parameter(b_m_p)\n",
        "\n",
        "\n",
        "\n",
        "    for i in range(MAX_SENT_SIZE):\n",
        "        #feed the previous word into the lstm, calculate the most likely word, add it to the sentence\n",
        "        current_state = current_state.add_input(LOOKUP_TRG[prev_word])\n",
        "        output_embedding = current_state.output()\n",
        "        att_output, alignment = calc_attention(src_output_matrix, output_embedding, fixed_attentional_component)\n",
        "        attention_matrix.append(alignment)\n",
        "        middle_expr = dy.tanh(dy.affine_transform([b_m, W_m, dy.concatenate([output_embedding, att_output])]))\n",
        "        s = dy.affine_transform([b_sm, W_sm, middle_expr])\n",
        "        probs = (-dy.log_softmax(s)).value()\n",
        "        next_word = np.argmax(probs)\n",
        "\n",
        "        if next_word == eos_trg:\n",
        "            break\n",
        "        prev_word = next_word\n",
        "        trg_sent.append(i2w_trg[next_word])\n",
        "    return trg_sent, dy.concatenate_cols(attention_matrix).value()\n",
        "\n",
        "# On this particular data set, training starts to overfit after 5 epochs,\n",
        "# so we only do 5. The better way to do this is to check dev perplexity and\n",
        "# top when it ceases to get better.\n",
        "for ITER in range(5):\n",
        "  # Perform training\n",
        "  train.sort(key=lambda t: len(t[0]), reverse=True)\n",
        "  dev.sort(key=lambda t: len(t[0]), reverse=True)\n",
        "  train_order = create_batches(train, BATCH_SIZE) \n",
        "  dev_order = create_batches(dev, BATCH_SIZE)\n",
        "  train_words, train_loss = 0, 0.0\n",
        "  start_time = time.time()\n",
        "  for sent_id, (start, length) in enumerate(train_order):\n",
        "    train_batch = train[start:start+length]\n",
        "    my_loss, num_words = calc_loss(train_batch)\n",
        "    train_loss += my_loss.value()\n",
        "    train_words += num_words\n",
        "    my_loss.backward()\n",
        "    trainer.update()\n",
        "    if (sent_id+1) % 5000 == 0:\n",
        "      print(\"--finished %r sentences\" % (sent_id+1))\n",
        "  print(\"iter %r: train loss/word=%.4f, ppl=%.4f, time=%.2fs\" % (ITER, train_loss/train_words, math.exp(train_loss/train_words), time.time()-start_time))\n",
        "  # Evaluate on dev set\n",
        "  dev_words, dev_loss = 0, 0.0\n",
        "  start_time = time.time()\n",
        "  for sent_id, (start, length) in enumerate(dev_order):\n",
        "    dev_batch = dev[start:start+length]\n",
        "    my_loss, num_words = calc_loss(dev_batch)\n",
        "    dev_loss += my_loss.value()\n",
        "    dev_words += num_words\n",
        "    trainer.update()\n",
        "  print(\"iter %r: dev loss/word=%.4f, ppl=%.4f, time=%.2fs\" % (ITER, dev_loss/dev_words, math.exp(dev_loss/dev_words), time.time()-start_time))\n",
        "\n"
      ],
      "execution_count": 5,
      "outputs": [
        {
          "output_type": "stream",
          "text": [
            "iter 0: train loss/word=2.0012, ppl=7.3982, time=31.56s\n",
            "iter 0: dev loss/word=2.1895, ppl=8.9311, time=0.86s\n",
            "iter 1: train loss/word=1.4908, ppl=4.4406, time=31.99s\n",
            "iter 1: dev loss/word=1.9372, ppl=6.9391, time=0.90s\n",
            "iter 2: train loss/word=1.3135, ppl=3.7193, time=32.42s\n",
            "iter 2: dev loss/word=1.8502, ppl=6.3613, time=0.87s\n",
            "iter 3: train loss/word=1.1743, ppl=3.2360, time=31.50s\n",
            "iter 3: dev loss/word=1.8375, ppl=6.2810, time=0.86s\n",
            "iter 4: train loss/word=1.0486, ppl=2.8538, time=31.33s\n",
            "iter 4: dev loss/word=1.8665, ppl=6.4654, time=0.85s\n"
          ],
          "name": "stdout"
        }
      ]
    },
    {
      "metadata": {
        "id": "raseTjK3T3J6",
        "colab_type": "code",
        "colab": {
          "autoexec": {
            "startup": false,
            "wait_interval": 0
          }
        }
      },
      "cell_type": "code",
      "source": [
        "#now let's generate one sentence from test, and visualize it's attention\n",
        "src = test[0][0]\n",
        "tgt = test[0][1]\n",
        "output_sent, attention_matrix = generate(src)\n",
        "#note: this can break for long sentences with long words\n",
        "plot_attention([i2w_src[x] for x in src], output_sent, attention_matrix, 'attention_matrix.png')"
      ],
      "execution_count": 0,
      "outputs": []
    },
    {
      "metadata": {
        "id": "rv58Y2HOU9Qg",
        "colab_type": "code",
        "colab": {
          "autoexec": {
            "startup": false,
            "wait_interval": 0
          }
        }
      },
      "cell_type": "code",
      "source": [
        "from PIL import Image"
      ],
      "execution_count": 0,
      "outputs": []
    },
    {
      "metadata": {
        "id": "uqoQSg5uT57K",
        "colab_type": "code",
        "colab": {
          "autoexec": {
            "startup": false,
            "wait_interval": 0
          },
          "base_uri": "https://localhost:8080/",
          "height": 587
        },
        "outputId": "057f101c-ee72-4808-ca42-95349faa7acd",
        "executionInfo": {
          "status": "ok",
          "timestamp": 1530842583395,
          "user_tz": -540,
          "elapsed": 711,
          "user": {
            "displayName": "Sungjun Lee",
            "photoUrl": "https://lh3.googleusercontent.com/a/default-user=s128",
            "userId": "107995332831641667384"
          }
        }
      },
      "cell_type": "code",
      "source": [
        "Image.open('attention_matrix.png')"
      ],
      "execution_count": 9,
      "outputs": [
        {
          "output_type": "execute_result",
          "data": {
            "image/png": "[encoded data removed]",
            "text/plain": [
              "<PIL.PngImagePlugin.PngImageFile image mode=RGBA size=3000x550 at 0x7F7C819D8D30>"
            ]
          },
          "metadata": {
            "tags": []
          },
          "execution_count": 9
        }
      ]
    },
    {
      "metadata": {
        "id": "DysCDtZOVA5F",
        "colab_type": "code",
        "colab": {
          "autoexec": {
            "startup": false,
            "wait_interval": 0
          }
        }
      },
      "cell_type": "code",
      "source": [
        ""
      ],
      "execution_count": 0,
      "outputs": []
    }
  ]
}