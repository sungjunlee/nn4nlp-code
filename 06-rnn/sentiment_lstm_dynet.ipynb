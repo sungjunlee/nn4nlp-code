{
  "nbformat": 4,
  "nbformat_minor": 0,
  "metadata": {
    "colab": {
      "name": "sentiment-lstm-dynet.ipynb",
      "version": "0.3.2",
      "views": {},
      "default_view": {},
      "provenance": [],
      "collapsed_sections": []
    }
  },
  "cells": [
    {
      "metadata": {
        "id": "qGwpZr3GXV6T",
        "colab_type": "code",
        "colab": {
          "autoexec": {
            "startup": false,
            "wait_interval": 0
          },
          "base_uri": "https://localhost:8080/",
          "height": 89
        },
        "outputId": "726ce941-43fc-4476-8300-5bb16cb0de93",
        "executionInfo": {
          "status": "ok",
          "timestamp": 1527773409174,
          "user_tz": -540,
          "elapsed": 5004,
          "user": {
            "displayName": "Sungjun Lee",
            "photoUrl": "https://lh3.googleusercontent.com/a/default-user=s128",
            "userId": "107995332831641667384"
          }
        }
      },
      "cell_type": "code",
      "source": [
        "!pip install dynet\n",
        "!git clone https://github.com/neubig/nn4nlp-code.git"
      ],
      "execution_count": 1,
      "outputs": [
        {
          "output_type": "stream",
          "text": [
            "Requirement already satisfied: dynet in /usr/local/lib/python2.7/dist-packages (2.0.3)\r\n",
            "Requirement already satisfied: numpy in /usr/local/lib/python2.7/dist-packages (from dynet) (1.14.3)\r\n",
            "Requirement already satisfied: cython in /usr/local/lib/python2.7/dist-packages (from dynet) (0.28.3)\n",
            "fatal: destination path 'nn4nlp-code' already exists and is not an empty directory.\n"
          ],
          "name": "stdout"
        }
      ]
    },
    {
      "metadata": {
        "id": "1XTVD-BZcr4u",
        "colab_type": "code",
        "colab": {
          "autoexec": {
            "startup": false,
            "wait_interval": 0
          }
        }
      },
      "cell_type": "code",
      "source": [
        "from collections import defaultdict\n",
        "import time\n",
        "import random\n",
        "import dynet as dy\n",
        "import numpy as np"
      ],
      "execution_count": 0,
      "outputs": []
    },
    {
      "metadata": {
        "id": "53n9r3mBctyA",
        "colab_type": "code",
        "colab": {
          "autoexec": {
            "startup": false,
            "wait_interval": 0
          }
        }
      },
      "cell_type": "code",
      "source": [
        "# Functions to read in the corpus\n",
        "w2i = defaultdict(lambda: len(w2i))\n",
        "t2i = defaultdict(lambda: len(t2i))\n",
        "UNK = w2i[\"<unk>\"]\n",
        "\n",
        "\n",
        "def read_dataset(filename):\n",
        "    with open(filename, \"r\") as f:\n",
        "        for line in f:\n",
        "            tag, words = line.lower().strip().split(\" ||| \")\n",
        "            yield ([w2i[x] for x in words.split(\" \")], t2i[tag])\n",
        "\n",
        "\n",
        "# Read in the data\n",
        "train = list(read_dataset(\"nn4nlp-code/data/classes/train.txt\"))\n",
        "w2i = defaultdict(lambda: UNK, w2i)\n",
        "dev = list(read_dataset(\"nn4nlp-code/data/classes/test.txt\"))\n",
        "nwords = len(w2i)\n",
        "ntags = len(t2i)"
      ],
      "execution_count": 0,
      "outputs": []
    },
    {
      "metadata": {
        "id": "IXC93HBUcxL6",
        "colab_type": "code",
        "colab": {
          "autoexec": {
            "startup": false,
            "wait_interval": 0
          }
        }
      },
      "cell_type": "code",
      "source": [
        "# Start DyNet and defin trainer\n",
        "model = dy.Model()\n",
        "trainer = dy.AdamTrainer(model)\n",
        "\n",
        "# Define the model\n",
        "EMB_SIZE = 64\n",
        "HID_SIZE = 64\n",
        "W_emb = model.add_lookup_parameters((nwords, EMB_SIZE))  # Word embeddings\n",
        "fwdLSTM = dy.VanillaLSTMBuilder(1, EMB_SIZE, HID_SIZE, model)  # Forward RNN\n",
        "bwdLSTM = dy.VanillaLSTMBuilder(1, EMB_SIZE, HID_SIZE, model)  # Backward RNN\n",
        "W_sm = model.add_parameters((ntags, 2 * HID_SIZE))  # Softmax weights\n",
        "b_sm = model.add_parameters((ntags))  # Softmax bias\n",
        "\n",
        "\n",
        "# A function to calculate scores for one value\n",
        "def calc_scores(words):\n",
        "    dy.renew_cg()\n",
        "    word_embs = [dy.lookup(W_emb, x) for x in words]\n",
        "    fwd_init = fwdLSTM.initial_state()\n",
        "    fwd_embs = fwd_init.transduce(word_embs)\n",
        "    bwd_init = bwdLSTM.initial_state()\n",
        "    bwd_embs = bwd_init.transduce(reversed(word_embs))\n",
        "    W_sm_exp = dy.parameter(W_sm)\n",
        "    b_sm_exp = dy.parameter(b_sm)\n",
        "    return W_sm_exp * dy.concatenate([fwd_embs[-1], bwd_embs[-1]]) + b_sm_exp"
      ],
      "execution_count": 0,
      "outputs": []
    },
    {
      "metadata": {
        "id": "Q-AAW5rRXeha",
        "colab_type": "code",
        "colab": {
          "autoexec": {
            "startup": false,
            "wait_interval": 0
          },
          "base_uri": "https://localhost:8080/",
          "height": 3617
        },
        "outputId": "fb5dcf45-3059-485a-81ad-5602959ad43b",
        "executionInfo": {
          "status": "ok",
          "timestamp": 1527777406344,
          "user_tz": -540,
          "elapsed": 3997074,
          "user": {
            "displayName": "Sungjun Lee",
            "photoUrl": "https://lh3.googleusercontent.com/a/default-user=s128",
            "userId": "107995332831641667384"
          }
        }
      },
      "cell_type": "code",
      "source": [
        "for ITER in range(100):\n",
        "    # Perform training\n",
        "    random.shuffle(train)\n",
        "    train_loss = 0.0\n",
        "    start = time.time()\n",
        "    for words, tag in train:\n",
        "        my_loss = dy.pickneglogsoftmax(calc_scores(words), tag)\n",
        "        train_loss += my_loss.value()\n",
        "        my_loss.backward()\n",
        "        trainer.update()\n",
        "    print(\"iter %r: train loss/sent=%.4f, time=%.2fs\" % (ITER, train_loss / len(train), time.time() - start))\n",
        "    # Perform training\n",
        "    test_correct = 0.0\n",
        "    for words, tag in dev:\n",
        "        scores = calc_scores(words).npvalue()\n",
        "        predict = np.argmax(scores)\n",
        "        if predict == tag:\n",
        "            test_correct += 1\n",
        "    print(\"iter %r: test acc=%.4f\" % (ITER, test_correct / len(dev)))"
      ],
      "execution_count": 2,
      "outputs": [
        {
          "output_type": "stream",
          "text": [
            "iter 0: train loss/sent=1.4910, time=36.87s\n",
            "iter 0: test acc=0.3701\n",
            "iter 1: train loss/sent=1.2269, time=37.10s\n",
            "iter 1: test acc=0.4005\n",
            "iter 2: train loss/sent=0.9949, time=36.94s\n",
            "iter 2: test acc=0.4100\n",
            "iter 3: train loss/sent=0.7487, time=36.94s\n",
            "iter 3: test acc=0.3701\n",
            "iter 4: train loss/sent=0.4808, time=37.06s\n",
            "iter 4: test acc=0.3593\n",
            "iter 5: train loss/sent=0.2781, time=36.73s\n",
            "iter 5: test acc=0.3683\n",
            "iter 6: train loss/sent=0.1411, time=36.27s\n",
            "iter 6: test acc=0.3710\n",
            "iter 7: train loss/sent=0.0636, time=36.31s\n",
            "iter 7: test acc=0.3747\n",
            "iter 8: train loss/sent=0.0331, time=36.28s\n",
            "iter 8: test acc=0.3566\n",
            "iter 9: train loss/sent=0.0234, time=36.50s\n",
            "iter 9: test acc=0.3502\n",
            "iter 10: train loss/sent=0.0152, time=36.47s\n",
            "iter 10: test acc=0.3647\n",
            "iter 11: train loss/sent=0.0084, time=36.34s\n",
            "iter 11: test acc=0.3529\n",
            "iter 12: train loss/sent=0.0097, time=36.43s\n",
            "iter 12: test acc=0.3670\n",
            "iter 13: train loss/sent=0.0108, time=36.46s\n",
            "iter 13: test acc=0.3480\n",
            "iter 14: train loss/sent=0.0143, time=36.97s\n",
            "iter 14: test acc=0.3561\n",
            "iter 15: train loss/sent=0.0112, time=37.29s\n",
            "iter 15: test acc=0.3602\n",
            "iter 16: train loss/sent=0.0067, time=37.10s\n",
            "iter 16: test acc=0.3620\n",
            "iter 17: train loss/sent=0.0053, time=37.25s\n",
            "iter 17: test acc=0.3624\n",
            "iter 18: train loss/sent=0.0061, time=37.37s\n",
            "iter 18: test acc=0.3597\n",
            "iter 19: train loss/sent=0.0050, time=36.79s\n",
            "iter 19: test acc=0.3661\n",
            "iter 20: train loss/sent=0.0038, time=36.44s\n",
            "iter 20: test acc=0.3624\n",
            "iter 21: train loss/sent=0.0053, time=36.45s\n",
            "iter 21: test acc=0.3566\n",
            "iter 22: train loss/sent=0.0058, time=36.51s\n",
            "iter 22: test acc=0.3629\n",
            "iter 23: train loss/sent=0.0089, time=37.44s\n",
            "iter 23: test acc=0.3557\n",
            "iter 24: train loss/sent=0.0067, time=37.35s\n",
            "iter 24: test acc=0.3543\n",
            "iter 25: train loss/sent=0.0028, time=37.38s\n",
            "iter 25: test acc=0.3525\n",
            "iter 26: train loss/sent=0.0063, time=38.52s\n",
            "iter 26: test acc=0.3593\n",
            "iter 27: train loss/sent=0.0065, time=39.21s\n",
            "iter 27: test acc=0.3552\n",
            "iter 28: train loss/sent=0.0051, time=37.48s\n",
            "iter 28: test acc=0.3439\n",
            "iter 29: train loss/sent=0.0041, time=37.14s\n",
            "iter 29: test acc=0.3633\n",
            "iter 30: train loss/sent=0.0028, time=38.16s\n",
            "iter 30: test acc=0.3498\n",
            "iter 31: train loss/sent=0.0052, time=37.58s\n",
            "iter 31: test acc=0.3579\n",
            "iter 32: train loss/sent=0.0062, time=37.40s\n",
            "iter 32: test acc=0.3570\n",
            "iter 33: train loss/sent=0.0026, time=37.60s\n",
            "iter 33: test acc=0.3466\n",
            "iter 34: train loss/sent=0.0030, time=36.55s\n",
            "iter 34: test acc=0.3452\n",
            "iter 35: train loss/sent=0.0051, time=36.60s\n",
            "iter 35: test acc=0.3525\n",
            "iter 36: train loss/sent=0.0039, time=36.64s\n",
            "iter 36: test acc=0.3566\n",
            "iter 37: train loss/sent=0.0019, time=36.79s\n"
          ],
          "name": "stdout"
        },
        {
          "output_type": "stream",
          "text": [
            "iter 37: test acc=0.3416\n",
            "iter 38: train loss/sent=0.0025, time=37.78s\n",
            "iter 38: test acc=0.3425\n",
            "iter 39: train loss/sent=0.0027, time=37.85s\n",
            "iter 39: test acc=0.3548\n",
            "iter 40: train loss/sent=0.0032, time=37.57s\n",
            "iter 40: test acc=0.3507\n",
            "iter 41: train loss/sent=0.0034, time=37.32s\n",
            "iter 41: test acc=0.3480\n",
            "iter 42: train loss/sent=0.0043, time=36.57s\n",
            "iter 42: test acc=0.3566\n",
            "iter 43: train loss/sent=0.0032, time=36.62s\n",
            "iter 43: test acc=0.3643\n",
            "iter 44: train loss/sent=0.0024, time=36.72s\n",
            "iter 44: test acc=0.3511\n",
            "iter 45: train loss/sent=0.0015, time=36.78s\n",
            "iter 45: test acc=0.3656\n",
            "iter 46: train loss/sent=0.0016, time=36.44s\n",
            "iter 46: test acc=0.3489\n",
            "iter 47: train loss/sent=0.0071, time=36.53s\n",
            "iter 47: test acc=0.3615\n",
            "iter 48: train loss/sent=0.0031, time=36.67s\n",
            "iter 48: test acc=0.3552\n",
            "iter 49: train loss/sent=0.0014, time=36.30s\n",
            "iter 49: test acc=0.3570\n",
            "iter 50: train loss/sent=0.0039, time=36.60s\n",
            "iter 50: test acc=0.3507\n",
            "iter 51: train loss/sent=0.0038, time=36.78s\n",
            "iter 51: test acc=0.3561\n",
            "iter 52: train loss/sent=0.0043, time=36.51s\n",
            "iter 52: test acc=0.3561\n",
            "iter 53: train loss/sent=0.0016, time=36.51s\n",
            "iter 53: test acc=0.3683\n",
            "iter 54: train loss/sent=0.0017, time=36.68s\n",
            "iter 54: test acc=0.3570\n",
            "iter 55: train loss/sent=0.0023, time=36.98s\n",
            "iter 55: test acc=0.3548\n",
            "iter 56: train loss/sent=0.0012, time=37.03s\n",
            "iter 56: test acc=0.3529\n",
            "iter 57: train loss/sent=0.0050, time=37.23s\n",
            "iter 57: test acc=0.3443\n",
            "iter 58: train loss/sent=0.0015, time=37.27s\n",
            "iter 58: test acc=0.3543\n",
            "iter 59: train loss/sent=0.0050, time=36.90s\n",
            "iter 59: test acc=0.3561\n",
            "iter 60: train loss/sent=0.0044, time=37.28s\n",
            "iter 60: test acc=0.3534\n",
            "iter 61: train loss/sent=0.0036, time=37.23s\n",
            "iter 61: test acc=0.3520\n",
            "iter 62: train loss/sent=0.0013, time=36.93s\n",
            "iter 62: test acc=0.3656\n",
            "iter 63: train loss/sent=0.0029, time=36.53s\n",
            "iter 63: test acc=0.3579\n",
            "iter 64: train loss/sent=0.0037, time=36.66s\n",
            "iter 64: test acc=0.3620\n",
            "iter 65: train loss/sent=0.0002, time=36.58s\n",
            "iter 65: test acc=0.3557\n",
            "iter 66: train loss/sent=0.0026, time=36.58s\n",
            "iter 66: test acc=0.3548\n",
            "iter 67: train loss/sent=0.0037, time=36.94s\n",
            "iter 67: test acc=0.3652\n",
            "iter 68: train loss/sent=0.0022, time=36.65s\n",
            "iter 68: test acc=0.3561\n",
            "iter 69: train loss/sent=0.0024, time=37.65s\n",
            "iter 69: test acc=0.3557\n",
            "iter 70: train loss/sent=0.0017, time=38.08s\n",
            "iter 70: test acc=0.3561\n",
            "iter 71: train loss/sent=0.0008, time=37.92s\n",
            "iter 71: test acc=0.3543\n",
            "iter 72: train loss/sent=0.0016, time=38.09s\n",
            "iter 72: test acc=0.3561\n",
            "iter 73: train loss/sent=0.0016, time=38.11s\n",
            "iter 73: test acc=0.3620\n",
            "iter 74: train loss/sent=0.0022, time=38.12s\n",
            "iter 74: test acc=0.3575\n"
          ],
          "name": "stdout"
        },
        {
          "output_type": "stream",
          "text": [
            "iter 75: train loss/sent=0.0012, time=37.95s\n",
            "iter 75: test acc=0.3715\n",
            "iter 76: train loss/sent=0.0022, time=37.84s\n",
            "iter 76: test acc=0.3715\n",
            "iter 77: train loss/sent=0.0028, time=37.80s\n",
            "iter 77: test acc=0.3588\n",
            "iter 78: train loss/sent=0.0004, time=38.02s\n",
            "iter 78: test acc=0.3538\n",
            "iter 79: train loss/sent=0.0015, time=37.71s\n",
            "iter 79: test acc=0.3516\n",
            "iter 80: train loss/sent=0.0024, time=37.73s\n",
            "iter 80: test acc=0.3633\n",
            "iter 81: train loss/sent=0.0033, time=37.24s\n",
            "iter 81: test acc=0.3543\n",
            "iter 82: train loss/sent=0.0042, time=36.48s\n",
            "iter 82: test acc=0.3602\n",
            "iter 83: train loss/sent=0.0014, time=37.95s\n",
            "iter 83: test acc=0.3570\n",
            "iter 84: train loss/sent=0.0018, time=38.33s\n",
            "iter 84: test acc=0.3643\n",
            "iter 85: train loss/sent=0.0006, time=38.05s\n",
            "iter 85: test acc=0.3543\n",
            "iter 86: train loss/sent=0.0017, time=38.57s\n",
            "iter 86: test acc=0.3566\n",
            "iter 87: train loss/sent=0.0049, time=38.39s\n",
            "iter 87: test acc=0.3579\n",
            "iter 88: train loss/sent=0.0007, time=38.07s\n",
            "iter 88: test acc=0.3611\n",
            "iter 89: train loss/sent=0.0009, time=37.66s\n",
            "iter 89: test acc=0.3529\n",
            "iter 90: train loss/sent=0.0033, time=37.16s\n",
            "iter 90: test acc=0.3425\n",
            "iter 91: train loss/sent=0.0062, time=36.72s\n",
            "iter 91: test acc=0.3489\n",
            "iter 92: train loss/sent=0.0029, time=36.85s\n",
            "iter 92: test acc=0.3602\n",
            "iter 93: train loss/sent=0.0043, time=36.66s\n",
            "iter 93: test acc=0.3502\n",
            "iter 94: train loss/sent=0.0037, time=37.21s\n",
            "iter 94: test acc=0.3507\n",
            "iter 95: train loss/sent=0.0011, time=36.81s\n",
            "iter 95: test acc=0.3665\n",
            "iter 96: train loss/sent=0.0014, time=37.32s\n",
            "iter 96: test acc=0.3557\n",
            "iter 97: train loss/sent=0.0034, time=37.24s\n",
            "iter 97: test acc=0.3511\n",
            "iter 98: train loss/sent=0.0031, time=36.51s\n",
            "iter 98: test acc=0.3584\n",
            "iter 99: train loss/sent=0.0011, time=37.65s\n",
            "iter 99: test acc=0.3471\n"
          ],
          "name": "stdout"
        }
      ]
    }
  ]
}