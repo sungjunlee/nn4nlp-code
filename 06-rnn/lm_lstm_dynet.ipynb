{
  "nbformat": 4,
  "nbformat_minor": 0,
  "metadata": {
    "colab": {
      "name": "lm-lstm-dynet.ipynb",
      "version": "0.3.2",
      "views": {},
      "default_view": {},
      "provenance": [],
      "collapsed_sections": []
    }
  },
  "cells": [
    {
      "metadata": {
        "id": "W4B98vgaEb-k",
        "colab_type": "code",
        "colab": {
          "autoexec": {
            "startup": false,
            "wait_interval": 0
          },
          "base_uri": "https://localhost:8080/",
          "height": 289
        },
        "outputId": "94660db9-4b32-4b29-d4e6-d8132801c77a",
        "executionInfo": {
          "status": "ok",
          "timestamp": 1527768073108,
          "user_tz": -540,
          "elapsed": 14512,
          "user": {
            "displayName": "Sungjun Lee",
            "photoUrl": "https://lh3.googleusercontent.com/a/default-user=s128",
            "userId": "107995332831641667384"
          }
        }
      },
      "cell_type": "code",
      "source": [
        "!pip install dynet\n",
        "!git clone https://github.com/neubig/nn4nlp-code.git"
      ],
      "execution_count": 1,
      "outputs": [
        {
          "output_type": "stream",
          "text": [
            "Collecting dynet\n",
            "\u001b[?25l  Downloading https://files.pythonhosted.org/packages/4f/de/181a8380e9fdb89d9aa5838059336bb535503d5f2053e621438e69081407/dyNET-2.0.3-cp27-cp27mu-manylinux1_x86_64.whl (27.6MB)\n",
            "\u001b[K    100% |████████████████████████████████| 27.6MB 1.1MB/s \n",
            "\u001b[?25hRequirement already satisfied: numpy in /usr/local/lib/python2.7/dist-packages (from dynet) (1.14.3)\n",
            "Collecting cython (from dynet)\n",
            "\u001b[?25l  Downloading https://files.pythonhosted.org/packages/f6/23/ef5521e077e9e7ef8e4603e27713ae95fee69e9c19c7cd036b4299c7ced5/Cython-0.28.3-cp27-cp27mu-manylinux1_x86_64.whl (3.3MB)\n",
            "\u001b[K    100% |████████████████████████████████| 3.3MB 10.5MB/s \n",
            "\u001b[?25hInstalling collected packages: cython, dynet\n",
            "Successfully installed cython-0.28.3 dynet-2.0.3\n",
            "Cloning into 'nn4nlp-code'...\n",
            "remote: Counting objects: 372, done.\u001b[K\n",
            "remote: Total 372 (delta 0), reused 0 (delta 0), pack-reused 372\u001b[K\n",
            "Receiving objects: 100% (372/372), 6.33 MiB | 19.81 MiB/s, done.\n",
            "Resolving deltas: 100% (131/131), done.\n"
          ],
          "name": "stdout"
        }
      ]
    },
    {
      "metadata": {
        "id": "jUTdPKhNE9mL",
        "colab_type": "code",
        "colab": {
          "autoexec": {
            "startup": false,
            "wait_interval": 0
          }
        }
      },
      "cell_type": "code",
      "source": [
        "from __future__ import print_function\n",
        "import time\n",
        "\n",
        "start = time.time()\n",
        "\n",
        "from collections import Counter, defaultdict\n",
        "import random\n",
        "import math\n",
        "import sys\n",
        "import argparse\n",
        "\n",
        "import dynet as dy\n",
        "import numpy as np"
      ],
      "execution_count": 0,
      "outputs": []
    },
    {
      "metadata": {
        "id": "q9upCi1XE_Gu",
        "colab_type": "code",
        "colab": {
          "autoexec": {
            "startup": false,
            "wait_interval": 0
          }
        }
      },
      "cell_type": "code",
      "source": [
        "# format of files: each line is \"word1 word2 ...\"\n",
        "train_file = \"nn4nlp-code/data/ptb/train.txt\"\n",
        "test_file = \"nn4nlp-code/data/ptb/valid.txt\"\n",
        "\n",
        "w2i = defaultdict(lambda: len(w2i))\n",
        "\n",
        "\n",
        "def read(fname):\n",
        "    \"\"\"\n",
        "    Read a file where each line is of the form \"word1 word2 ...\"\n",
        "    Yields lists of the form [word1, word2, ...]\n",
        "    \"\"\"\n",
        "    with open(fname, \"r\") as fh:\n",
        "        for line in fh:\n",
        "            sent = [w2i[x] for x in line.strip().split()]\n",
        "            sent.append(w2i[\"<s>\"])\n",
        "            yield sent\n",
        "\n",
        "\n",
        "train = list(read(train_file))\n",
        "nwords = len(w2i)\n",
        "test = list(read(test_file))\n",
        "S = w2i[\"<s>\"]\n",
        "assert (nwords == len(w2i))"
      ],
      "execution_count": 0,
      "outputs": []
    },
    {
      "metadata": {
        "id": "IG76Yy3kFBGW",
        "colab_type": "code",
        "colab": {
          "autoexec": {
            "startup": false,
            "wait_interval": 0
          }
        }
      },
      "cell_type": "code",
      "source": [
        "# DyNet Starts\n",
        "model = dy.Model()\n",
        "trainer = dy.AdamTrainer(model)\n",
        "\n",
        "# Lookup parameters for word embeddings\n",
        "EMBED_SIZE = 64\n",
        "HIDDEN_SIZE = 128\n",
        "WORDS_LOOKUP = model.add_lookup_parameters((nwords, EMBED_SIZE))\n",
        "\n",
        "# Word-level LSTM (layers=1, input=64, output=128, model)\n",
        "RNN = dy.LSTMBuilder(1, EMBED_SIZE, HIDDEN_SIZE, model)\n",
        "\n",
        "# Softmax weights/biases on top of LSTM outputs\n",
        "W_sm = model.add_parameters((nwords, HIDDEN_SIZE))\n",
        "b_sm = model.add_parameters(nwords)\n",
        "\n",
        "\n",
        "# Build the language model graph\n",
        "def calc_lm_loss(sent):\n",
        "    dy.renew_cg()\n",
        "    # parameters -> expressions\n",
        "    W_exp = dy.parameter(W_sm)\n",
        "    b_exp = dy.parameter(b_sm)\n",
        "\n",
        "    # initialize the RNN\n",
        "    f_init = RNN.initial_state()\n",
        "\n",
        "    # get the wids and masks for each step\n",
        "    tot_words = len(sent)\n",
        "\n",
        "    # start the rnn by inputting \"<s>\"\n",
        "    s = f_init.add_input(WORDS_LOOKUP[S])\n",
        "\n",
        "    # feed word vectors into the RNN and predict the next word\n",
        "    losses = []\n",
        "    for wid in sent:\n",
        "        # calculate the softmax and loss\n",
        "        score = W_exp * s.output() + b_exp\n",
        "        loss = dy.pickneglogsoftmax(score, wid)\n",
        "        losses.append(loss)\n",
        "        # update the state of the RNN\n",
        "        wemb = WORDS_LOOKUP[wid]\n",
        "        s = s.add_input(wemb)\n",
        "\n",
        "    return dy.esum(losses), tot_words\n",
        "\n",
        "\n",
        "# Sort training sentences in descending order and count minibatches\n",
        "train_order = range(len(train))"
      ],
      "execution_count": 0,
      "outputs": []
    },
    {
      "metadata": {
        "id": "J1MWCIG6Ec1M",
        "colab_type": "code",
        "colab": {
          "autoexec": {
            "startup": false,
            "wait_interval": 0
          },
          "base_uri": "https://localhost:8080/",
          "height": 7253
        },
        "outputId": "63419927-7db6-4f61-cb9c-a7566989705c"
      },
      "cell_type": "code",
      "source": [
        "print(\"startup time: %r\" % (time.time() - start))\n",
        "# Perform training\n",
        "start = time.time()\n",
        "i = all_time = dev_time = all_tagged = this_words = this_loss = 0\n",
        "for ITER in range(100):\n",
        "    random.shuffle(train_order)\n",
        "    for sid in train_order:\n",
        "        i += 1\n",
        "        if i % int(500) == 0:\n",
        "            trainer.status()\n",
        "            print(this_loss / this_words, file=sys.stderr)\n",
        "            all_tagged += this_words\n",
        "            this_loss = this_words = 0\n",
        "            all_time = time.time() - start\n",
        "        if i % int(10000) == 0:\n",
        "            dev_start = time.time()\n",
        "            dev_loss = dev_words = 0\n",
        "            for sent in test:\n",
        "                loss_exp, mb_words = calc_lm_loss(sent)\n",
        "                dev_loss += loss_exp.scalar_value()\n",
        "                dev_words += mb_words\n",
        "            dev_time += time.time() - dev_start\n",
        "            train_time = time.time() - start - dev_time\n",
        "            print(\"nll=%.4f, ppl=%.4f, words=%r, time=%.4f, word_per_sec=%.4f\" % (\n",
        "            dev_loss / dev_words, math.exp(dev_loss / dev_words), dev_words, train_time, all_tagged / train_time))\n",
        "        # train on the minibatch\n",
        "        loss_exp, mb_words = calc_lm_loss(train[sid])\n",
        "        this_loss += loss_exp.scalar_value()\n",
        "        this_words += mb_words\n",
        "        loss_exp.backward()\n",
        "        trainer.update()\n",
        "    print(\"epoch %r finished\" % ITER)\n",
        "    trainer.update_epoch(1.0)"
      ],
      "execution_count": 0,
      "outputs": [
        {
          "output_type": "stream",
          "text": [
            "startup time: 1.5743510723114014\n"
          ],
          "name": "stdout"
        },
        {
          "output_type": "stream",
          "text": [
            "7.13827299469\n",
            "6.68372788932\n",
            "6.56000968153\n",
            "6.48601439531\n",
            "6.41959502674\n",
            "6.37209053545\n",
            "6.2874563398\n",
            "6.24974389991\n",
            "6.20393947699\n",
            "6.22451080823\n",
            "6.03801972917\n",
            "6.12050731624\n",
            "6.06029874266\n",
            "6.03172786914\n",
            "5.98755370178\n",
            "5.97345763071\n",
            "5.93895772363\n",
            "5.8454166822\n",
            "5.86689922595\n",
            "5.81222066633\n"
          ],
          "name": "stderr"
        },
        {
          "output_type": "stream",
          "text": [
            "nll=5.8437, ppl=345.0623, words=73760, time=541.3720, word_per_sec=409.1290\n"
          ],
          "name": "stdout"
        },
        {
          "output_type": "stream",
          "text": [
            "5.79615720606\n",
            "5.80938518573\n",
            "5.72593288831\n",
            "5.77341154408\n",
            "5.74417290724\n",
            "5.67134200219\n",
            "5.60873633325\n",
            "5.71535864284\n",
            "5.76652435086\n",
            "5.72160954594\n",
            "5.63925532553\n",
            "5.66350005485\n",
            "5.63274236004\n",
            "5.69882071044\n",
            "5.57804742479\n",
            "5.58517945686\n",
            "5.56072322416\n",
            "5.6069517123\n",
            "5.49212287856\n",
            "5.66331230684"
          ],
          "name": "stderr"
        },
        {
          "output_type": "stream",
          "text": [
            "nll=5.5961, ppl=269.3728, words=73760, time=1102.3300, word_per_sec=400.6649\n"
          ],
          "name": "stdout"
        },
        {
          "output_type": "stream",
          "text": [
            "\n",
            "5.60326360614\n",
            "5.56828683159\n",
            "5.52155342255\n",
            "5.54291894474\n",
            "5.5438365297\n",
            "5.55297619938\n",
            "5.45302811603\n",
            "5.43357549258\n",
            "5.50415297873\n",
            "5.48438971178\n",
            "5.50856491676\n",
            "5.48664953523\n",
            "5.44988535703\n",
            "5.43145093157\n",
            "5.54174557058\n",
            "5.49743947081\n",
            "5.46964364476\n",
            "5.46231223525\n",
            "5.5778975564\n",
            "5.4585915418\n"
          ],
          "name": "stderr"
        },
        {
          "output_type": "stream",
          "text": [
            "nll=5.4760, ppl=238.8821, words=73760, time=1617.6296, word_per_sec=409.2037\n"
          ],
          "name": "stdout"
        },
        {
          "output_type": "stream",
          "text": [
            "5.40576742058\n",
            "5.49219760756\n",
            "5.42438429566\n",
            "5.41305421014\n",
            "5.34943064159\n",
            "5.40813076417\n",
            "5.42343847327\n",
            "5.41369441914\n",
            "5.40307380458\n",
            "5.48832826515\n",
            "5.43962900312\n",
            "5.43060751134\n",
            "5.34307060646\n",
            "5.39962206578\n",
            "5.31177674769\n",
            "5.34375026923\n",
            "5.34094594876\n",
            "5.34451068655\n",
            "5.31610741409\n",
            "5.38514992829\n"
          ],
          "name": "stderr"
        },
        {
          "output_type": "stream",
          "text": [
            "nll=5.3938, ppl=220.0475, words=73760, time=2138.7431, word_per_sec=412.9056\n"
          ],
          "name": "stdout"
        },
        {
          "output_type": "stream",
          "text": [
            "5.41245563444\n",
            "5.32780871376\n",
            "5.41199616069\n",
            "5.32797385257\n"
          ],
          "name": "stderr"
        },
        {
          "output_type": "stream",
          "text": [
            "epoch 0 finished\n"
          ],
          "name": "stdout"
        },
        {
          "output_type": "stream",
          "text": [
            "5.29203374717\n",
            "5.24316151261\n",
            "5.11191251485\n",
            "5.17207399117\n",
            "5.22250087449\n",
            "5.18526077848\n",
            "5.16826281371\n",
            "5.22363877665\n",
            "5.16923231767\n",
            "5.16053822114\n",
            "5.11309971808\n",
            "5.28149341506\n",
            "5.28101823841\n",
            "5.22604056078\n",
            "5.19269865205\n",
            "5.22525116564\n"
          ],
          "name": "stderr"
        },
        {
          "output_type": "stream",
          "text": [
            "nll=5.3521, ppl=211.0434, words=73760, time=2652.7506, word_per_sec=416.3788\n"
          ],
          "name": "stdout"
        },
        {
          "output_type": "stream",
          "text": [
            "5.15558300949\n",
            "5.10378297743\n",
            "5.20394305653\n",
            "5.25490003954\n",
            "5.21285855904\n",
            "5.22243514138\n",
            "5.29237304725\n",
            "5.28920646352\n",
            "5.1787725695\n",
            "5.21304962849\n",
            "5.08591081371\n",
            "5.10148259892\n",
            "5.22727288526\n",
            "5.12529780215\n",
            "5.18294285856\n",
            "5.15041936569\n",
            "5.14122186468\n",
            "5.16989877137\n",
            "5.13088498173\n",
            "5.24200942079\n"
          ],
          "name": "stderr"
        },
        {
          "output_type": "stream",
          "text": [
            "nll=5.3176, ppl=203.8883, words=73760, time=3172.0679, word_per_sec=418.2051\n"
          ],
          "name": "stdout"
        },
        {
          "output_type": "stream",
          "text": [
            "5.16379000838\n",
            "5.2519836188\n",
            "5.15643274643\n",
            "5.19646079856\n",
            "5.08433802657\n",
            "5.18758335985\n",
            "5.18093749059\n",
            "5.03179717961\n",
            "5.18113488226\n",
            "5.11118929767\n",
            "5.21866854659\n",
            "5.19067934323\n",
            "5.22487256346\n",
            "5.1281171775\n",
            "5.176186534\n",
            "5.08659060371\n",
            "5.18320135033\n",
            "5.10718225908\n",
            "5.1643815706\n",
            "5.17418917686\n"
          ],
          "name": "stderr"
        },
        {
          "output_type": "stream",
          "text": [
            "nll=5.2919, ppl=198.7180, words=73760, time=3684.0643, word_per_sec=419.8282\n"
          ],
          "name": "stdout"
        },
        {
          "output_type": "stream",
          "text": [
            "5.08725284182\n",
            "5.18750657707\n",
            "5.17996684319\n",
            "5.18571003543\n",
            "5.2189700388\n",
            "5.06652752732\n",
            "5.21722251273\n",
            "5.07079000215\n",
            "5.11676094104\n",
            "5.1967884564\n",
            "5.15276457278\n",
            "5.16796241171\n",
            "5.21695697846\n",
            "5.10565969401\n",
            "5.15014041062\n",
            "5.12258350957\n",
            "5.1245775891\n",
            "5.15459356652\n",
            "5.09261295989\n",
            "5.1604620696\n"
          ],
          "name": "stderr"
        },
        {
          "output_type": "stream",
          "text": [
            "nll=5.2551, ppl=191.5343, words=73760, time=4254.0007, word_per_sec=415.4240\n"
          ],
          "name": "stdout"
        },
        {
          "output_type": "stream",
          "text": [
            "5.18817154271\n",
            "5.16895981322\n",
            "5.07355719775\n",
            "5.18825254981\n",
            "5.12671319326\n",
            "5.1749644008\n",
            "5.0713480581\n",
            "5.1159221129\n"
          ],
          "name": "stderr"
        },
        {
          "output_type": "stream",
          "text": [
            "epoch 1 finished\n"
          ],
          "name": "stdout"
        },
        {
          "output_type": "stream",
          "text": [
            "4.97057674728\n",
            "4.9944453667\n",
            "4.95889981725\n",
            "4.89614205198\n",
            "4.89073198472\n",
            "4.97882679847\n",
            "4.90557561336\n",
            "5.02620715516\n",
            "4.99074187437\n",
            "4.94921378772\n",
            "4.96216497786\n",
            "4.92798497437\n"
          ],
          "name": "stderr"
        },
        {
          "output_type": "stream",
          "text": [
            "nll=5.2529, ppl=191.1192, words=73760, time=4803.4075, word_per_sec=414.1481\n"
          ],
          "name": "stdout"
        },
        {
          "output_type": "stream",
          "text": [
            "5.0455947966\n",
            "4.86722804174\n",
            "4.99976006317\n",
            "5.03526972435\n",
            "4.97199427063\n",
            "4.95130373489\n",
            "4.9628480353\n",
            "4.9574815688\n",
            "5.00569229414\n",
            "5.00140695011\n",
            "4.95769079827\n",
            "4.96788953568\n",
            "4.97780652424\n",
            "5.00976601968\n",
            "4.97022266184\n",
            "5.03123904694\n",
            "5.01865884999\n",
            "5.01502736428\n",
            "4.96678453556\n",
            "4.96686009381\n"
          ],
          "name": "stderr"
        },
        {
          "output_type": "stream",
          "text": [
            "nll=5.2250, ppl=185.8543, words=73760, time=5635.0056, word_per_sec=392.4083\n"
          ],
          "name": "stdout"
        },
        {
          "output_type": "stream",
          "text": [
            "5.0134905173\n",
            "4.96511253147\n",
            "4.96838872069\n",
            "5.03218391085\n",
            "5.07595872302\n",
            "4.95248603217\n",
            "4.9995731367\n",
            "5.07845263449\n",
            "4.96658564516\n",
            "4.9191736337\n",
            "4.97647522795\n",
            "4.9815864571\n",
            "5.04884630594\n",
            "4.94204309024\n",
            "4.98035747864\n",
            "5.02645306851\n",
            "5.01410484473\n",
            "4.98776444579\n",
            "4.99302262815\n",
            "4.97139605216\n"
          ],
          "name": "stderr"
        },
        {
          "output_type": "stream",
          "text": [
            "nll=5.2085, ppl=182.8206, words=73760, time=6476.2739, word_per_sec=375.3155\n"
          ],
          "name": "stdout"
        },
        {
          "output_type": "stream",
          "text": [
            "5.1019404817\n",
            "5.08724183105\n",
            "5.03247539222\n",
            "5.00815061508\n",
            "4.96571629127\n",
            "5.00955189134\n",
            "4.99214627459\n",
            "5.03696748711\n",
            "5.04215865412\n",
            "5.01705293984\n",
            "5.01737535295\n",
            "4.99842077604\n",
            "4.96613429321\n",
            "5.02256667209\n",
            "5.03518358678\n",
            "4.99057816365\n",
            "5.0144504009\n",
            "4.98816747845\n",
            "4.99500405967\n",
            "4.9627097043\n"
          ],
          "name": "stderr"
        },
        {
          "output_type": "stream",
          "text": [
            "nll=5.1935, ppl=180.0911, words=73760, time=7310.1414, word_per_sec=362.8168\n"
          ],
          "name": "stdout"
        },
        {
          "output_type": "stream",
          "text": [
            "5.04292155946\n",
            "5.00946773848\n",
            "4.97607301428\n",
            "5.02785509796\n",
            "5.01683640459\n",
            "4.91564281397\n",
            "5.01801782137\n",
            "5.06497876356\n",
            "4.9760113271\n",
            "5.02177533317\n",
            "5.03372880499\n",
            "5.00021407183\n"
          ],
          "name": "stderr"
        },
        {
          "output_type": "stream",
          "text": [
            "epoch 2 finished\n"
          ],
          "name": "stdout"
        },
        {
          "output_type": "stream",
          "text": [
            "4.82750659572\n",
            "4.70206766446\n",
            "4.84491064337\n",
            "4.81180234445\n",
            "4.78885094028\n",
            "4.90836786491\n",
            "4.8406313113\n",
            "4.78400079052\n"
          ],
          "name": "stderr"
        },
        {
          "output_type": "stream",
          "text": [
            "nll=5.1963, ppl=180.6059, words=73760, time=8174.8702, word_per_sec=351.4515\n"
          ],
          "name": "stdout"
        },
        {
          "output_type": "stream",
          "text": [
            "4.80809048233\n",
            "4.83197195438\n",
            "4.8390549243\n",
            "4.84406486121\n",
            "4.75441796837\n",
            "4.80943137794\n",
            "4.8601280246\n",
            "4.84029574248\n",
            "4.85397066537\n",
            "4.87411547738\n",
            "4.93811393247\n",
            "4.94845296827\n",
            "4.82563077108\n",
            "4.77974389753\n",
            "4.89647271342\n",
            "4.90526842008\n",
            "4.84498317483\n",
            "4.872687275\n",
            "4.8955785678\n",
            "4.82944000508\n"
          ],
          "name": "stderr"
        },
        {
          "output_type": "stream",
          "text": [
            "nll=5.1907, ppl=179.5978, words=73760, time=8835.2329, word_per_sec=350.0582\n"
          ],
          "name": "stdout"
        },
        {
          "output_type": "stream",
          "text": [
            "4.84307931232\n",
            "5.01044274075\n",
            "4.90021608675\n",
            "4.78352179228\n",
            "4.94893919472\n",
            "4.85791917638\n",
            "4.85416843902\n",
            "4.96084296515\n",
            "4.81437607311\n",
            "4.92999126143\n",
            "4.91094276712\n",
            "4.8435356027\n",
            "4.84419598282\n",
            "4.87374449634\n",
            "4.89756374736\n",
            "4.90545188847\n",
            "4.96775848607\n",
            "4.91326324096\n",
            "4.94277935707\n",
            "4.83523429665\n"
          ],
          "name": "stderr"
        },
        {
          "output_type": "stream",
          "text": [
            "nll=5.1789, ppl=177.4872, words=73760, time=9580.1337, word_per_sec=346.0787\n"
          ],
          "name": "stdout"
        },
        {
          "output_type": "stream",
          "text": [
            "4.93106753939\n",
            "4.89697291807\n",
            "4.82680927088\n",
            "4.89521662653\n",
            "4.95381030598\n",
            "4.88557286453\n",
            "4.8652371724\n",
            "4.90917584892\n",
            "4.92080321064\n",
            "4.89327156684\n",
            "4.89620714557\n",
            "5.00639929103\n",
            "4.93253617473\n",
            "4.94882165399\n",
            "4.94143612206\n",
            "4.86901020583\n",
            "4.84016516411\n",
            "4.98391814592\n",
            "4.91233789675\n",
            "4.87917740008\n"
          ],
          "name": "stderr"
        },
        {
          "output_type": "stream",
          "text": [
            "nll=5.1718, ppl=176.2258, words=73760, time=10197.6581, word_per_sec=346.6823\n"
          ],
          "name": "stdout"
        },
        {
          "output_type": "stream",
          "text": [
            "4.96372507539\n",
            "4.95950446973\n",
            "4.88961972938\n",
            "4.90763167254\n",
            "4.93527888489\n",
            "4.92850976542\n",
            "4.96134477416\n",
            "4.9583327596\n",
            "4.93580117182\n",
            "4.86260777347\n",
            "4.91244940705\n",
            "4.8860988276\n",
            "4.90103601586\n",
            "4.86991178253\n",
            "5.00066448189\n",
            "4.84149971263\n"
          ],
          "name": "stderr"
        },
        {
          "output_type": "stream",
          "text": [
            "epoch 3 finished\n"
          ],
          "name": "stdout"
        },
        {
          "output_type": "stream",
          "text": [
            "4.80687811038\n",
            "4.81155921894\n",
            "4.75644301998\n",
            "4.74821407118\n"
          ],
          "name": "stderr"
        },
        {
          "output_type": "stream",
          "text": [
            "nll=5.1653, ppl=175.0879, words=73760, time=10737.0382, word_per_sec=349.8818\n"
          ],
          "name": "stdout"
        },
        {
          "output_type": "stream",
          "text": [
            "4.71188926205\n",
            "4.73072816182\n",
            "4.77958321832\n",
            "4.72241238893\n",
            "4.81545596829\n",
            "4.78612998041\n",
            "4.75512575462\n",
            "4.70760169908\n",
            "4.75316895817\n",
            "4.76525193084\n",
            "4.84469466928\n",
            "4.70227915235\n",
            "4.70296871699\n",
            "4.75268968841\n",
            "4.78268377919\n",
            "4.84372124714\n",
            "4.77149611795\n",
            "4.76996271103\n",
            "4.76947084732\n",
            "4.78165042415\n"
          ],
          "name": "stderr"
        },
        {
          "output_type": "stream",
          "text": [
            "nll=5.1784, ppl=177.4007, words=73760, time=11298.5882, word_per_sec=352.0965\n"
          ],
          "name": "stdout"
        },
        {
          "output_type": "stream",
          "text": [
            "4.73218762579\n",
            "4.80014401729\n",
            "4.747198863\n",
            "4.79126945858\n",
            "4.86790455179\n",
            "4.76561869318\n",
            "4.83957683001\n",
            "4.81246307843\n",
            "4.81886903976\n",
            "4.8017248505\n",
            "4.7647577226\n",
            "4.79305894896\n",
            "4.87221781529\n",
            "4.70734495608\n",
            "4.83874116387\n",
            "4.73478614637\n",
            "4.74540598692\n",
            "4.76766161521\n",
            "4.76566182696\n"
          ],
          "name": "stderr"
        }
      ]
    }
  ]
}