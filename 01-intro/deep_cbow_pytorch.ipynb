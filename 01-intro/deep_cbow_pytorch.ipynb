{
  "nbformat": 4,
  "nbformat_minor": 0,
  "metadata": {
    "colab": {
      "name": "deep-cbow-pytorch.ipynb",
      "version": "0.3.2",
      "views": {},
      "default_view": {},
      "provenance": [],
      "collapsed_sections": []
    },
    "kernelspec": {
      "name": "python3",
      "display_name": "Python 3"
    }
  },
  "cells": [
    {
      "metadata": {
        "id": "W4QMtc-RyCji",
        "colab_type": "code",
        "colab": {
          "autoexec": {
            "startup": false,
            "wait_interval": 0
          },
          "base_uri": "https://localhost:8080/",
          "height": 125
        },
        "outputId": "ce5de3df-aeb9-40e1-e58b-d74cbf91b7ca",
        "executionInfo": {
          "status": "ok",
          "timestamp": 1525267616135,
          "user_tz": -540,
          "elapsed": 8061,
          "user": {
            "displayName": "Sungjun Lee",
            "photoUrl": "https://lh3.googleusercontent.com/a/default-user=s128",
            "userId": "107995332831641667384"
          }
        }
      },
      "cell_type": "code",
      "source": [
        "!pip install torch torchvision\n",
        "!git clone https://github.com/neubig/nn4nlp-code.git"
      ],
      "execution_count": 1,
      "outputs": [
        {
          "output_type": "stream",
          "text": [
            "Requirement already satisfied: torch in /usr/local/lib/python3.6/dist-packages (0.4.0)\r\n",
            "Requirement already satisfied: torchvision in /usr/local/lib/python3.6/dist-packages (0.2.1)\r\n",
            "Requirement already satisfied: numpy in /usr/local/lib/python3.6/dist-packages (from torchvision) (1.14.3)\r\n",
            "Requirement already satisfied: six in /usr/local/lib/python3.6/dist-packages (from torchvision) (1.11.0)\r\n",
            "Requirement already satisfied: pillow>=4.1.1 in /usr/local/lib/python3.6/dist-packages (from torchvision) (5.1.0)\n",
            "fatal: destination path 'nn4nlp-code' already exists and is not an empty directory.\n"
          ],
          "name": "stdout"
        }
      ]
    },
    {
      "metadata": {
        "id": "Xp5EXx6GyJx7",
        "colab_type": "code",
        "colab": {
          "autoexec": {
            "startup": false,
            "wait_interval": 0
          }
        }
      },
      "cell_type": "code",
      "source": [
        "from collections import defaultdict\n",
        "import time\n",
        "import random\n",
        "import torch\n",
        "import torch.nn as nn\n",
        "import numpy as np"
      ],
      "execution_count": 0,
      "outputs": []
    },
    {
      "metadata": {
        "id": "pJ-_Tf7AyOGN",
        "colab_type": "code",
        "colab": {
          "autoexec": {
            "startup": false,
            "wait_interval": 0
          }
        }
      },
      "cell_type": "code",
      "source": [
        "# Functions to read in the corpus\n",
        "w2i = defaultdict(lambda: len(w2i))\n",
        "t2i = defaultdict(lambda: len(t2i))\n",
        "UNK = w2i[\"<unk>\"]\n",
        "def read_dataset(filename):\n",
        "  with open(filename, \"r\") as f:\n",
        "    for line in f:\n",
        "      tag, words = line.lower().strip().split(\" ||| \")\n",
        "      yield ([w2i[x] for x in words.split(\" \")], t2i[tag])\n",
        "\n",
        "# Read in the data\n",
        "train = list(read_dataset(\"nn4nlp-code/data/classes/train.txt\"))\n",
        "w2i = defaultdict(lambda: UNK, w2i)\n",
        "dev = list(read_dataset(\"nn4nlp-code/data/classes/test.txt\"))\n",
        "nwords = len(w2i)\n",
        "ntags = len(t2i)"
      ],
      "execution_count": 0,
      "outputs": []
    },
    {
      "metadata": {
        "id": "wzjrlC6cyqTs",
        "colab_type": "code",
        "colab": {
          "autoexec": {
            "startup": false,
            "wait_interval": 0
          }
        }
      },
      "cell_type": "code",
      "source": [
        "class Model(nn.Module):\n",
        "  def __init__(self, emb_size, hid_size, hid_lay):\n",
        "    super(Model, self).__init__()\n",
        "    self.embeddings = nn.Embedding(nwords, emb_size)\n",
        "    linears = []\n",
        "    for lay in range(hid_lay-1):\n",
        "      in_dim = emb_size if lay == 0 else hid_size\n",
        "      linears += [nn.Linear(in_dim, hid_size), nn.Tanh()]\n",
        "    linears += [nn.Linear(emb_size, ntags)]\n",
        "    self.fc = nn.Sequential(*linears)\n",
        "  \n",
        "  def forward(self, x):\n",
        "    embed_out = self.embeddings(x)\n",
        "    score = self.fc(embed_out.sum(0))\n",
        "    return score"
      ],
      "execution_count": 0,
      "outputs": []
    },
    {
      "metadata": {
        "id": "NhRITDgoyyzr",
        "colab_type": "code",
        "colab": {
          "autoexec": {
            "startup": false,
            "wait_interval": 0
          }
        }
      },
      "cell_type": "code",
      "source": [
        "model = Model(64, 64, 2)\n",
        "loss_fn = nn.CrossEntropyLoss()\n",
        "optim = torch.optim.Adam(model.parameters())"
      ],
      "execution_count": 0,
      "outputs": []
    },
    {
      "metadata": {
        "id": "YgU2q_kO2aQe",
        "colab_type": "code",
        "colab": {
          "autoexec": {
            "startup": false,
            "wait_interval": 0
          },
          "base_uri": "https://localhost:8080/",
          "height": 161
        },
        "outputId": "ac30bc49-cf1f-4950-e396-5712c2ed513b",
        "executionInfo": {
          "status": "ok",
          "timestamp": 1525268703311,
          "user_tz": -540,
          "elapsed": 2192,
          "user": {
            "displayName": "Sungjun Lee",
            "photoUrl": "https://lh3.googleusercontent.com/a/default-user=s128",
            "userId": "107995332831641667384"
          }
        }
      },
      "cell_type": "code",
      "source": [
        "model, len(train)"
      ],
      "execution_count": 58,
      "outputs": [
        {
          "output_type": "execute_result",
          "data": {
            "text/plain": [
              "(Model(\n",
              "   (embeddings): Embedding(18648, 64)\n",
              "   (fc): Sequential(\n",
              "     (0): Linear(in_features=64, out_features=64, bias=True)\n",
              "     (1): Tanh()\n",
              "     (2): Linear(in_features=64, out_features=5, bias=True)\n",
              "   )\n",
              " ), 8544)"
            ]
          },
          "metadata": {
            "tags": []
          },
          "execution_count": 58
        }
      ]
    },
    {
      "metadata": {
        "id": "0noOIBFqyzkU",
        "colab_type": "code",
        "colab": {
          "autoexec": {
            "startup": false,
            "wait_interval": 0
          },
          "base_uri": "https://localhost:8080/",
          "height": 593
        },
        "outputId": "a79f9cda-c697-43fe-be61-54e2e1685ff3"
      },
      "cell_type": "code",
      "source": [
        "for ITER in range(100):\n",
        "  random.shuffle(train)\n",
        "  train_loss = 0.0\n",
        "  start = time.time()\n",
        "  model.train(True)\n",
        "  for words, tag in train:\n",
        "    words = torch.LongTensor(words)\n",
        "    tag = torch.LongTensor([tag])\n",
        "    model.zero_grad()\n",
        "    \n",
        "    logits = model(words)\n",
        "#     print(logits.shape)\n",
        "#     print(tag.shape)\n",
        "    my_loss = loss_fn(logits.view(-1, 5), tag)\n",
        "#     my_loss = loss_fn(logits, tag)\n",
        "    train_loss += my_loss.data\n",
        "    my_loss.backward()\n",
        "    optim.step()\n",
        "  print(\"iter %r: train loss/sent=%.4f, time=%.2fs\" % (ITER, train_loss/len(train), time.time() -start))\n",
        "  \n",
        "  test_correct = 0.0\n",
        "  model.train(False)\n",
        "  for words, tag in dev:\n",
        "    words = torch.LongTensor(words)\n",
        "    tag = torch.LongTensor([tag])\n",
        "    logits = model(words)\n",
        "    predict = torch.argmax(logits)\n",
        "    if predict == tag:\n",
        "      test_correct += 1\n",
        "  print(\"iter %r: test acc=%.4f\" % (ITER, test_correct/len(dev)))"
      ],
      "execution_count": 0,
      "outputs": [
        {
          "output_type": "stream",
          "text": [
            "iter 0: train loss/sent=1.5597, time=378.98s\n",
            "iter 0: test acc=0.3009\n",
            "iter 1: train loss/sent=1.3838, time=598.43s\n",
            "iter 1: test acc=0.3457\n",
            "iter 2: train loss/sent=1.1909, time=598.18s\n",
            "iter 2: test acc=0.3665\n",
            "iter 3: train loss/sent=1.0108, time=598.24s\n",
            "iter 3: test acc=0.3652\n",
            "iter 4: train loss/sent=0.8311, time=598.39s\n",
            "iter 4: test acc=0.3910\n",
            "iter 5: train loss/sent=0.6522, time=598.92s\n",
            "iter 5: test acc=0.3507\n",
            "iter 6: train loss/sent=0.4986, time=598.76s\n",
            "iter 6: test acc=0.3566\n",
            "iter 7: train loss/sent=0.3696, time=599.85s\n",
            "iter 7: test acc=0.3570\n",
            "iter 8: train loss/sent=0.2684, time=600.14s\n",
            "iter 8: test acc=0.3665\n",
            "iter 9: train loss/sent=0.1901, time=600.49s\n",
            "iter 9: test acc=0.3570\n",
            "iter 10: train loss/sent=0.1319, time=601.46s\n",
            "iter 10: test acc=0.3575\n",
            "iter 11: train loss/sent=0.1011, time=602.08s\n",
            "iter 11: test acc=0.3543\n",
            "iter 12: train loss/sent=0.0715, time=603.08s\n",
            "iter 12: test acc=0.3593\n",
            "iter 13: train loss/sent=0.0536, time=604.51s\n",
            "iter 13: test acc=0.3548\n",
            "iter 14: train loss/sent=0.0378, time=605.75s\n",
            "iter 14: test acc=0.3656\n",
            "iter 15: train loss/sent=0.0269, time=606.76s\n",
            "iter 15: test acc=0.3520\n"
          ],
          "name": "stdout"
        }
      ]
    },
    {
      "metadata": {
        "id": "b5s2z3JZy0i-",
        "colab_type": "code",
        "colab": {
          "autoexec": {
            "startup": false,
            "wait_interval": 0
          }
        }
      },
      "cell_type": "code",
      "source": [
        ""
      ],
      "execution_count": 0,
      "outputs": []
    }
  ]
}