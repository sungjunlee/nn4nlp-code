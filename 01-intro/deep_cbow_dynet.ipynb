{
  "nbformat": 4,
  "nbformat_minor": 0,
  "metadata": {
    "colab": {
      "name": "deep-cbow-dynet.ipynb",
      "version": "0.3.2",
      "views": {},
      "default_view": {},
      "provenance": [],
      "collapsed_sections": []
    }
  },
  "cells": [
    {
      "metadata": {
        "id": "WsSmZ4I_0I5R",
        "colab_type": "code",
        "colab": {
          "autoexec": {
            "startup": false,
            "wait_interval": 0
          },
          "base_uri": "https://localhost:8080/",
          "height": 235
        },
        "outputId": "d9bb05d2-7fe1-411e-d592-858a7d533ad0",
        "executionInfo": {
          "status": "ok",
          "timestamp": 1525096195366,
          "user_tz": -540,
          "elapsed": 10366,
          "user": {
            "displayName": "Sungjun Lee",
            "photoUrl": "https://lh3.googleusercontent.com/a/default-user=s128",
            "userId": "107995332831641667384"
          }
        }
      },
      "cell_type": "code",
      "source": [
        "!pip install dynet\n",
        "!git clone https://github.com/neubig/nn4nlp-code.git"
      ],
      "execution_count": 1,
      "outputs": [
        {
          "output_type": "stream",
          "text": [
            "Looking in indexes: https://pypi.org/simple, https://legacy.pypi.org/simple\r\n",
            "Collecting dynet\n",
            "\u001b[?25l  Downloading https://files.pythonhosted.org/packages/4f/de/181a8380e9fdb89d9aa5838059336bb535503d5f2053e621438e69081407/dyNET-2.0.3-cp27-cp27mu-manylinux1_x86_64.whl (27.6MB)\n",
            "\u001b[K    100% |████████████████████████████████| 27.6MB 834kB/s \n",
            "\u001b[?25hRequirement already satisfied: numpy in /usr/local/lib/python2.7/dist-packages (from dynet) (1.14.2)\n",
            "Collecting cython (from dynet)\n",
            "\u001b[?25l  Downloading https://files.pythonhosted.org/packages/fe/d6/a097bd9913cc0fc974b968f5586d3f0609f46ca58b2aae3b8dfd51c1fe18/Cython-0.28.2-cp27-cp27mu-manylinux1_x86_64.whl (3.3MB)\n",
            "\u001b[K    100% |████████████████████████████████| 3.3MB 12.6MB/s \n",
            "\u001b[?25hInstalling collected packages: cython, dynet\n",
            "Successfully installed cython-0.28.2 dynet-2.0.3\n",
            "fatal: destination path 'nn4nlp-code' already exists and is not an empty directory.\n"
          ],
          "name": "stdout"
        }
      ]
    },
    {
      "metadata": {
        "id": "0sOOilGG0FMM",
        "colab_type": "code",
        "colab": {
          "autoexec": {
            "startup": false,
            "wait_interval": 0
          }
        }
      },
      "cell_type": "code",
      "source": [
        "from collections import defaultdict\n",
        "import time\n",
        "import random\n",
        "import dynet as dy\n",
        "import numpy as np"
      ],
      "execution_count": 0,
      "outputs": []
    },
    {
      "metadata": {
        "id": "pI5_aY5e0QCa",
        "colab_type": "code",
        "colab": {
          "autoexec": {
            "startup": false,
            "wait_interval": 0
          }
        }
      },
      "cell_type": "code",
      "source": [
        "# Functions to read in the corpus\n",
        "w2i = defaultdict(lambda: len(w2i))\n",
        "t2i = defaultdict(lambda: len(t2i))\n",
        "UNK = w2i[\"<unk>\"]\n",
        "def read_dataset(filename):\n",
        "  with open(filename, \"r\") as f:\n",
        "    for line in f:\n",
        "      tag, words = line.lower().strip().split(\" ||| \")\n",
        "      yield ([w2i[x] for x in words.split(\" \")], t2i[tag])\n",
        "\n",
        "# Read in the data\n",
        "train = list(read_dataset(\"nn4nlp-code/data/classes/train.txt\"))\n",
        "w2i = defaultdict(lambda: UNK, w2i)\n",
        "dev = list(read_dataset(\"nn4nlp-code/data/classes/test.txt\"))\n",
        "nwords = len(w2i)\n",
        "ntags = len(t2i)"
      ],
      "execution_count": 0,
      "outputs": []
    },
    {
      "metadata": {
        "id": "-Fq7maG70TJ8",
        "colab_type": "code",
        "colab": {
          "autoexec": {
            "startup": false,
            "wait_interval": 0
          }
        }
      },
      "cell_type": "code",
      "source": [
        "# Start DyNet and define trainer\n",
        "model = dy.Model()\n",
        "trainer = dy.AdamTrainer(model)"
      ],
      "execution_count": 0,
      "outputs": []
    },
    {
      "metadata": {
        "id": "MPGNwhq50U44",
        "colab_type": "code",
        "colab": {
          "autoexec": {
            "startup": false,
            "wait_interval": 0
          }
        }
      },
      "cell_type": "code",
      "source": [
        "# Define the model\n",
        "EMB_SIZE = 64\n",
        "HID_SIZE = 64\n",
        "HID_LAY = 2\n",
        "W_emb = model.add_lookup_parameters((nwords, EMB_SIZE)) # Word embeddings\n",
        "W_h = [model.add_parameters((HID_SIZE, EMB_SIZE if lay == 0 else HID_SIZE)) for lay in range(HID_LAY)]\n",
        "b_h = [model.add_parameters((HID_SIZE)) for lay in range(HID_LAY)]\n",
        "W_sm = model.add_parameters((ntags, HID_SIZE))          # Softmax weights\n",
        "b_sm = model.add_parameters((ntags))                      # Softmax bias"
      ],
      "execution_count": 0,
      "outputs": []
    },
    {
      "metadata": {
        "id": "hy_KwtHR0aCW",
        "colab_type": "code",
        "colab": {
          "autoexec": {
            "startup": false,
            "wait_interval": 0
          }
        }
      },
      "cell_type": "code",
      "source": [
        "# A function to calculate scores for one value\n",
        "def calc_scores(words):\n",
        "  dy.renew_cg()\n",
        "  h = dy.esum([dy.lookup(W_emb, x) for x in words])\n",
        "  for W_h_i, b_h_i in zip(W_h, b_h):\n",
        "    h = dy.tanh( dy.parameter(W_h_i) * h + dy.parameter(b_h_i) )\n",
        "  return dy.parameter(W_sm) * h + dy.parameter(b_sm)"
      ],
      "execution_count": 0,
      "outputs": []
    },
    {
      "metadata": {
        "id": "osaafxEK0byg",
        "colab_type": "code",
        "colab": {
          "autoexec": {
            "startup": false,
            "wait_interval": 0
          },
          "base_uri": "https://localhost:8080/",
          "height": 3617
        },
        "outputId": "0e73ee3e-cf15-43c6-842b-98dc2061e754",
        "executionInfo": {
          "status": "ok",
          "timestamp": 1525096324899,
          "user_tz": -540,
          "elapsed": 85880,
          "user": {
            "displayName": "Sungjun Lee",
            "photoUrl": "https://lh3.googleusercontent.com/a/default-user=s128",
            "userId": "107995332831641667384"
          }
        }
      },
      "cell_type": "code",
      "source": [
        "for ITER in range(100):\n",
        "  # Perform training\n",
        "  random.shuffle(train)\n",
        "  train_loss = 0.0\n",
        "  start = time.time()\n",
        "  for words, tag in train:\n",
        "    my_loss = dy.pickneglogsoftmax(calc_scores(words), tag)\n",
        "    train_loss += my_loss.value()\n",
        "    my_loss.backward()\n",
        "    trainer.update()\n",
        "  print(\"iter %r: train loss/sent=%.4f, time=%.2fs\" % (ITER, train_loss/len(train), time.time()-start))\n",
        "  # Perform training\n",
        "  test_correct = 0.0\n",
        "  for words, tag in dev:\n",
        "    scores = calc_scores(words).npvalue()\n",
        "    predict = np.argmax(scores)\n",
        "    if predict == tag:\n",
        "      test_correct += 1\n",
        "  print(\"iter %r: test acc=%.4f\" % (ITER, test_correct/len(dev)))"
      ],
      "execution_count": 9,
      "outputs": [
        {
          "output_type": "stream",
          "text": [
            "iter 0: train loss/sent=1.5440, time=0.74s\n",
            "iter 0: test acc=0.3520\n",
            "iter 1: train loss/sent=1.2655, time=0.77s\n",
            "iter 1: test acc=0.3738\n",
            "iter 2: train loss/sent=1.0374, time=0.76s\n",
            "iter 2: test acc=0.3887\n",
            "iter 3: train loss/sent=0.8177, time=0.78s\n",
            "iter 3: test acc=0.3932\n",
            "iter 4: train loss/sent=0.6163, time=0.77s\n",
            "iter 4: test acc=0.3787\n",
            "iter 5: train loss/sent=0.4603, time=0.76s\n",
            "iter 5: test acc=0.3801\n",
            "iter 6: train loss/sent=0.3376, time=0.78s\n",
            "iter 6: test acc=0.3674\n",
            "iter 7: train loss/sent=0.2424, time=0.78s\n",
            "iter 7: test acc=0.3765\n",
            "iter 8: train loss/sent=0.1654, time=0.75s\n",
            "iter 8: test acc=0.3674\n",
            "iter 9: train loss/sent=0.1260, time=0.76s\n",
            "iter 9: test acc=0.3796\n",
            "iter 10: train loss/sent=0.0820, time=0.75s\n",
            "iter 10: test acc=0.3557\n",
            "iter 11: train loss/sent=0.0621, time=0.77s\n",
            "iter 11: test acc=0.3529\n",
            "iter 12: train loss/sent=0.0502, time=0.75s\n",
            "iter 12: test acc=0.3561\n",
            "iter 13: train loss/sent=0.0355, time=0.75s\n",
            "iter 13: test acc=0.3674\n",
            "iter 14: train loss/sent=0.0317, time=0.77s\n",
            "iter 14: test acc=0.3570\n",
            "iter 15: train loss/sent=0.0377, time=0.74s\n",
            "iter 15: test acc=0.3602\n",
            "iter 16: train loss/sent=0.0212, time=0.75s\n",
            "iter 16: test acc=0.3552\n",
            "iter 17: train loss/sent=0.0318, time=0.74s\n",
            "iter 17: test acc=0.3674\n",
            "iter 18: train loss/sent=0.0289, time=0.76s\n",
            "iter 18: test acc=0.3674\n",
            "iter 19: train loss/sent=0.0289, time=0.75s\n",
            "iter 19: test acc=0.3701\n",
            "iter 20: train loss/sent=0.0290, time=0.76s\n",
            "iter 20: test acc=0.3692\n",
            "iter 21: train loss/sent=0.0366, time=0.76s\n",
            "iter 21: test acc=0.3701\n",
            "iter 22: train loss/sent=0.0318, time=0.74s\n",
            "iter 22: test acc=0.3674\n",
            "iter 23: train loss/sent=0.0281, time=0.76s\n",
            "iter 23: test acc=0.3661\n",
            "iter 24: train loss/sent=0.0223, time=0.75s\n",
            "iter 24: test acc=0.3629\n",
            "iter 25: train loss/sent=0.0197, time=0.77s\n",
            "iter 25: test acc=0.3579\n",
            "iter 26: train loss/sent=0.0217, time=0.77s\n",
            "iter 26: test acc=0.3606\n",
            "iter 27: train loss/sent=0.0233, time=0.75s\n",
            "iter 27: test acc=0.3674\n",
            "iter 28: train loss/sent=0.0272, time=0.73s\n",
            "iter 28: test acc=0.3620\n",
            "iter 29: train loss/sent=0.0338, time=0.72s\n",
            "iter 29: test acc=0.3620\n",
            "iter 30: train loss/sent=0.0210, time=0.74s\n",
            "iter 30: test acc=0.3615\n",
            "iter 31: train loss/sent=0.0282, time=0.77s\n",
            "iter 31: test acc=0.3597\n",
            "iter 32: train loss/sent=0.0208, time=0.75s\n",
            "iter 32: test acc=0.3697\n",
            "iter 33: train loss/sent=0.0182, time=0.74s\n",
            "iter 33: test acc=0.3534\n",
            "iter 34: train loss/sent=0.0334, time=0.79s\n",
            "iter 34: test acc=0.3688\n",
            "iter 35: train loss/sent=0.0231, time=0.74s\n",
            "iter 35: test acc=0.3611\n",
            "iter 36: train loss/sent=0.0243, time=0.72s\n",
            "iter 36: test acc=0.3710\n",
            "iter 37: train loss/sent=0.0314, time=0.78s\n",
            "iter 37: test acc=0.3652\n",
            "iter 38: train loss/sent=0.0305, time=0.76s\n",
            "iter 38: test acc=0.3742\n",
            "iter 39: train loss/sent=0.0316, time=0.80s\n",
            "iter 39: test acc=0.3643\n",
            "iter 40: train loss/sent=0.0283, time=0.78s\n",
            "iter 40: test acc=0.3674\n",
            "iter 41: train loss/sent=0.0266, time=0.74s\n",
            "iter 41: test acc=0.3602\n",
            "iter 42: train loss/sent=0.0287, time=0.76s\n",
            "iter 42: test acc=0.3647\n",
            "iter 43: train loss/sent=0.0399, time=0.74s\n",
            "iter 43: test acc=0.3633\n",
            "iter 44: train loss/sent=0.0243, time=0.78s\n",
            "iter 44: test acc=0.3647\n",
            "iter 45: train loss/sent=0.0269, time=0.76s\n",
            "iter 45: test acc=0.3597\n",
            "iter 46: train loss/sent=0.0247, time=0.79s\n",
            "iter 46: test acc=0.3624\n",
            "iter 47: train loss/sent=0.0263, time=0.79s\n",
            "iter 47: test acc=0.3692\n",
            "iter 48: train loss/sent=0.0231, time=0.81s\n",
            "iter 48: test acc=0.3683\n",
            "iter 49: train loss/sent=0.0230, time=0.74s\n",
            "iter 49: test acc=0.3566\n",
            "iter 50: train loss/sent=0.0200, time=0.77s\n",
            "iter 50: test acc=0.3561\n",
            "iter 51: train loss/sent=0.0303, time=0.75s\n",
            "iter 51: test acc=0.3665\n",
            "iter 52: train loss/sent=0.0312, time=0.75s\n",
            "iter 52: test acc=0.3647\n"
          ],
          "name": "stdout"
        },
        {
          "output_type": "stream",
          "text": [
            "iter 53: train loss/sent=0.0281, time=0.76s\n",
            "iter 53: test acc=0.3534\n",
            "iter 54: train loss/sent=0.0312, time=0.77s\n",
            "iter 54: test acc=0.3792\n",
            "iter 55: train loss/sent=0.0251, time=0.77s\n",
            "iter 55: test acc=0.3674\n",
            "iter 56: train loss/sent=0.0380, time=0.77s\n",
            "iter 56: test acc=0.3520\n",
            "iter 57: train loss/sent=0.0254, time=0.75s\n",
            "iter 57: test acc=0.3701\n",
            "iter 58: train loss/sent=0.0355, time=0.75s\n",
            "iter 58: test acc=0.3647\n",
            "iter 59: train loss/sent=0.0286, time=0.77s\n",
            "iter 59: test acc=0.3674\n",
            "iter 60: train loss/sent=0.0246, time=0.75s\n",
            "iter 60: test acc=0.3629\n",
            "iter 61: train loss/sent=0.0209, time=0.76s\n",
            "iter 61: test acc=0.3633\n",
            "iter 62: train loss/sent=0.0189, time=0.76s\n",
            "iter 62: test acc=0.3756\n",
            "iter 63: train loss/sent=0.0275, time=0.76s\n",
            "iter 63: test acc=0.3624\n",
            "iter 64: train loss/sent=0.0204, time=0.76s\n",
            "iter 64: test acc=0.3588\n",
            "iter 65: train loss/sent=0.0217, time=0.74s\n",
            "iter 65: test acc=0.3606\n",
            "iter 66: train loss/sent=0.0220, time=0.75s\n",
            "iter 66: test acc=0.3652\n",
            "iter 67: train loss/sent=0.0279, time=0.72s\n",
            "iter 67: test acc=0.3584\n",
            "iter 68: train loss/sent=0.0204, time=0.73s\n",
            "iter 68: test acc=0.3538\n",
            "iter 69: train loss/sent=0.0271, time=0.73s\n",
            "iter 69: test acc=0.3516\n",
            "iter 70: train loss/sent=0.0142, time=0.74s\n",
            "iter 70: test acc=0.3534\n",
            "iter 71: train loss/sent=0.0369, time=0.74s\n",
            "iter 71: test acc=0.3688\n",
            "iter 72: train loss/sent=0.0307, time=0.78s\n",
            "iter 72: test acc=0.3647\n",
            "iter 73: train loss/sent=0.0298, time=0.75s\n",
            "iter 73: test acc=0.3593\n",
            "iter 74: train loss/sent=0.0216, time=0.76s\n",
            "iter 74: test acc=0.3538\n",
            "iter 75: train loss/sent=0.0152, time=0.75s\n",
            "iter 75: test acc=0.3656\n",
            "iter 76: train loss/sent=0.0207, time=0.78s\n",
            "iter 76: test acc=0.3525\n",
            "iter 77: train loss/sent=0.0194, time=0.77s\n",
            "iter 77: test acc=0.3588\n",
            "iter 78: train loss/sent=0.0194, time=0.80s\n",
            "iter 78: test acc=0.3674\n",
            "iter 79: train loss/sent=0.0234, time=0.77s\n",
            "iter 79: test acc=0.3633\n",
            "iter 80: train loss/sent=0.0261, time=0.76s\n",
            "iter 80: test acc=0.3548\n",
            "iter 81: train loss/sent=0.0188, time=0.77s\n",
            "iter 81: test acc=0.3588\n",
            "iter 82: train loss/sent=0.0250, time=0.75s\n",
            "iter 82: test acc=0.3498\n",
            "iter 83: train loss/sent=0.0295, time=0.74s\n",
            "iter 83: test acc=0.3729\n",
            "iter 84: train loss/sent=0.0279, time=0.78s\n",
            "iter 84: test acc=0.3525\n",
            "iter 85: train loss/sent=0.0252, time=0.78s\n",
            "iter 85: test acc=0.3683\n",
            "iter 86: train loss/sent=0.0262, time=0.76s\n",
            "iter 86: test acc=0.3611\n",
            "iter 87: train loss/sent=0.0270, time=0.75s\n",
            "iter 87: test acc=0.3548\n",
            "iter 88: train loss/sent=0.0366, time=0.76s\n",
            "iter 88: test acc=0.3584\n",
            "iter 89: train loss/sent=0.0207, time=0.75s\n",
            "iter 89: test acc=0.3593\n",
            "iter 90: train loss/sent=0.0295, time=0.77s\n",
            "iter 90: test acc=0.3529\n",
            "iter 91: train loss/sent=0.0279, time=0.76s\n",
            "iter 91: test acc=0.3543\n",
            "iter 92: train loss/sent=0.0178, time=0.77s\n",
            "iter 92: test acc=0.3674\n",
            "iter 93: train loss/sent=0.0230, time=0.78s\n",
            "iter 93: test acc=0.3538\n",
            "iter 94: train loss/sent=0.0219, time=0.75s\n",
            "iter 94: test acc=0.3579\n",
            "iter 95: train loss/sent=0.0246, time=0.79s\n",
            "iter 95: test acc=0.3611\n",
            "iter 96: train loss/sent=0.0268, time=0.76s\n",
            "iter 96: test acc=0.3584\n",
            "iter 97: train loss/sent=0.0269, time=0.79s\n",
            "iter 97: test acc=0.3701\n",
            "iter 98: train loss/sent=0.0281, time=0.77s\n",
            "iter 98: test acc=0.3683\n",
            "iter 99: train loss/sent=0.0214, time=0.79s\n",
            "iter 99: test acc=0.3579\n"
          ],
          "name": "stdout"
        }
      ]
    },
    {
      "metadata": {
        "id": "Uriw75hv0c9g",
        "colab_type": "code",
        "colab": {
          "autoexec": {
            "startup": false,
            "wait_interval": 0
          }
        }
      },
      "cell_type": "code",
      "source": [
        ""
      ],
      "execution_count": 0,
      "outputs": []
    }
  ]
}