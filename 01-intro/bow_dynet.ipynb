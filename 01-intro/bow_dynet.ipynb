{
  "nbformat": 4,
  "nbformat_minor": 0,
  "metadata": {
    "colab": {
      "name": "bow-dynet.ipynb",
      "version": "0.3.2",
      "views": {},
      "default_view": {},
      "provenance": [],
      "collapsed_sections": []
    },
    "kernelspec": {
      "name": "python3",
      "display_name": "Python 3"
    }
  },
  "cells": [
    {
      "metadata": {
        "id": "tRnUTJUJxB-L",
        "colab_type": "code",
        "colab": {
          "autoexec": {
            "startup": false,
            "wait_interval": 0
          },
          "base_uri": "https://localhost:8080/",
          "height": 217
        },
        "outputId": "545f18e3-98fe-41d8-dd11-b81ab066db1e",
        "executionInfo": {
          "status": "ok",
          "timestamp": 1525094202423,
          "user_tz": -540,
          "elapsed": 14098,
          "user": {
            "displayName": "Sungjun Lee",
            "photoUrl": "https://lh3.googleusercontent.com/a/default-user=s128",
            "userId": "107995332831641667384"
          }
        }
      },
      "cell_type": "code",
      "source": [
        "!pip install dynet"
      ],
      "execution_count": 1,
      "outputs": [
        {
          "output_type": "stream",
          "text": [
            "Looking in indexes: https://pypi.org/simple, https://legacy.pypi.org/simple\n",
            "Collecting dynet\n",
            "\u001b[?25l  Downloading https://files.pythonhosted.org/packages/1b/8c/767cc83241b2abe567d705f87589d8ad44cca321f7c78720269c45e0469f/dyNET-2.0.3-cp36-cp36m-manylinux1_x86_64.whl (27.8MB)\n",
            "\u001b[K    100% |████████████████████████████████| 27.8MB 876kB/s \n",
            "\u001b[?25hCollecting cython (from dynet)\n",
            "\u001b[?25l  Downloading https://files.pythonhosted.org/packages/19/eb/c4d9f3beafd5ac0615936860bcee41d93ca58f8734a16715da0037d2c468/Cython-0.28.2-cp36-cp36m-manylinux1_x86_64.whl (3.4MB)\n",
            "\u001b[K    100% |████████████████████████████████| 3.4MB 10.2MB/s \n",
            "\u001b[?25hRequirement already satisfied: numpy in /usr/local/lib/python3.6/dist-packages (from dynet) (1.14.2)\n",
            "Installing collected packages: cython, dynet\n",
            "Successfully installed cython-0.28.2 dynet-2.0.3\n"
          ],
          "name": "stdout"
        }
      ]
    },
    {
      "metadata": {
        "id": "c7ZzRNgiXJx5",
        "colab_type": "code",
        "colab": {
          "autoexec": {
            "startup": false,
            "wait_interval": 0
          },
          "base_uri": "https://localhost:8080/",
          "height": 35
        },
        "outputId": "ddbc8ad1-44fc-4db5-ec90-04d7f3d9a54e",
        "executionInfo": {
          "status": "ok",
          "timestamp": 1525094204993,
          "user_tz": -540,
          "elapsed": 2549,
          "user": {
            "displayName": "Sungjun Lee",
            "photoUrl": "https://lh3.googleusercontent.com/a/default-user=s128",
            "userId": "107995332831641667384"
          }
        }
      },
      "cell_type": "code",
      "source": [
        "!git clone https://github.com/neubig/nn4nlp-code.git"
      ],
      "execution_count": 2,
      "outputs": [
        {
          "output_type": "stream",
          "text": [
            "fatal: destination path 'nn4nlp-code' already exists and is not an empty directory.\r\n"
          ],
          "name": "stdout"
        }
      ]
    },
    {
      "metadata": {
        "id": "F8J7evBzxJUy",
        "colab_type": "code",
        "colab": {
          "autoexec": {
            "startup": false,
            "wait_interval": 0
          }
        }
      },
      "cell_type": "code",
      "source": [
        "from collections import defaultdict\n",
        "import time\n",
        "import random\n",
        "import dynet as dy\n",
        "import numpy as np"
      ],
      "execution_count": 0,
      "outputs": []
    },
    {
      "metadata": {
        "id": "Rwq0Ue5AOlk_",
        "colab_type": "code",
        "colab": {
          "autoexec": {
            "startup": false,
            "wait_interval": 0
          }
        }
      },
      "cell_type": "code",
      "source": [
        "w2i = defaultdict(lambda: len(w2i))\n",
        "t2i = defaultdict(lambda: len(t2i))\n",
        "UNK = w2i[\"<unk>\"]"
      ],
      "execution_count": 0,
      "outputs": []
    },
    {
      "metadata": {
        "id": "Y_EUv6E3UKZw",
        "colab_type": "code",
        "colab": {
          "autoexec": {
            "startup": false,
            "wait_interval": 0
          }
        }
      },
      "cell_type": "code",
      "source": [
        "def read_dataset(filename):\n",
        "  with open(filename, \"r\") as f:\n",
        "    for line in f:\n",
        "      tag, words = line.lower().strip().split(\" ||| \")\n",
        "      yield ([w2i[x] for x in words.split(\" \")], t2i[tag])"
      ],
      "execution_count": 0,
      "outputs": []
    },
    {
      "metadata": {
        "id": "lrCopH7YVMqB",
        "colab_type": "code",
        "colab": {
          "autoexec": {
            "startup": false,
            "wait_interval": 0
          }
        }
      },
      "cell_type": "code",
      "source": [
        "train = list(read_dataset(\"nn4nlp-code/data/classes/train.txt\"))\n",
        "w2i = defaultdict(lambda: UNK, w2i)\n",
        "dev = list(read_dataset(\"nn4nlp-code/data/classes/test.txt\"))\n",
        "nwords = len(w2i)\n",
        "ntags = len(t2i)"
      ],
      "execution_count": 0,
      "outputs": []
    },
    {
      "metadata": {
        "id": "lUdE00KYYwNp",
        "colab_type": "code",
        "colab": {
          "autoexec": {
            "startup": false,
            "wait_interval": 0
          }
        }
      },
      "cell_type": "code",
      "source": [
        "model = dy.Model()\n",
        "trainer = dy.AdamTrainer(model)"
      ],
      "execution_count": 0,
      "outputs": []
    },
    {
      "metadata": {
        "id": "J0usrJczY4hP",
        "colab_type": "code",
        "colab": {
          "autoexec": {
            "startup": false,
            "wait_interval": 0
          }
        }
      },
      "cell_type": "code",
      "source": [
        "W_sm = model.add_lookup_parameters((nwords, ntags))\n",
        "b_sm = model.add_parameters((ntags))"
      ],
      "execution_count": 0,
      "outputs": []
    },
    {
      "metadata": {
        "id": "Tk215vFVDyWM",
        "colab_type": "code",
        "colab": {
          "autoexec": {
            "startup": false,
            "wait_interval": 0
          }
        }
      },
      "cell_type": "code",
      "source": [
        "def calc_scores(words):\n",
        "  dy.renew_cg()\n",
        "  b_sm_exp = dy.parameter(b_sm)\n",
        "  score = dy.esum([dy.lookup(W_sm, x) for x in words])\n",
        "  return score + b_sm_exp"
      ],
      "execution_count": 0,
      "outputs": []
    },
    {
      "metadata": {
        "id": "sx-XLSw-lK4v",
        "colab_type": "code",
        "colab": {
          "autoexec": {
            "startup": false,
            "wait_interval": 0
          },
          "base_uri": "https://localhost:8080/",
          "height": 3617
        },
        "outputId": "8d517a78-679b-4e3c-ce36-d1d68e77dccb",
        "executionInfo": {
          "status": "ok",
          "timestamp": 1525095817414,
          "user_tz": -540,
          "elapsed": 36166,
          "user": {
            "displayName": "Sungjun Lee",
            "photoUrl": "https://lh3.googleusercontent.com/a/default-user=s128",
            "userId": "107995332831641667384"
          }
        }
      },
      "cell_type": "code",
      "source": [
        "for ITER in range(100):\n",
        "  # Perform training\n",
        "  random.shuffle(train)\n",
        "  train_loss = 0.0\n",
        "  start = time.time()\n",
        "  for words, tag in train:\n",
        "    my_loss = dy.pickneglogsoftmax(calc_scores(words), tag)\n",
        "    train_loss += my_loss.value()\n",
        "    my_loss.backward()\n",
        "    trainer.update()\n",
        "  print(\"iter %r: train loss/sent=%.4f, time=%.2fs\" % (ITER, train_loss/len(train), time.time()-start))\n",
        "  # Perform testing\n",
        "  test_correct = 0.0\n",
        "  for words, tag in dev:\n",
        "    scores = calc_scores(words).npvalue()\n",
        "    predict = np.argmax(scores)\n",
        "    if predict == tag:\n",
        "      test_correct += 1\n",
        "  print(\"iter %r: test acc=%.4f\" % (ITER, test_correct/len(dev)))"
      ],
      "execution_count": 11,
      "outputs": [
        {
          "output_type": "stream",
          "text": [
            "iter 0: train loss/sent=0.3377, time=0.29s\n",
            "iter 0: test acc=0.3887\n",
            "iter 1: train loss/sent=0.3352, time=0.28s\n",
            "iter 1: test acc=0.3891\n",
            "iter 2: train loss/sent=0.3333, time=0.27s\n",
            "iter 2: test acc=0.3900\n",
            "iter 3: train loss/sent=0.3310, time=0.27s\n",
            "iter 3: test acc=0.3882\n",
            "iter 4: train loss/sent=0.3288, time=0.27s\n",
            "iter 4: test acc=0.3851\n",
            "iter 5: train loss/sent=0.3269, time=0.28s\n",
            "iter 5: test acc=0.3887\n",
            "iter 6: train loss/sent=0.3247, time=0.29s\n",
            "iter 6: test acc=0.3887\n",
            "iter 7: train loss/sent=0.3227, time=0.29s\n",
            "iter 7: test acc=0.3910\n",
            "iter 8: train loss/sent=0.3205, time=0.28s\n",
            "iter 8: test acc=0.3914\n",
            "iter 9: train loss/sent=0.3186, time=0.29s\n",
            "iter 9: test acc=0.3878\n",
            "iter 10: train loss/sent=0.3165, time=0.29s\n",
            "iter 10: test acc=0.3905\n",
            "iter 11: train loss/sent=0.3144, time=0.28s\n",
            "iter 11: test acc=0.3878\n",
            "iter 12: train loss/sent=0.3126, time=0.28s\n",
            "iter 12: test acc=0.3814\n",
            "iter 13: train loss/sent=0.3110, time=0.29s\n",
            "iter 13: test acc=0.3869\n",
            "iter 14: train loss/sent=0.3091, time=0.29s\n",
            "iter 14: test acc=0.3896\n",
            "iter 15: train loss/sent=0.3072, time=0.29s\n",
            "iter 15: test acc=0.3891\n",
            "iter 16: train loss/sent=0.3052, time=0.29s\n",
            "iter 16: test acc=0.3891\n",
            "iter 17: train loss/sent=0.3035, time=0.29s\n",
            "iter 17: test acc=0.3914\n",
            "iter 18: train loss/sent=0.3017, time=0.28s\n",
            "iter 18: test acc=0.3923\n",
            "iter 19: train loss/sent=0.3002, time=0.28s\n",
            "iter 19: test acc=0.3919\n",
            "iter 20: train loss/sent=0.2983, time=0.28s\n",
            "iter 20: test acc=0.3896\n",
            "iter 21: train loss/sent=0.2965, time=0.29s\n",
            "iter 21: test acc=0.3887\n",
            "iter 22: train loss/sent=0.2949, time=0.29s\n",
            "iter 22: test acc=0.3905\n",
            "iter 23: train loss/sent=0.2933, time=0.29s\n",
            "iter 23: test acc=0.3887\n",
            "iter 24: train loss/sent=0.2914, time=0.28s\n",
            "iter 24: test acc=0.3896\n",
            "iter 25: train loss/sent=0.2898, time=0.28s\n",
            "iter 25: test acc=0.3860\n",
            "iter 26: train loss/sent=0.2884, time=0.29s\n",
            "iter 26: test acc=0.3896\n",
            "iter 27: train loss/sent=0.2867, time=0.29s\n",
            "iter 27: test acc=0.3900\n",
            "iter 28: train loss/sent=0.2853, time=0.29s\n",
            "iter 28: test acc=0.3869\n",
            "iter 29: train loss/sent=0.2837, time=0.29s\n",
            "iter 29: test acc=0.3842\n",
            "iter 30: train loss/sent=0.2820, time=0.28s\n",
            "iter 30: test acc=0.3860\n",
            "iter 31: train loss/sent=0.2805, time=0.29s\n",
            "iter 31: test acc=0.3905\n",
            "iter 32: train loss/sent=0.2790, time=0.29s\n",
            "iter 32: test acc=0.3914\n",
            "iter 33: train loss/sent=0.2776, time=0.28s\n",
            "iter 33: test acc=0.3878\n",
            "iter 34: train loss/sent=0.2760, time=0.29s\n",
            "iter 34: test acc=0.3900\n",
            "iter 35: train loss/sent=0.2748, time=0.29s\n",
            "iter 35: test acc=0.3919\n",
            "iter 36: train loss/sent=0.2731, time=0.29s\n",
            "iter 36: test acc=0.3891\n",
            "iter 37: train loss/sent=0.2720, time=0.29s\n",
            "iter 37: test acc=0.3864\n",
            "iter 38: train loss/sent=0.2704, time=0.28s\n",
            "iter 38: test acc=0.3887\n",
            "iter 39: train loss/sent=0.2690, time=0.29s\n",
            "iter 39: test acc=0.3882\n",
            "iter 40: train loss/sent=0.2675, time=0.29s\n",
            "iter 40: test acc=0.3887\n",
            "iter 41: train loss/sent=0.2661, time=0.28s\n",
            "iter 41: test acc=0.3896\n",
            "iter 42: train loss/sent=0.2649, time=0.29s\n",
            "iter 42: test acc=0.3923\n",
            "iter 43: train loss/sent=0.2635, time=0.28s\n",
            "iter 43: test acc=0.3896\n",
            "iter 44: train loss/sent=0.2622, time=0.29s\n",
            "iter 44: test acc=0.3932\n",
            "iter 45: train loss/sent=0.2608, time=0.29s\n",
            "iter 45: test acc=0.3878\n",
            "iter 46: train loss/sent=0.2596, time=0.28s\n",
            "iter 46: test acc=0.3864\n",
            "iter 47: train loss/sent=0.2584, time=0.29s\n",
            "iter 47: test acc=0.3928\n",
            "iter 48: train loss/sent=0.2572, time=0.29s\n",
            "iter 48: test acc=0.3900\n",
            "iter 49: train loss/sent=0.2558, time=0.29s\n",
            "iter 49: test acc=0.3882\n",
            "iter 50: train loss/sent=0.2544, time=0.29s\n",
            "iter 50: test acc=0.3928\n",
            "iter 51: train loss/sent=0.2534, time=0.29s\n",
            "iter 51: test acc=0.3896\n",
            "iter 52: train loss/sent=0.2520, time=0.29s\n",
            "iter 52: test acc=0.3891\n"
          ],
          "name": "stdout"
        },
        {
          "output_type": "stream",
          "text": [
            "iter 53: train loss/sent=0.2509, time=0.30s\n",
            "iter 53: test acc=0.3928\n",
            "iter 54: train loss/sent=0.2498, time=0.29s\n",
            "iter 54: test acc=0.3941\n",
            "iter 55: train loss/sent=0.2485, time=0.28s\n",
            "iter 55: test acc=0.3864\n",
            "iter 56: train loss/sent=0.2474, time=0.29s\n",
            "iter 56: test acc=0.3919\n",
            "iter 57: train loss/sent=0.2463, time=0.29s\n",
            "iter 57: test acc=0.3946\n",
            "iter 58: train loss/sent=0.2452, time=0.28s\n",
            "iter 58: test acc=0.3932\n",
            "iter 59: train loss/sent=0.2438, time=0.30s\n",
            "iter 59: test acc=0.3882\n",
            "iter 60: train loss/sent=0.2428, time=0.30s\n",
            "iter 60: test acc=0.3919\n",
            "iter 61: train loss/sent=0.2416, time=0.29s\n",
            "iter 61: test acc=0.3928\n",
            "iter 62: train loss/sent=0.2405, time=0.29s\n",
            "iter 62: test acc=0.3910\n",
            "iter 63: train loss/sent=0.2395, time=0.29s\n",
            "iter 63: test acc=0.3955\n",
            "iter 64: train loss/sent=0.2384, time=0.28s\n",
            "iter 64: test acc=0.3928\n",
            "iter 65: train loss/sent=0.2373, time=0.28s\n",
            "iter 65: test acc=0.3882\n",
            "iter 66: train loss/sent=0.2361, time=0.29s\n",
            "iter 66: test acc=0.3873\n",
            "iter 67: train loss/sent=0.2353, time=0.29s\n",
            "iter 67: test acc=0.3919\n",
            "iter 68: train loss/sent=0.2340, time=0.29s\n",
            "iter 68: test acc=0.3950\n",
            "iter 69: train loss/sent=0.2332, time=0.29s\n",
            "iter 69: test acc=0.3910\n",
            "iter 70: train loss/sent=0.2319, time=0.32s\n",
            "iter 70: test acc=0.3878\n",
            "iter 71: train loss/sent=0.2311, time=0.30s\n",
            "iter 71: test acc=0.3941\n",
            "iter 72: train loss/sent=0.2298, time=0.29s\n",
            "iter 72: test acc=0.3928\n",
            "iter 73: train loss/sent=0.2289, time=0.30s\n",
            "iter 73: test acc=0.3932\n",
            "iter 74: train loss/sent=0.2278, time=0.29s\n",
            "iter 74: test acc=0.3928\n",
            "iter 75: train loss/sent=0.2269, time=0.28s\n",
            "iter 75: test acc=0.3941\n",
            "iter 76: train loss/sent=0.2260, time=0.29s\n",
            "iter 76: test acc=0.3923\n",
            "iter 77: train loss/sent=0.2251, time=0.29s\n",
            "iter 77: test acc=0.3937\n",
            "iter 78: train loss/sent=0.2241, time=0.28s\n",
            "iter 78: test acc=0.3891\n",
            "iter 79: train loss/sent=0.2231, time=0.29s\n",
            "iter 79: test acc=0.3914\n",
            "iter 80: train loss/sent=0.2219, time=0.29s\n",
            "iter 80: test acc=0.3910\n",
            "iter 81: train loss/sent=0.2210, time=0.29s\n",
            "iter 81: test acc=0.3941\n",
            "iter 82: train loss/sent=0.2203, time=0.29s\n",
            "iter 82: test acc=0.3950\n",
            "iter 83: train loss/sent=0.2193, time=0.29s\n",
            "iter 83: test acc=0.3887\n",
            "iter 84: train loss/sent=0.2183, time=0.29s\n",
            "iter 84: test acc=0.3910\n",
            "iter 85: train loss/sent=0.2176, time=0.29s\n",
            "iter 85: test acc=0.3923\n",
            "iter 86: train loss/sent=0.2165, time=0.29s\n",
            "iter 86: test acc=0.3932\n",
            "iter 87: train loss/sent=0.2157, time=0.28s\n",
            "iter 87: test acc=0.3923\n",
            "iter 88: train loss/sent=0.2148, time=0.28s\n",
            "iter 88: test acc=0.3932\n",
            "iter 89: train loss/sent=0.2140, time=0.28s\n",
            "iter 89: test acc=0.3932\n",
            "iter 90: train loss/sent=0.2129, time=0.28s\n",
            "iter 90: test acc=0.3950\n",
            "iter 91: train loss/sent=0.2122, time=0.29s\n",
            "iter 91: test acc=0.3905\n",
            "iter 92: train loss/sent=0.2113, time=0.29s\n",
            "iter 92: test acc=0.3896\n",
            "iter 93: train loss/sent=0.2105, time=0.28s\n",
            "iter 93: test acc=0.3923\n",
            "iter 94: train loss/sent=0.2095, time=0.28s\n",
            "iter 94: test acc=0.3937\n",
            "iter 95: train loss/sent=0.2087, time=0.28s\n",
            "iter 95: test acc=0.3932\n",
            "iter 96: train loss/sent=0.2078, time=0.29s\n",
            "iter 96: test acc=0.3905\n",
            "iter 97: train loss/sent=0.2071, time=0.28s\n",
            "iter 97: test acc=0.3955\n",
            "iter 98: train loss/sent=0.2062, time=0.29s\n",
            "iter 98: test acc=0.3964\n",
            "iter 99: train loss/sent=0.2055, time=0.29s\n",
            "iter 99: test acc=0.3910\n"
          ],
          "name": "stdout"
        }
      ]
    },
    {
      "metadata": {
        "id": "ilOH1G1gl-t7",
        "colab_type": "code",
        "colab": {
          "autoexec": {
            "startup": false,
            "wait_interval": 0
          }
        }
      },
      "cell_type": "code",
      "source": [
        ""
      ],
      "execution_count": 0,
      "outputs": []
    }
  ]
}