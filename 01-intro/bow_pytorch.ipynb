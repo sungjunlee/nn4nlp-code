{
  "nbformat": 4,
  "nbformat_minor": 0,
  "metadata": {
    "colab": {
      "name": "bow-pytorch.ipynb",
      "version": "0.3.2",
      "views": {},
      "default_view": {},
      "provenance": [],
      "collapsed_sections": []
    },
    "kernelspec": {
      "name": "python3",
      "display_name": "Python 3"
    }
  },
  "cells": [
    {
      "metadata": {
        "id": "dziCi-1OkITQ",
        "colab_type": "code",
        "colab": {
          "autoexec": {
            "startup": false,
            "wait_interval": 0
          },
          "base_uri": "https://localhost:8080/",
          "height": 125
        },
        "outputId": "84ddc2f8-b9f0-4b29-9672-879717916219",
        "executionInfo": {
          "status": "ok",
          "timestamp": 1525094161588,
          "user_tz": -540,
          "elapsed": 3299,
          "user": {
            "displayName": "Sungjun Lee",
            "photoUrl": "https://lh3.googleusercontent.com/a/default-user=s128",
            "userId": "107995332831641667384"
          }
        }
      },
      "cell_type": "code",
      "source": [
        "!pip install torch torchvision"
      ],
      "execution_count": 1,
      "outputs": [
        {
          "output_type": "stream",
          "text": [
            "Looking in indexes: https://pypi.org/simple, https://legacy.pypi.org/simple\r\n",
            "Requirement already satisfied: torch in /usr/local/lib/python3.6/dist-packages (0.4.0)\r\n",
            "Requirement already satisfied: torchvision in /usr/local/lib/python3.6/dist-packages (0.2.1)\r\n",
            "Requirement already satisfied: six in /usr/local/lib/python3.6/dist-packages (from torchvision) (1.11.0)\r\n",
            "Requirement already satisfied: numpy in /usr/local/lib/python3.6/dist-packages (from torchvision) (1.14.2)\r\n",
            "Requirement already satisfied: pillow>=4.1.1 in /usr/local/lib/python3.6/dist-packages (from torchvision) (5.1.0)\r\n"
          ],
          "name": "stdout"
        }
      ]
    },
    {
      "metadata": {
        "id": "0qm8TDbDlDEP",
        "colab_type": "code",
        "colab": {
          "autoexec": {
            "startup": false,
            "wait_interval": 0
          },
          "base_uri": "https://localhost:8080/",
          "height": 35
        },
        "outputId": "d05677ab-1a1a-4d68-fb20-e7d536496a95",
        "executionInfo": {
          "status": "ok",
          "timestamp": 1525094163233,
          "user_tz": -540,
          "elapsed": 1620,
          "user": {
            "displayName": "Sungjun Lee",
            "photoUrl": "https://lh3.googleusercontent.com/a/default-user=s128",
            "userId": "107995332831641667384"
          }
        }
      },
      "cell_type": "code",
      "source": [
        "!git clone https://github.com/neubig/nn4nlp-code.git"
      ],
      "execution_count": 2,
      "outputs": [
        {
          "output_type": "stream",
          "text": [
            "fatal: destination path 'nn4nlp-code' already exists and is not an empty directory.\r\n"
          ],
          "name": "stdout"
        }
      ]
    },
    {
      "metadata": {
        "id": "WQgCU2F3kbkC",
        "colab_type": "code",
        "colab": {
          "autoexec": {
            "startup": false,
            "wait_interval": 0
          }
        }
      },
      "cell_type": "code",
      "source": [
        "from collections import defaultdict\n",
        "import torch\n",
        "import torch.nn as nn\n",
        "import numpy as np\n",
        "import random\n",
        "import time"
      ],
      "execution_count": 0,
      "outputs": []
    },
    {
      "metadata": {
        "id": "ve-avW6Bk9jR",
        "colab_type": "code",
        "colab": {
          "autoexec": {
            "startup": false,
            "wait_interval": 0
          }
        }
      },
      "cell_type": "code",
      "source": [
        "w2i = defaultdict(lambda: len(w2i))\n",
        "t2i = defaultdict(lambda: len(t2i))\n",
        "UNK = w2i[\"<unk>\"]"
      ],
      "execution_count": 0,
      "outputs": []
    },
    {
      "metadata": {
        "id": "hYLmFVMlk_Ll",
        "colab_type": "code",
        "colab": {
          "autoexec": {
            "startup": false,
            "wait_interval": 0
          }
        }
      },
      "cell_type": "code",
      "source": [
        "def read_dataset(filename):\n",
        "  with open(filename, \"r\") as f:\n",
        "    for line in f:\n",
        "      tag, words = line.lower().strip().split(\" ||| \")\n",
        "      yield ([w2i[x] for x in words.split(\" \")], t2i[tag])"
      ],
      "execution_count": 0,
      "outputs": []
    },
    {
      "metadata": {
        "id": "2Nwnmgv3lACk",
        "colab_type": "code",
        "colab": {
          "autoexec": {
            "startup": false,
            "wait_interval": 0
          }
        }
      },
      "cell_type": "code",
      "source": [
        "train = list(read_dataset(\"nn4nlp-code/data/classes/train.txt\"))\n",
        "w2i = defaultdict(lambda: UNK, w2i)\n",
        "dev = list(read_dataset(\"nn4nlp-code/data/classes/test.txt\"))\n",
        "nwords = len(w2i)\n",
        "ntags = len(t2i)"
      ],
      "execution_count": 0,
      "outputs": []
    },
    {
      "metadata": {
        "id": "hVk7-qBFlA_l",
        "colab_type": "code",
        "colab": {
          "autoexec": {
            "startup": false,
            "wait_interval": 0
          }
        }
      },
      "cell_type": "code",
      "source": [
        "class Model(nn.Module):\n",
        "  def __init__(self):\n",
        "    super(Model, self).__init__()\n",
        "    self.embeddings = nn.Embedding(nwords, ntags)\n",
        "    self.bias = torch.randn(ntags)\n",
        "  \n",
        "  def forward(self, x):\n",
        "    score = torch.sum(self.embeddings(x), 0) + self.bias\n",
        "    return score"
      ],
      "execution_count": 0,
      "outputs": []
    },
    {
      "metadata": {
        "id": "ltCYhqoNmc5a",
        "colab_type": "code",
        "colab": {
          "autoexec": {
            "startup": false,
            "wait_interval": 0
          }
        }
      },
      "cell_type": "code",
      "source": [
        "model = Model()\n",
        "loss_fn = nn.CrossEntropyLoss()\n",
        "optim = torch.optim.Adam(model.parameters())"
      ],
      "execution_count": 0,
      "outputs": []
    },
    {
      "metadata": {
        "id": "t9vHDp8HmeZs",
        "colab_type": "code",
        "colab": {
          "autoexec": {
            "startup": false,
            "wait_interval": 0
          },
          "base_uri": "https://localhost:8080/",
          "height": 3617
        },
        "outputId": "31a963c0-0ff6-49cc-c600-738d0eef7ebc",
        "executionInfo": {
          "status": "ok",
          "timestamp": 1525095317496,
          "user_tz": -540,
          "elapsed": 1040322,
          "user": {
            "displayName": "Sungjun Lee",
            "photoUrl": "https://lh3.googleusercontent.com/a/default-user=s128",
            "userId": "107995332831641667384"
          }
        }
      },
      "cell_type": "code",
      "source": [
        "for ITER in range(100):\n",
        "  random.shuffle(train)\n",
        "  train_loss = 0.0\n",
        "  start = time.time()\n",
        "  model.train(True)\n",
        "  for words, tag in train:\n",
        "    words = torch.LongTensor(words)\n",
        "    tag = torch.LongTensor([tag])\n",
        "    logits = model(words)\n",
        "    my_loss = loss_fn(logits.view(-1, 5), tag)\n",
        "    train_loss += my_loss.data\n",
        "    my_loss.backward()\n",
        "    optim.step()\n",
        "  print(\"iter %r: train loss/sent=%.4f, time=%.2fs\" % (ITER, train_loss/len(train), time.time() -start))\n",
        "  \n",
        "  test_correct = 0.0\n",
        "  model.train(False)\n",
        "  for words, tag in dev:\n",
        "    words = torch.LongTensor(words)\n",
        "    tag = torch.LongTensor([tag])\n",
        "    logits = model(words)\n",
        "    predict = torch.argmax(logits)\n",
        "    if predict == tag:\n",
        "      test_correct += 1\n",
        "  print(\"iter %r: test acc=%.4f\" % (ITER, test_correct/len(dev)))"
      ],
      "execution_count": 10,
      "outputs": [
        {
          "output_type": "stream",
          "text": [
            "iter 0: train loss/sent=1.2270, time=10.30s\n",
            "iter 0: test acc=0.3534\n",
            "iter 1: train loss/sent=1.0125, time=10.24s\n",
            "iter 1: test acc=0.3471\n",
            "iter 2: train loss/sent=0.8740, time=10.22s\n",
            "iter 2: test acc=0.3529\n",
            "iter 3: train loss/sent=0.7009, time=10.24s\n",
            "iter 3: test acc=0.3493\n",
            "iter 4: train loss/sent=0.6909, time=10.22s\n",
            "iter 4: test acc=0.3529\n",
            "iter 5: train loss/sent=0.5568, time=10.30s\n",
            "iter 5: test acc=0.3516\n",
            "iter 6: train loss/sent=0.6000, time=10.27s\n",
            "iter 6: test acc=0.3439\n",
            "iter 7: train loss/sent=0.5459, time=10.32s\n",
            "iter 7: test acc=0.3362\n",
            "iter 8: train loss/sent=0.5655, time=10.24s\n",
            "iter 8: test acc=0.3394\n",
            "iter 9: train loss/sent=0.4825, time=10.30s\n",
            "iter 9: test acc=0.3443\n",
            "iter 10: train loss/sent=0.4012, time=10.23s\n",
            "iter 10: test acc=0.3430\n",
            "iter 11: train loss/sent=0.3387, time=10.27s\n",
            "iter 11: test acc=0.3471\n",
            "iter 12: train loss/sent=0.3516, time=10.26s\n",
            "iter 12: test acc=0.3457\n",
            "iter 13: train loss/sent=0.4077, time=10.23s\n",
            "iter 13: test acc=0.3484\n",
            "iter 14: train loss/sent=0.3210, time=10.22s\n",
            "iter 14: test acc=0.3466\n",
            "iter 15: train loss/sent=0.3117, time=10.25s\n",
            "iter 15: test acc=0.3529\n",
            "iter 16: train loss/sent=0.3146, time=10.22s\n",
            "iter 16: test acc=0.3475\n",
            "iter 17: train loss/sent=0.3724, time=10.11s\n",
            "iter 17: test acc=0.3434\n",
            "iter 18: train loss/sent=0.3318, time=10.21s\n",
            "iter 18: test acc=0.3398\n",
            "iter 19: train loss/sent=0.2228, time=10.28s\n",
            "iter 19: test acc=0.3511\n",
            "iter 20: train loss/sent=0.2331, time=10.29s\n",
            "iter 20: test acc=0.3489\n",
            "iter 21: train loss/sent=0.2332, time=10.21s\n",
            "iter 21: test acc=0.3416\n",
            "iter 22: train loss/sent=0.2139, time=10.28s\n",
            "iter 22: test acc=0.3416\n",
            "iter 23: train loss/sent=0.2147, time=10.29s\n",
            "iter 23: test acc=0.3407\n",
            "iter 24: train loss/sent=0.2378, time=10.23s\n",
            "iter 24: test acc=0.3403\n",
            "iter 25: train loss/sent=0.2092, time=10.14s\n",
            "iter 25: test acc=0.3407\n",
            "iter 26: train loss/sent=0.2225, time=10.09s\n",
            "iter 26: test acc=0.3416\n",
            "iter 27: train loss/sent=0.2468, time=10.21s\n",
            "iter 27: test acc=0.3430\n",
            "iter 28: train loss/sent=0.2118, time=10.18s\n",
            "iter 28: test acc=0.3412\n",
            "iter 29: train loss/sent=0.1771, time=10.16s\n",
            "iter 29: test acc=0.3416\n",
            "iter 30: train loss/sent=0.1354, time=10.24s\n",
            "iter 30: test acc=0.3430\n",
            "iter 31: train loss/sent=0.1447, time=10.23s\n",
            "iter 31: test acc=0.3484\n",
            "iter 32: train loss/sent=0.1832, time=10.24s\n",
            "iter 32: test acc=0.3439\n",
            "iter 33: train loss/sent=0.1562, time=10.20s\n",
            "iter 33: test acc=0.3457\n",
            "iter 34: train loss/sent=0.1445, time=10.29s\n",
            "iter 34: test acc=0.3480\n",
            "iter 35: train loss/sent=0.0941, time=10.17s\n",
            "iter 35: test acc=0.3498\n",
            "iter 36: train loss/sent=0.1411, time=10.22s\n",
            "iter 36: test acc=0.3507\n",
            "iter 37: train loss/sent=0.1618, time=10.33s\n",
            "iter 37: test acc=0.3511\n",
            "iter 38: train loss/sent=0.1189, time=10.28s\n",
            "iter 38: test acc=0.3489\n",
            "iter 39: train loss/sent=0.1650, time=10.32s\n",
            "iter 39: test acc=0.3480\n",
            "iter 40: train loss/sent=0.2142, time=10.31s\n",
            "iter 40: test acc=0.3498\n",
            "iter 41: train loss/sent=0.1909, time=10.28s\n",
            "iter 41: test acc=0.3475\n",
            "iter 42: train loss/sent=0.1089, time=10.30s\n",
            "iter 42: test acc=0.3452\n",
            "iter 43: train loss/sent=0.1135, time=10.14s\n",
            "iter 43: test acc=0.3434\n",
            "iter 44: train loss/sent=0.1230, time=10.22s\n",
            "iter 44: test acc=0.3448\n",
            "iter 45: train loss/sent=0.1709, time=10.28s\n",
            "iter 45: test acc=0.3457\n",
            "iter 46: train loss/sent=0.2373, time=10.27s\n",
            "iter 46: test acc=0.3489\n",
            "iter 47: train loss/sent=0.1609, time=10.22s\n",
            "iter 47: test acc=0.3457\n",
            "iter 48: train loss/sent=0.0979, time=10.23s\n",
            "iter 48: test acc=0.3462\n",
            "iter 49: train loss/sent=0.1338, time=10.26s\n",
            "iter 49: test acc=0.3452\n",
            "iter 50: train loss/sent=0.0747, time=10.10s\n",
            "iter 50: test acc=0.3439\n",
            "iter 51: train loss/sent=0.1210, time=10.22s\n",
            "iter 51: test acc=0.3434\n",
            "iter 52: train loss/sent=0.1274, time=10.32s\n",
            "iter 52: test acc=0.3434\n"
          ],
          "name": "stdout"
        },
        {
          "output_type": "stream",
          "text": [
            "iter 53: train loss/sent=0.0724, time=10.29s\n",
            "iter 53: test acc=0.3462\n",
            "iter 54: train loss/sent=0.1289, time=10.22s\n",
            "iter 54: test acc=0.3452\n",
            "iter 55: train loss/sent=0.0819, time=9.98s\n",
            "iter 55: test acc=0.3466\n",
            "iter 56: train loss/sent=0.0944, time=10.14s\n",
            "iter 56: test acc=0.3452\n",
            "iter 57: train loss/sent=0.1046, time=10.15s\n",
            "iter 57: test acc=0.3457\n",
            "iter 58: train loss/sent=0.0603, time=10.26s\n",
            "iter 58: test acc=0.3462\n",
            "iter 59: train loss/sent=0.0791, time=10.31s\n",
            "iter 59: test acc=0.3466\n",
            "iter 60: train loss/sent=0.1399, time=10.24s\n",
            "iter 60: test acc=0.3466\n",
            "iter 61: train loss/sent=0.1037, time=10.09s\n",
            "iter 61: test acc=0.3466\n",
            "iter 62: train loss/sent=0.1049, time=10.22s\n",
            "iter 62: test acc=0.3466\n",
            "iter 63: train loss/sent=0.0849, time=10.28s\n",
            "iter 63: test acc=0.3452\n",
            "iter 64: train loss/sent=0.0859, time=10.21s\n",
            "iter 64: test acc=0.3434\n",
            "iter 65: train loss/sent=0.1062, time=10.27s\n",
            "iter 65: test acc=0.3443\n",
            "iter 66: train loss/sent=0.0916, time=10.14s\n",
            "iter 66: test acc=0.3471\n",
            "iter 67: train loss/sent=0.0741, time=10.17s\n",
            "iter 67: test acc=0.3493\n",
            "iter 68: train loss/sent=0.0704, time=10.16s\n",
            "iter 68: test acc=0.3480\n",
            "iter 69: train loss/sent=0.0868, time=10.25s\n",
            "iter 69: test acc=0.3462\n",
            "iter 70: train loss/sent=0.0968, time=10.24s\n",
            "iter 70: test acc=0.3462\n",
            "iter 71: train loss/sent=0.0923, time=10.22s\n",
            "iter 71: test acc=0.3475\n",
            "iter 72: train loss/sent=0.1199, time=10.30s\n",
            "iter 72: test acc=0.3462\n",
            "iter 73: train loss/sent=0.1001, time=10.23s\n",
            "iter 73: test acc=0.3480\n",
            "iter 74: train loss/sent=0.0663, time=10.21s\n",
            "iter 74: test acc=0.3498\n",
            "iter 75: train loss/sent=0.0925, time=10.20s\n",
            "iter 75: test acc=0.3475\n",
            "iter 76: train loss/sent=0.1172, time=10.25s\n",
            "iter 76: test acc=0.3462\n",
            "iter 77: train loss/sent=0.1249, time=10.23s\n",
            "iter 77: test acc=0.3434\n",
            "iter 78: train loss/sent=0.1025, time=10.21s\n",
            "iter 78: test acc=0.3421\n",
            "iter 79: train loss/sent=0.0584, time=10.25s\n",
            "iter 79: test acc=0.3430\n",
            "iter 80: train loss/sent=0.0818, time=10.27s\n",
            "iter 80: test acc=0.3425\n",
            "iter 81: train loss/sent=0.0773, time=10.09s\n",
            "iter 81: test acc=0.3434\n",
            "iter 82: train loss/sent=0.0941, time=9.99s\n",
            "iter 82: test acc=0.3457\n",
            "iter 83: train loss/sent=0.0756, time=10.15s\n",
            "iter 83: test acc=0.3448\n",
            "iter 84: train loss/sent=0.0809, time=10.13s\n",
            "iter 84: test acc=0.3439\n",
            "iter 85: train loss/sent=0.0582, time=10.07s\n",
            "iter 85: test acc=0.3430\n",
            "iter 86: train loss/sent=0.0533, time=10.12s\n",
            "iter 86: test acc=0.3466\n",
            "iter 87: train loss/sent=0.0775, time=10.24s\n",
            "iter 87: test acc=0.3462\n",
            "iter 88: train loss/sent=0.0355, time=10.29s\n",
            "iter 88: test acc=0.3462\n",
            "iter 89: train loss/sent=0.0605, time=10.20s\n",
            "iter 89: test acc=0.3462\n",
            "iter 90: train loss/sent=0.0668, time=10.19s\n",
            "iter 90: test acc=0.3439\n",
            "iter 91: train loss/sent=0.0690, time=10.19s\n",
            "iter 91: test acc=0.3434\n",
            "iter 92: train loss/sent=0.0603, time=10.23s\n",
            "iter 92: test acc=0.3430\n",
            "iter 93: train loss/sent=0.0430, time=10.26s\n",
            "iter 93: test acc=0.3421\n",
            "iter 94: train loss/sent=0.1110, time=10.20s\n",
            "iter 94: test acc=0.3443\n",
            "iter 95: train loss/sent=0.0569, time=10.13s\n",
            "iter 95: test acc=0.3457\n",
            "iter 96: train loss/sent=0.1203, time=10.16s\n",
            "iter 96: test acc=0.3480\n",
            "iter 97: train loss/sent=0.1556, time=10.11s\n",
            "iter 97: test acc=0.3480\n",
            "iter 98: train loss/sent=0.0743, time=10.26s\n",
            "iter 98: test acc=0.3462\n",
            "iter 99: train loss/sent=0.0863, time=10.19s\n",
            "iter 99: test acc=0.3457\n"
          ],
          "name": "stdout"
        }
      ]
    },
    {
      "metadata": {
        "id": "JUmsBgKOoXtS",
        "colab_type": "code",
        "colab": {
          "autoexec": {
            "startup": false,
            "wait_interval": 0
          }
        }
      },
      "cell_type": "code",
      "source": [
        ""
      ],
      "execution_count": 0,
      "outputs": []
    }
  ]
}