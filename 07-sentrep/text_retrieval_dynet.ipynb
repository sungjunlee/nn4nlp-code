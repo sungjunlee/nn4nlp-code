{
  "nbformat": 4,
  "nbformat_minor": 0,
  "metadata": {
    "colab": {
      "name": "text-retrieval-dynet.ipynb",
      "version": "0.3.2",
      "views": {},
      "default_view": {},
      "provenance": [],
      "collapsed_sections": []
    },
    "kernelspec": {
      "name": "python3",
      "display_name": "Python 3"
    }
  },
  "cells": [
    {
      "metadata": {
        "id": "4Kh5wC8UILBN",
        "colab_type": "code",
        "colab": {
          "autoexec": {
            "startup": false,
            "wait_interval": 0
          },
          "base_uri": "https://localhost:8080/",
          "height": 233
        },
        "outputId": "0b000a08-d7ce-4371-965d-ea28c112585a",
        "executionInfo": {
          "status": "ok",
          "timestamp": 1529582235505,
          "user_tz": -540,
          "elapsed": 13602,
          "user": {
            "displayName": "Sungjun Lee",
            "photoUrl": "https://lh3.googleusercontent.com/a/default-user=s128",
            "userId": "107995332831641667384"
          }
        }
      },
      "cell_type": "code",
      "source": [
        "!pip install dynet\n",
        "!git clone https://github.com/neubig/nn4nlp-code.git"
      ],
      "execution_count": 1,
      "outputs": [
        {
          "output_type": "stream",
          "text": [
            "Collecting dynet\r\n",
            "\u001b[33m  Cache entry deserialization failed, entry ignored\u001b[0m\n",
            "\u001b[?25l  Downloading https://files.pythonhosted.org/packages/1b/8c/767cc83241b2abe567d705f87589d8ad44cca321f7c78720269c45e0469f/dyNET-2.0.3-cp36-cp36m-manylinux1_x86_64.whl (27.8MB)\n",
            "\u001b[K    100% |████████████████████████████████| 27.8MB 1.5MB/s \n",
            "\u001b[?25hRequirement already satisfied: numpy in /usr/local/lib/python3.6/dist-packages (from dynet) (1.14.5)\n",
            "Collecting cython (from dynet)\n",
            "\u001b[33m  Cache entry deserialization failed, entry ignored\u001b[0m\n",
            "\u001b[?25l  Downloading https://files.pythonhosted.org/packages/6f/79/d8e2cd00bea8156a995fb284ce7b6677c49eccd2d318f73e201a9ce560dc/Cython-0.28.3-cp36-cp36m-manylinux1_x86_64.whl (3.4MB)\n",
            "\u001b[K    100% |████████████████████████████████| 3.4MB 13.8MB/s \n",
            "\u001b[?25hInstalling collected packages: cython, dynet\n",
            "Successfully installed cython-0.28.3 dynet-2.0.3\n",
            "fatal: destination path 'nn4nlp-code' already exists and is not an empty directory.\n"
          ],
          "name": "stdout"
        }
      ]
    },
    {
      "metadata": {
        "id": "jOWOpe-zMBMY",
        "colab_type": "code",
        "colab": {
          "autoexec": {
            "startup": false,
            "wait_interval": 0
          },
          "base_uri": "https://localhost:8080/",
          "height": 37
        },
        "outputId": "53a1c5fe-91c1-4199-fd67-72f2af022df4",
        "executionInfo": {
          "status": "ok",
          "timestamp": 1529582237336,
          "user_tz": -540,
          "elapsed": 1817,
          "user": {
            "displayName": "Sungjun Lee",
            "photoUrl": "https://lh3.googleusercontent.com/a/default-user=s128",
            "userId": "107995332831641667384"
          }
        }
      },
      "cell_type": "code",
      "source": [
        "from __future__ import print_function\n",
        "import time\n",
        "\n",
        "from collections import defaultdict\n",
        "import random\n",
        "import math\n",
        "import sys\n",
        "import argparse\n",
        "\n",
        "import dynet as dy\n",
        "import numpy as np"
      ],
      "execution_count": 2,
      "outputs": []
    },
    {
      "metadata": {
        "id": "5XWDfavoMFqX",
        "colab_type": "code",
        "colab": {
          "autoexec": {
            "startup": false,
            "wait_interval": 0
          },
          "base_uri": "https://localhost:8080/",
          "height": 37
        },
        "outputId": "f4250ce7-18d1-4731-80e4-d8ff4905b00c",
        "executionInfo": {
          "status": "ok",
          "timestamp": 1529582241584,
          "user_tz": -540,
          "elapsed": 1238,
          "user": {
            "displayName": "Sungjun Lee",
            "photoUrl": "https://lh3.googleusercontent.com/a/default-user=s128",
            "userId": "107995332831641667384"
          }
        }
      },
      "cell_type": "code",
      "source": [
        "# format of files: each line is \"word1 word2 ...\" aligned line-by-line\n",
        "train_src_file = \"nn4nlp-code/data/parallel/train.ja\"\n",
        "train_trg_file = \"nn4nlp-code/data/parallel/train.en\"\n",
        "dev_src_file = \"nn4nlp-code/data/parallel/dev.ja\"\n",
        "dev_trg_file = \"nn4nlp-code/data/parallel/dev.en\"\n",
        "\n",
        "w2i_src = defaultdict(lambda: len(w2i_src))\n",
        "w2i_trg = defaultdict(lambda: len(w2i_trg))\n",
        "\n",
        "def read(fname_src, fname_trg):\n",
        "    \"\"\"\n",
        "    Read parallel files where each line lines up\n",
        "    \"\"\"\n",
        "    with open(fname_src, \"r\") as f_src, open(fname_trg, \"r\") as f_trg:\n",
        "        for line_src, line_trg in zip(f_src, f_trg):\n",
        "            sent_src = [w2i_src[x] for x in line_src.strip().split()]\n",
        "            sent_trg = [w2i_trg[x] for x in line_trg.strip().split()]\n",
        "            yield (sent_src, sent_trg)\n",
        "\n",
        "# Read the data\n",
        "train = list(read(train_src_file, train_trg_file))\n",
        "unk_src = w2i_src[\"<unk>\"]\n",
        "w2i_src = defaultdict(lambda: unk_src, w2i_src)\n",
        "unk_trg = w2i_trg[\"<unk>\"]\n",
        "w2i_trg = defaultdict(lambda: unk_trg, w2i_trg)\n",
        "nwords_src = len(w2i_src)\n",
        "nwords_trg = len(w2i_trg)\n",
        "dev = list(read(dev_src_file, dev_trg_file))"
      ],
      "execution_count": 3,
      "outputs": []
    },
    {
      "metadata": {
        "id": "-SnCxprhMK3x",
        "colab_type": "code",
        "colab": {
          "autoexec": {
            "startup": false,
            "wait_interval": 0
          },
          "base_uri": "https://localhost:8080/",
          "height": 37
        },
        "outputId": "02b837a0-eb7b-49ad-c9a6-f5c2c653864d",
        "executionInfo": {
          "status": "ok",
          "timestamp": 1529582243360,
          "user_tz": -540,
          "elapsed": 742,
          "user": {
            "displayName": "Sungjun Lee",
            "photoUrl": "https://lh3.googleusercontent.com/a/default-user=s128",
            "userId": "107995332831641667384"
          }
        }
      },
      "cell_type": "code",
      "source": [
        "# DyNet Starts\n",
        "model = dy.Model()\n",
        "trainer = dy.AdamTrainer(model)\n",
        "\n",
        "# Model parameters\n",
        "EMBED_SIZE = 64\n",
        "HIDDEN_SIZE = 128\n",
        "BATCH_SIZE = 16\n",
        "\n",
        "# Lookup parameters for word embeddings\n",
        "LOOKUP_SRC = model.add_lookup_parameters((nwords_src, EMBED_SIZE))\n",
        "LOOKUP_TRG = model.add_lookup_parameters((nwords_trg, EMBED_SIZE))\n",
        "\n",
        "# Word-level BiLSTMs\n",
        "LSTM_SRC_FWD = dy.LSTMBuilder(1, EMBED_SIZE, HIDDEN_SIZE/2, model)\n",
        "LSTM_SRC_BWD = dy.LSTMBuilder(1, EMBED_SIZE, HIDDEN_SIZE/2, model)\n",
        "LSTM_TRG_FWD = dy.LSTMBuilder(1, EMBED_SIZE, HIDDEN_SIZE/2, model)\n",
        "LSTM_TRG_BWD = dy.LSTMBuilder(1, EMBED_SIZE, HIDDEN_SIZE/2, model)\n",
        "\n",
        "def encode_sents(look, fwd, bwd, sents):\n",
        "    embs = [[look[x] for x in sent] for sent in sents]\n",
        "    return [dy.concatenate([fwd.transduce(x)[-1], bwd.transduce(x)[-1]]) for x in embs]\n",
        "\n",
        "# Calculate loss for one mini-batch\n",
        "def calc_loss(sents):\n",
        "    dy.renew_cg()\n",
        "\n",
        "    src_fwd = LSTM_SRC_FWD.initial_state()\n",
        "    src_bwd = LSTM_SRC_BWD.initial_state()\n",
        "    trg_fwd = LSTM_TRG_FWD.initial_state()\n",
        "    trg_bwd = LSTM_TRG_BWD.initial_state()\n",
        "\n",
        "    # Encoding\n",
        "    src_reps = encode_sents(LOOKUP_SRC, src_fwd, src_bwd, [src for src, trg in sents])\n",
        "    trg_reps = encode_sents(LOOKUP_TRG, trg_fwd, trg_bwd, [trg for src, trg in sents])\n",
        "\n",
        "    # Concatenate the sentence representations to a single matrix\n",
        "    mtx_src = dy.concatenate_cols(src_reps)\n",
        "    mtx_trg = dy.concatenate_cols(trg_reps)\n",
        "\n",
        "    # Do matrix multiplication to get a matrix of dot product similarity scores\n",
        "    sim_mtx = dy.transpose(mtx_src) * mtx_trg\n",
        "\n",
        "    # Calculate the hinge loss over all dimensions \n",
        "    loss = dy.hinge_dim(sim_mtx, list(range(len(sents))), d=1)\n",
        "\n",
        "    return dy.sum_elems(loss)\n",
        "\n",
        "# Calculate representations for one corpus\n",
        "def index_corpus(sents):\n",
        "    \n",
        "    # To take advantage of auto-batching, do several at a time\n",
        "    for sid in range(0, len(sents), BATCH_SIZE):\n",
        "        dy.renew_cg()\n",
        "\n",
        "        src_fwd = LSTM_SRC_FWD.initial_state()\n",
        "        src_bwd = LSTM_SRC_BWD.initial_state()\n",
        "        trg_fwd = LSTM_TRG_FWD.initial_state()\n",
        "        trg_bwd = LSTM_TRG_BWD.initial_state()\n",
        "        \n",
        "        # Set up the computation graph\n",
        "        src_exprs = encode_sents(LOOKUP_SRC, src_fwd, src_bwd, [src for src, trg in sents[sid:min(sid+BATCH_SIZE,len(sents))]])\n",
        "        trg_exprs = encode_sents(LOOKUP_TRG, trg_fwd, trg_bwd, [trg for src, trg in sents[sid:min(sid+BATCH_SIZE,len(sents))]])\n",
        "\n",
        "        # Perform the forward pass to calculate everything at once\n",
        "        trg_exprs[-1][1].forward()\n",
        "\n",
        "        for src_expr, trg_expr in zip(src_exprs, trg_exprs):\n",
        "            yield (src_expr.npvalue(), trg_expr.npvalue())\n",
        "\n",
        "# Perform retrieval, and return both scores and ranked order of candidates\n",
        "def retrieve(src, db_mtx):\n",
        "    scores = np.dot(db_mtx,src)\n",
        "    ranks = np.argsort(-scores)\n",
        "    return ranks, scores"
      ],
      "execution_count": 4,
      "outputs": []
    },
    {
      "metadata": {
        "id": "Ka-UZhVLILvW",
        "colab_type": "code",
        "colab": {
          "autoexec": {
            "startup": false,
            "wait_interval": 0
          },
          "base_uri": "https://localhost:8080/",
          "height": 19961
        },
        "outputId": "813a7111-9a0e-40e0-ba81-66a9d1ae041b",
        "executionInfo": {
          "status": "ok",
          "timestamp": 1529584477286,
          "user_tz": -540,
          "elapsed": 2232836,
          "user": {
            "displayName": "Sungjun Lee",
            "photoUrl": "https://lh3.googleusercontent.com/a/default-user=s128",
            "userId": "107995332831641667384"
          }
        }
      },
      "cell_type": "code",
      "source": [
        "# Perform training\n",
        "start = time.time()\n",
        "train_mbs = all_time = dev_time = all_tagged = this_sents = this_loss = 0\n",
        "for ITER in range(100):\n",
        "    random.shuffle(train)\n",
        "    for sid in range(0, len(train), BATCH_SIZE):\n",
        "        my_size = min(BATCH_SIZE, len(train)-sid)\n",
        "        train_mbs += 1\n",
        "        if train_mbs % int(1000/BATCH_SIZE) == 0:\n",
        "            trainer.status()\n",
        "            print(\"loss/sent=%.4f, sent/sec=%.4f\" % (this_loss / this_sents, (train_mbs * BATCH_SIZE) / (time.time() - start - dev_time)), file=sys.stderr)\n",
        "            this_loss = this_sents = 0\n",
        "        # train on the minibatch\n",
        "        loss_exp = calc_loss(train[sid:sid+BATCH_SIZE])\n",
        "        this_loss += loss_exp.scalar_value()\n",
        "        this_sents += BATCH_SIZE\n",
        "        loss_exp.backward()\n",
        "        trainer.update()\n",
        "    # Perform evaluation \n",
        "    dev_start = time.time()\n",
        "    rec_at_1, rec_at_5, rec_at_10 = 0, 0, 0\n",
        "    reps = list(index_corpus(dev))\n",
        "    trg_mtx = np.stack([trg for src, trg in reps])\n",
        "    for i, (src, trg) in enumerate(reps):\n",
        "        ranks, scores = retrieve(src, trg_mtx)\n",
        "        if ranks[0] == i: rec_at_1 += 1\n",
        "        if i in ranks[:5]: rec_at_5 += 1\n",
        "        if i in ranks[:10]: rec_at_10 += 1\n",
        "    dev_time += time.time()-dev_start\n",
        "    print(\"epoch %r: dev recall@1=%.2f%% recall@5=%.2f%% recall@10=%.2f%%\" % (ITER, rec_at_1/len(dev)*100, rec_at_5/len(dev)*100, rec_at_10/len(dev)*100))"
      ],
      "execution_count": 5,
      "outputs": [
        {
          "output_type": "stream",
          "text": [
            "loss/sent=14.6606, sent/sec=441.1204\n",
            "loss/sent=11.2567, sent/sec=457.3669\n",
            "loss/sent=7.8080, sent/sec=461.1460\n",
            "loss/sent=6.7649, sent/sec=465.6212\n",
            "loss/sent=6.3778, sent/sec=469.7716\n",
            "loss/sent=5.4452, sent/sec=469.8234\n",
            "loss/sent=4.5126, sent/sec=469.8680\n",
            "loss/sent=4.2842, sent/sec=472.1616\n",
            "loss/sent=4.0363, sent/sec=471.7079\n",
            "loss/sent=3.9009, sent/sec=470.7717\n"
          ],
          "name": "stderr"
        },
        {
          "output_type": "stream",
          "text": [
            "epoch 0: dev recall@1=5.40% recall@5=16.20% recall@10=27.80%\n"
          ],
          "name": "stdout"
        },
        {
          "output_type": "stream",
          "text": [
            "loss/sent=3.1877, sent/sec=468.5226\n",
            "loss/sent=3.2156, sent/sec=466.8912\n",
            "loss/sent=2.9370, sent/sec=466.5214\n",
            "loss/sent=2.5584, sent/sec=465.8726\n",
            "loss/sent=2.7086, sent/sec=465.0600\n",
            "loss/sent=2.5970, sent/sec=463.5587\n",
            "loss/sent=2.4225, sent/sec=463.5605\n",
            "loss/sent=2.1756, sent/sec=463.2136\n",
            "loss/sent=2.1885, sent/sec=462.8532\n",
            "loss/sent=2.1517, sent/sec=461.9013\n"
          ],
          "name": "stderr"
        },
        {
          "output_type": "stream",
          "text": [
            "epoch 1: dev recall@1=6.60% recall@5=25.80% recall@10=41.20%\n"
          ],
          "name": "stdout"
        },
        {
          "output_type": "stream",
          "text": [
            "loss/sent=1.8052, sent/sec=461.0218\n",
            "loss/sent=1.8584, sent/sec=460.2186\n",
            "loss/sent=1.6299, sent/sec=459.9593\n",
            "loss/sent=1.7708, sent/sec=460.4858\n",
            "loss/sent=1.7653, sent/sec=461.4434\n",
            "loss/sent=1.5822, sent/sec=461.9925\n",
            "loss/sent=1.4675, sent/sec=462.2106\n",
            "loss/sent=1.3749, sent/sec=462.3921\n",
            "loss/sent=1.5649, sent/sec=462.1086\n",
            "loss/sent=1.4729, sent/sec=462.3705\n"
          ],
          "name": "stderr"
        },
        {
          "output_type": "stream",
          "text": [
            "epoch 2: dev recall@1=11.40% recall@5=34.60% recall@10=48.00%\n"
          ],
          "name": "stdout"
        },
        {
          "output_type": "stream",
          "text": [
            "loss/sent=1.2068, sent/sec=462.0755\n",
            "loss/sent=1.2322, sent/sec=462.2854\n",
            "loss/sent=1.0416, sent/sec=462.4715\n",
            "loss/sent=1.0904, sent/sec=462.5669\n",
            "loss/sent=1.0442, sent/sec=462.6585\n",
            "loss/sent=1.0140, sent/sec=462.7672\n",
            "loss/sent=1.1426, sent/sec=462.7418\n",
            "loss/sent=1.0948, sent/sec=462.9282\n",
            "loss/sent=1.0284, sent/sec=463.7044\n",
            "loss/sent=0.9869, sent/sec=464.3950\n"
          ],
          "name": "stderr"
        },
        {
          "output_type": "stream",
          "text": [
            "epoch 3: dev recall@1=12.40% recall@5=38.00% recall@10=53.00%\n"
          ],
          "name": "stdout"
        },
        {
          "output_type": "stream",
          "text": [
            "loss/sent=0.8727, sent/sec=464.3058\n",
            "loss/sent=0.6859, sent/sec=464.7335\n",
            "loss/sent=0.8336, sent/sec=464.7263\n",
            "loss/sent=0.8684, sent/sec=464.5944\n",
            "loss/sent=0.6738, sent/sec=465.2342\n",
            "loss/sent=0.8120, sent/sec=465.7262\n",
            "loss/sent=0.7423, sent/sec=466.0487\n",
            "loss/sent=0.7483, sent/sec=465.7502\n",
            "loss/sent=0.7736, sent/sec=465.8178\n",
            "loss/sent=0.7661, sent/sec=465.6280\n"
          ],
          "name": "stderr"
        },
        {
          "output_type": "stream",
          "text": [
            "epoch 4: dev recall@1=15.20% recall@5=39.20% recall@10=53.60%\n"
          ],
          "name": "stdout"
        },
        {
          "output_type": "stream",
          "text": [
            "loss/sent=0.5796, sent/sec=465.5666\n",
            "loss/sent=0.5099, sent/sec=465.6963\n",
            "loss/sent=0.5675, sent/sec=465.7721\n",
            "loss/sent=0.5710, sent/sec=465.8923\n",
            "loss/sent=0.5994, sent/sec=465.7588\n",
            "loss/sent=0.5259, sent/sec=465.9682\n",
            "loss/sent=0.5404, sent/sec=465.9895\n",
            "loss/sent=0.6262, sent/sec=466.0074\n",
            "loss/sent=0.6272, sent/sec=465.7724\n",
            "loss/sent=0.5949, sent/sec=465.4872\n"
          ],
          "name": "stderr"
        },
        {
          "output_type": "stream",
          "text": [
            "epoch 5: dev recall@1=15.20% recall@5=41.20% recall@10=53.00%\n"
          ],
          "name": "stdout"
        },
        {
          "output_type": "stream",
          "text": [
            "loss/sent=0.5233, sent/sec=465.1568\n",
            "loss/sent=0.4605, sent/sec=465.1631\n",
            "loss/sent=0.4620, sent/sec=464.9826\n",
            "loss/sent=0.4666, sent/sec=464.5564\n",
            "loss/sent=0.4486, sent/sec=464.3713\n",
            "loss/sent=0.4447, sent/sec=464.1965\n",
            "loss/sent=0.4339, sent/sec=464.0437\n",
            "loss/sent=0.4961, sent/sec=463.9985\n",
            "loss/sent=0.4419, sent/sec=464.0988\n",
            "loss/sent=0.5555, sent/sec=463.9735\n"
          ],
          "name": "stderr"
        },
        {
          "output_type": "stream",
          "text": [
            "epoch 6: dev recall@1=16.40% recall@5=41.80% recall@10=56.40%\n"
          ],
          "name": "stdout"
        },
        {
          "output_type": "stream",
          "text": [
            "loss/sent=0.4205, sent/sec=463.8558\n",
            "loss/sent=0.3751, sent/sec=464.0443\n",
            "loss/sent=0.3597, sent/sec=464.1284\n",
            "loss/sent=0.3337, sent/sec=464.0329\n",
            "loss/sent=0.3574, sent/sec=463.9244\n",
            "loss/sent=0.4258, sent/sec=464.0070\n",
            "loss/sent=0.3880, sent/sec=463.7679\n",
            "loss/sent=0.3906, sent/sec=463.2342\n",
            "loss/sent=0.3804, sent/sec=462.8325\n",
            "loss/sent=0.3811, sent/sec=462.6023\n"
          ],
          "name": "stderr"
        },
        {
          "output_type": "stream",
          "text": [
            "epoch 7: dev recall@1=15.20% recall@5=43.60% recall@10=58.60%\n"
          ],
          "name": "stdout"
        },
        {
          "output_type": "stream",
          "text": [
            "loss/sent=0.3909, sent/sec=462.3215\n",
            "loss/sent=0.3162, sent/sec=462.2319\n",
            "loss/sent=0.2919, sent/sec=462.3460\n",
            "loss/sent=0.3303, sent/sec=462.3759\n",
            "loss/sent=0.3304, sent/sec=462.6488\n",
            "loss/sent=0.3081, sent/sec=462.7079\n",
            "loss/sent=0.3333, sent/sec=462.9707\n",
            "loss/sent=0.3355, sent/sec=463.0239\n",
            "loss/sent=0.2745, sent/sec=463.0985\n",
            "loss/sent=0.2993, sent/sec=463.2117\n"
          ],
          "name": "stderr"
        },
        {
          "output_type": "stream",
          "text": [
            "epoch 8: dev recall@1=14.60% recall@5=46.60% recall@10=60.20%\n"
          ],
          "name": "stdout"
        },
        {
          "output_type": "stream",
          "text": [
            "loss/sent=0.2869, sent/sec=463.1303\n",
            "loss/sent=0.2926, sent/sec=463.2142\n",
            "loss/sent=0.3065, sent/sec=463.4259\n",
            "loss/sent=0.2493, sent/sec=463.4178\n",
            "loss/sent=0.2410, sent/sec=463.4311\n",
            "loss/sent=0.2488, sent/sec=463.2617\n",
            "loss/sent=0.2308, sent/sec=463.0485\n",
            "loss/sent=0.2652, sent/sec=462.8439\n",
            "loss/sent=0.2530, sent/sec=462.6851\n",
            "loss/sent=0.2636, sent/sec=462.5690\n"
          ],
          "name": "stderr"
        },
        {
          "output_type": "stream",
          "text": [
            "epoch 9: dev recall@1=17.60% recall@5=47.20% recall@10=61.40%\n"
          ],
          "name": "stdout"
        },
        {
          "output_type": "stream",
          "text": [
            "loss/sent=0.3139, sent/sec=462.4451\n",
            "loss/sent=0.2406, sent/sec=462.2717\n",
            "loss/sent=0.2643, sent/sec=461.9448\n",
            "loss/sent=0.2135, sent/sec=461.6051\n",
            "loss/sent=0.2693, sent/sec=461.4599\n",
            "loss/sent=0.2126, sent/sec=461.5309\n",
            "loss/sent=0.2542, sent/sec=461.3930\n",
            "loss/sent=0.2667, sent/sec=461.3739\n",
            "loss/sent=0.2511, sent/sec=461.3141\n",
            "loss/sent=0.2479, sent/sec=461.2194\n"
          ],
          "name": "stderr"
        },
        {
          "output_type": "stream",
          "text": [
            "epoch 10: dev recall@1=17.40% recall@5=45.40% recall@10=63.00%\n"
          ],
          "name": "stdout"
        },
        {
          "output_type": "stream",
          "text": [
            "loss/sent=0.2306, sent/sec=461.0449\n",
            "loss/sent=0.2121, sent/sec=460.9981\n",
            "loss/sent=0.1947, sent/sec=460.8253\n",
            "loss/sent=0.1790, sent/sec=460.7254\n",
            "loss/sent=0.2067, sent/sec=460.7298\n",
            "loss/sent=0.2547, sent/sec=460.6789\n",
            "loss/sent=0.2166, sent/sec=460.7460\n",
            "loss/sent=0.2326, sent/sec=460.7376\n",
            "loss/sent=0.2356, sent/sec=460.5753\n",
            "loss/sent=0.1917, sent/sec=460.4922\n"
          ],
          "name": "stderr"
        },
        {
          "output_type": "stream",
          "text": [
            "epoch 11: dev recall@1=18.80% recall@5=45.00% recall@10=61.00%\n"
          ],
          "name": "stdout"
        },
        {
          "output_type": "stream",
          "text": [
            "loss/sent=0.2315, sent/sec=460.5071\n",
            "loss/sent=0.2031, sent/sec=460.3916\n",
            "loss/sent=0.1751, sent/sec=460.4014\n",
            "loss/sent=0.1869, sent/sec=460.4307\n",
            "loss/sent=0.2009, sent/sec=460.3948\n",
            "loss/sent=0.1761, sent/sec=460.3740\n",
            "loss/sent=0.1426, sent/sec=460.2916\n",
            "loss/sent=0.2083, sent/sec=460.2390\n",
            "loss/sent=0.2180, sent/sec=460.2551\n",
            "loss/sent=0.1750, sent/sec=460.2389\n",
            "loss/sent=0.2370, sent/sec=460.4053\n"
          ],
          "name": "stderr"
        },
        {
          "output_type": "stream",
          "text": [
            "epoch 12: dev recall@1=18.80% recall@5=48.40% recall@10=63.00%\n"
          ],
          "name": "stdout"
        },
        {
          "output_type": "stream",
          "text": [
            "loss/sent=0.1904, sent/sec=460.3711\n",
            "loss/sent=0.1964, sent/sec=460.3158\n",
            "loss/sent=0.2206, sent/sec=460.3963\n",
            "loss/sent=0.1709, sent/sec=460.4620\n",
            "loss/sent=0.1704, sent/sec=460.5772\n",
            "loss/sent=0.1742, sent/sec=460.5147\n",
            "loss/sent=0.1954, sent/sec=460.6131\n",
            "loss/sent=0.1605, sent/sec=460.6385\n",
            "loss/sent=0.1553, sent/sec=460.7944\n",
            "loss/sent=0.1673, sent/sec=460.7842\n"
          ],
          "name": "stderr"
        },
        {
          "output_type": "stream",
          "text": [
            "epoch 13: dev recall@1=21.20% recall@5=46.00% recall@10=61.80%\n"
          ],
          "name": "stdout"
        },
        {
          "output_type": "stream",
          "text": [
            "loss/sent=0.1975, sent/sec=460.8305\n",
            "loss/sent=0.1752, sent/sec=460.8617\n",
            "loss/sent=0.1532, sent/sec=460.8971\n",
            "loss/sent=0.1792, sent/sec=460.9781\n",
            "loss/sent=0.1749, sent/sec=461.0843\n",
            "loss/sent=0.2238, sent/sec=461.1081\n",
            "loss/sent=0.1463, sent/sec=461.1337\n",
            "loss/sent=0.2054, sent/sec=461.0798\n",
            "loss/sent=0.1594, sent/sec=461.1675\n",
            "loss/sent=0.1815, sent/sec=461.2807\n"
          ],
          "name": "stderr"
        },
        {
          "output_type": "stream",
          "text": [
            "epoch 14: dev recall@1=21.60% recall@5=47.40% recall@10=61.20%\n"
          ],
          "name": "stdout"
        },
        {
          "output_type": "stream",
          "text": [
            "loss/sent=0.1659, sent/sec=461.1036\n",
            "loss/sent=0.1201, sent/sec=461.1535\n",
            "loss/sent=0.1639, sent/sec=461.1758\n",
            "loss/sent=0.1327, sent/sec=461.1887\n",
            "loss/sent=0.1236, sent/sec=461.2169\n",
            "loss/sent=0.1407, sent/sec=461.2502\n",
            "loss/sent=0.1486, sent/sec=461.3180\n",
            "loss/sent=0.1412, sent/sec=461.4416\n",
            "loss/sent=0.1111, sent/sec=461.6046\n",
            "loss/sent=0.1375, sent/sec=461.7039\n"
          ],
          "name": "stderr"
        },
        {
          "output_type": "stream",
          "text": [
            "epoch 15: dev recall@1=19.80% recall@5=48.20% recall@10=62.00%\n"
          ],
          "name": "stdout"
        },
        {
          "output_type": "stream",
          "text": [
            "loss/sent=0.1506, sent/sec=461.7374\n",
            "loss/sent=0.1303, sent/sec=461.8781\n",
            "loss/sent=0.1334, sent/sec=461.9632\n",
            "loss/sent=0.1574, sent/sec=461.9453\n",
            "loss/sent=0.1580, sent/sec=462.0332\n",
            "loss/sent=0.1458, sent/sec=462.0859\n",
            "loss/sent=0.1497, sent/sec=462.1142\n",
            "loss/sent=0.1248, sent/sec=462.2219\n",
            "loss/sent=0.1324, sent/sec=462.3347\n",
            "loss/sent=0.1434, sent/sec=462.4249\n"
          ],
          "name": "stderr"
        },
        {
          "output_type": "stream",
          "text": [
            "epoch 16: dev recall@1=20.40% recall@5=49.00% recall@10=62.20%\n"
          ],
          "name": "stdout"
        },
        {
          "output_type": "stream",
          "text": [
            "loss/sent=0.1786, sent/sec=462.3886\n",
            "loss/sent=0.1024, sent/sec=462.4121\n",
            "loss/sent=0.1271, sent/sec=462.5419\n",
            "loss/sent=0.1268, sent/sec=462.6331\n",
            "loss/sent=0.1217, sent/sec=462.8147\n",
            "loss/sent=0.1243, sent/sec=462.8971\n",
            "loss/sent=0.1349, sent/sec=462.9745\n",
            "loss/sent=0.1256, sent/sec=462.9808\n",
            "loss/sent=0.1230, sent/sec=463.0613\n",
            "loss/sent=0.1311, sent/sec=463.1593\n"
          ],
          "name": "stderr"
        },
        {
          "output_type": "stream",
          "text": [
            "epoch 17: dev recall@1=22.80% recall@5=50.40% recall@10=64.20%\n"
          ],
          "name": "stdout"
        },
        {
          "output_type": "stream",
          "text": [
            "loss/sent=0.1253, sent/sec=463.1117\n",
            "loss/sent=0.1225, sent/sec=463.1790\n",
            "loss/sent=0.1038, sent/sec=463.2289\n",
            "loss/sent=0.1615, sent/sec=463.3022\n",
            "loss/sent=0.1029, sent/sec=463.3705\n",
            "loss/sent=0.1606, sent/sec=463.4804\n",
            "loss/sent=0.1045, sent/sec=463.5116\n",
            "loss/sent=0.1130, sent/sec=463.5805\n",
            "loss/sent=0.1206, sent/sec=463.5831\n",
            "loss/sent=0.1401, sent/sec=463.5942\n"
          ],
          "name": "stderr"
        },
        {
          "output_type": "stream",
          "text": [
            "epoch 18: dev recall@1=22.40% recall@5=52.00% recall@10=63.60%\n"
          ],
          "name": "stdout"
        },
        {
          "output_type": "stream",
          "text": [
            "loss/sent=0.1299, sent/sec=463.5689\n",
            "loss/sent=0.1213, sent/sec=463.6034\n",
            "loss/sent=0.1153, sent/sec=463.6489\n",
            "loss/sent=0.1327, sent/sec=463.6843\n",
            "loss/sent=0.1129, sent/sec=463.6841\n",
            "loss/sent=0.1147, sent/sec=463.7259\n",
            "loss/sent=0.1122, sent/sec=463.7584\n",
            "loss/sent=0.1251, sent/sec=463.7573\n",
            "loss/sent=0.1319, sent/sec=463.8869\n",
            "loss/sent=0.1026, sent/sec=463.8548\n"
          ],
          "name": "stderr"
        },
        {
          "output_type": "stream",
          "text": [
            "epoch 19: dev recall@1=19.60% recall@5=50.00% recall@10=62.60%\n"
          ],
          "name": "stdout"
        },
        {
          "output_type": "stream",
          "text": [
            "loss/sent=0.1280, sent/sec=463.7674\n",
            "loss/sent=0.0893, sent/sec=463.7865\n",
            "loss/sent=0.1029, sent/sec=463.8385\n",
            "loss/sent=0.1065, sent/sec=463.8780\n",
            "loss/sent=0.1059, sent/sec=463.9568\n",
            "loss/sent=0.1323, sent/sec=463.9803\n",
            "loss/sent=0.1133, sent/sec=464.0165\n",
            "loss/sent=0.1018, sent/sec=463.9902\n",
            "loss/sent=0.1020, sent/sec=464.0122\n",
            "loss/sent=0.0833, sent/sec=463.9881\n"
          ],
          "name": "stderr"
        },
        {
          "output_type": "stream",
          "text": [
            "epoch 20: dev recall@1=23.40% recall@5=52.00% recall@10=65.60%\n"
          ],
          "name": "stdout"
        },
        {
          "output_type": "stream",
          "text": [
            "loss/sent=0.1158, sent/sec=463.9304\n",
            "loss/sent=0.1028, sent/sec=463.8018\n",
            "loss/sent=0.0941, sent/sec=463.7846\n",
            "loss/sent=0.1034, sent/sec=463.7507\n",
            "loss/sent=0.1038, sent/sec=463.8067\n",
            "loss/sent=0.1245, sent/sec=463.8448\n",
            "loss/sent=0.0906, sent/sec=463.8831\n",
            "loss/sent=0.0767, sent/sec=463.9684\n",
            "loss/sent=0.1123, sent/sec=463.9713\n",
            "loss/sent=0.1343, sent/sec=464.0444\n"
          ],
          "name": "stderr"
        },
        {
          "output_type": "stream",
          "text": [
            "epoch 21: dev recall@1=27.40% recall@5=51.40% recall@10=63.20%\n"
          ],
          "name": "stdout"
        },
        {
          "output_type": "stream",
          "text": [
            "loss/sent=0.1099, sent/sec=464.0498\n",
            "loss/sent=0.0758, sent/sec=464.1214\n",
            "loss/sent=0.0904, sent/sec=464.2205\n",
            "loss/sent=0.0849, sent/sec=464.2714\n",
            "loss/sent=0.1067, sent/sec=464.3431\n",
            "loss/sent=0.1170, sent/sec=464.3760\n",
            "loss/sent=0.0743, sent/sec=464.4252\n",
            "loss/sent=0.0854, sent/sec=464.4555\n",
            "loss/sent=0.1022, sent/sec=464.4701\n",
            "loss/sent=0.1022, sent/sec=464.5257\n"
          ],
          "name": "stderr"
        },
        {
          "output_type": "stream",
          "text": [
            "epoch 22: dev recall@1=27.00% recall@5=49.80% recall@10=63.80%\n"
          ],
          "name": "stdout"
        },
        {
          "output_type": "stream",
          "text": [
            "loss/sent=0.1319, sent/sec=464.5245\n",
            "loss/sent=0.0803, sent/sec=464.6211\n",
            "loss/sent=0.0889, sent/sec=464.6523\n",
            "loss/sent=0.0870, sent/sec=464.6998\n",
            "loss/sent=0.0961, sent/sec=464.7444\n",
            "loss/sent=0.0949, sent/sec=464.7759\n",
            "loss/sent=0.0929, sent/sec=464.7442\n",
            "loss/sent=0.1089, sent/sec=464.7752\n",
            "loss/sent=0.1070, sent/sec=464.7738\n",
            "loss/sent=0.0832, sent/sec=464.7523\n"
          ],
          "name": "stderr"
        },
        {
          "output_type": "stream",
          "text": [
            "epoch 23: dev recall@1=25.20% recall@5=51.80% recall@10=64.20%\n"
          ],
          "name": "stdout"
        },
        {
          "output_type": "stream",
          "text": [
            "loss/sent=0.0906, sent/sec=464.7348\n",
            "loss/sent=0.0869, sent/sec=464.7387\n",
            "loss/sent=0.0636, sent/sec=464.6964\n",
            "loss/sent=0.0776, sent/sec=464.6738\n",
            "loss/sent=0.0803, sent/sec=464.6860\n",
            "loss/sent=0.0789, sent/sec=464.7011\n",
            "loss/sent=0.0733, sent/sec=464.6837\n",
            "loss/sent=0.1034, sent/sec=464.6617\n",
            "loss/sent=0.0853, sent/sec=464.6370\n",
            "loss/sent=0.0914, sent/sec=464.5987\n",
            "loss/sent=0.0799, sent/sec=464.5600\n"
          ],
          "name": "stderr"
        },
        {
          "output_type": "stream",
          "text": [
            "epoch 24: dev recall@1=25.40% recall@5=53.00% recall@10=65.20%\n"
          ],
          "name": "stdout"
        },
        {
          "output_type": "stream",
          "text": [
            "loss/sent=0.0803, sent/sec=464.5498\n",
            "loss/sent=0.0921, sent/sec=464.5913\n",
            "loss/sent=0.0689, sent/sec=464.5780\n",
            "loss/sent=0.0710, sent/sec=464.6352\n",
            "loss/sent=0.0817, sent/sec=464.6634\n",
            "loss/sent=0.1129, sent/sec=464.6950\n",
            "loss/sent=0.0789, sent/sec=464.7270\n",
            "loss/sent=0.0829, sent/sec=464.7547\n",
            "loss/sent=0.0865, sent/sec=464.8056\n",
            "loss/sent=0.1036, sent/sec=464.8352\n"
          ],
          "name": "stderr"
        },
        {
          "output_type": "stream",
          "text": [
            "epoch 25: dev recall@1=25.40% recall@5=52.20% recall@10=64.40%\n"
          ],
          "name": "stdout"
        },
        {
          "output_type": "stream",
          "text": [
            "loss/sent=0.0866, sent/sec=464.7275\n",
            "loss/sent=0.0696, sent/sec=464.7374\n",
            "loss/sent=0.0879, sent/sec=464.7533\n",
            "loss/sent=0.0945, sent/sec=464.7575\n",
            "loss/sent=0.0885, sent/sec=464.8062\n",
            "loss/sent=0.0937, sent/sec=464.8202\n",
            "loss/sent=0.0914, sent/sec=464.7955\n",
            "loss/sent=0.0908, sent/sec=464.8144\n",
            "loss/sent=0.0722, sent/sec=464.7596\n",
            "loss/sent=0.0924, sent/sec=464.6783\n"
          ],
          "name": "stderr"
        },
        {
          "output_type": "stream",
          "text": [
            "epoch 26: dev recall@1=25.20% recall@5=52.20% recall@10=64.40%\n"
          ],
          "name": "stdout"
        },
        {
          "output_type": "stream",
          "text": [
            "loss/sent=0.0815, sent/sec=464.5443\n",
            "loss/sent=0.0876, sent/sec=464.4660\n",
            "loss/sent=0.0771, sent/sec=464.3999\n",
            "loss/sent=0.0634, sent/sec=464.3325\n",
            "loss/sent=0.0808, sent/sec=464.2353\n",
            "loss/sent=0.0917, sent/sec=464.1900\n",
            "loss/sent=0.0588, sent/sec=464.0859\n",
            "loss/sent=0.0821, sent/sec=464.0031\n",
            "loss/sent=0.0781, sent/sec=464.0041\n",
            "loss/sent=0.0768, sent/sec=463.9392\n"
          ],
          "name": "stderr"
        },
        {
          "output_type": "stream",
          "text": [
            "epoch 27: dev recall@1=24.40% recall@5=52.60% recall@10=65.20%\n"
          ],
          "name": "stdout"
        },
        {
          "output_type": "stream",
          "text": [
            "loss/sent=0.1030, sent/sec=463.8617\n",
            "loss/sent=0.0833, sent/sec=463.7005\n",
            "loss/sent=0.0825, sent/sec=463.6737\n",
            "loss/sent=0.0879, sent/sec=463.6117\n",
            "loss/sent=0.0870, sent/sec=463.5074\n",
            "loss/sent=0.0956, sent/sec=463.4184\n",
            "loss/sent=0.0886, sent/sec=463.3714\n",
            "loss/sent=0.0796, sent/sec=463.2391\n",
            "loss/sent=0.0709, sent/sec=463.1648\n",
            "loss/sent=0.1000, sent/sec=463.0815\n"
          ],
          "name": "stderr"
        },
        {
          "output_type": "stream",
          "text": [
            "epoch 28: dev recall@1=27.40% recall@5=53.00% recall@10=64.40%\n"
          ],
          "name": "stdout"
        },
        {
          "output_type": "stream",
          "text": [
            "loss/sent=0.0763, sent/sec=463.0130\n",
            "loss/sent=0.0624, sent/sec=463.0123\n",
            "loss/sent=0.0846, sent/sec=463.0099\n",
            "loss/sent=0.0792, sent/sec=462.9758\n",
            "loss/sent=0.0618, sent/sec=462.9131\n",
            "loss/sent=0.0632, sent/sec=462.9193\n",
            "loss/sent=0.0801, sent/sec=462.9420\n",
            "loss/sent=0.0599, sent/sec=462.9287\n",
            "loss/sent=0.0621, sent/sec=462.9553\n",
            "loss/sent=0.0768, sent/sec=463.0014\n"
          ],
          "name": "stderr"
        },
        {
          "output_type": "stream",
          "text": [
            "epoch 29: dev recall@1=23.00% recall@5=53.00% recall@10=62.60%\n"
          ],
          "name": "stdout"
        },
        {
          "output_type": "stream",
          "text": [
            "loss/sent=0.0581, sent/sec=462.9551\n",
            "loss/sent=0.0703, sent/sec=463.0004\n",
            "loss/sent=0.0783, sent/sec=462.9571\n",
            "loss/sent=0.0749, sent/sec=462.9492\n",
            "loss/sent=0.0715, sent/sec=462.9422\n",
            "loss/sent=0.0730, sent/sec=462.9274\n",
            "loss/sent=0.0689, sent/sec=462.9291\n",
            "loss/sent=0.0777, sent/sec=462.9831\n",
            "loss/sent=0.0757, sent/sec=463.0102\n",
            "loss/sent=0.0758, sent/sec=463.0336\n"
          ],
          "name": "stderr"
        },
        {
          "output_type": "stream",
          "text": [
            "epoch 30: dev recall@1=26.20% recall@5=53.40% recall@10=66.60%\n"
          ],
          "name": "stdout"
        },
        {
          "output_type": "stream",
          "text": [
            "loss/sent=0.0749, sent/sec=463.0394\n",
            "loss/sent=0.0608, sent/sec=463.0636\n",
            "loss/sent=0.0571, sent/sec=463.0944\n",
            "loss/sent=0.0587, sent/sec=463.1195\n",
            "loss/sent=0.0694, sent/sec=463.1451\n",
            "loss/sent=0.0539, sent/sec=463.2180\n",
            "loss/sent=0.0784, sent/sec=463.2540\n",
            "loss/sent=0.0592, sent/sec=463.3227\n",
            "loss/sent=0.0752, sent/sec=463.3367\n",
            "loss/sent=0.0718, sent/sec=463.3801\n"
          ],
          "name": "stderr"
        },
        {
          "output_type": "stream",
          "text": [
            "epoch 31: dev recall@1=25.20% recall@5=51.60% recall@10=66.40%\n"
          ],
          "name": "stdout"
        },
        {
          "output_type": "stream",
          "text": [
            "loss/sent=0.0616, sent/sec=463.3474\n",
            "loss/sent=0.0729, sent/sec=463.4036\n",
            "loss/sent=0.0969, sent/sec=463.4229\n",
            "loss/sent=0.0750, sent/sec=463.4155\n",
            "loss/sent=0.0585, sent/sec=463.4370\n",
            "loss/sent=0.0740, sent/sec=463.4418\n",
            "loss/sent=0.0812, sent/sec=463.4857\n",
            "loss/sent=0.0530, sent/sec=463.5302\n",
            "loss/sent=0.0660, sent/sec=463.5977\n",
            "loss/sent=0.0510, sent/sec=463.6252\n"
          ],
          "name": "stderr"
        },
        {
          "output_type": "stream",
          "text": [
            "epoch 32: dev recall@1=23.00% recall@5=54.20% recall@10=67.00%\n"
          ],
          "name": "stdout"
        },
        {
          "output_type": "stream",
          "text": [
            "loss/sent=0.0567, sent/sec=463.6227\n",
            "loss/sent=0.0536, sent/sec=463.6573\n",
            "loss/sent=0.0634, sent/sec=463.6833\n",
            "loss/sent=0.0580, sent/sec=463.7165\n",
            "loss/sent=0.0666, sent/sec=463.7874\n",
            "loss/sent=0.0656, sent/sec=463.7954\n",
            "loss/sent=0.0551, sent/sec=463.8216\n",
            "loss/sent=0.0484, sent/sec=463.8470\n",
            "loss/sent=0.0517, sent/sec=463.9002\n",
            "loss/sent=0.0445, sent/sec=463.9344\n"
          ],
          "name": "stderr"
        },
        {
          "output_type": "stream",
          "text": [
            "epoch 33: dev recall@1=25.80% recall@5=52.60% recall@10=65.60%\n"
          ],
          "name": "stdout"
        },
        {
          "output_type": "stream",
          "text": [
            "loss/sent=0.0584, sent/sec=463.9485\n",
            "loss/sent=0.0704, sent/sec=463.9666\n",
            "loss/sent=0.0657, sent/sec=464.0196\n",
            "loss/sent=0.0502, sent/sec=464.0694\n",
            "loss/sent=0.0313, sent/sec=464.1123\n",
            "loss/sent=0.0707, sent/sec=464.1693\n",
            "loss/sent=0.0578, sent/sec=464.2068\n",
            "loss/sent=0.0611, sent/sec=464.2316\n",
            "loss/sent=0.0497, sent/sec=464.2846\n",
            "loss/sent=0.0599, sent/sec=464.3131\n"
          ],
          "name": "stderr"
        },
        {
          "output_type": "stream",
          "text": [
            "epoch 34: dev recall@1=26.40% recall@5=54.40% recall@10=66.80%\n"
          ],
          "name": "stdout"
        },
        {
          "output_type": "stream",
          "text": [
            "loss/sent=0.0552, sent/sec=464.3136\n",
            "loss/sent=0.0384, sent/sec=464.3668\n",
            "loss/sent=0.0649, sent/sec=464.3580\n",
            "loss/sent=0.0759, sent/sec=464.4101\n",
            "loss/sent=0.0583, sent/sec=464.3929\n",
            "loss/sent=0.0485, sent/sec=464.3713\n",
            "loss/sent=0.0499, sent/sec=464.3781\n",
            "loss/sent=0.0611, sent/sec=464.3737\n",
            "loss/sent=0.0532, sent/sec=464.4065\n",
            "loss/sent=0.0395, sent/sec=464.4231\n"
          ],
          "name": "stderr"
        },
        {
          "output_type": "stream",
          "text": [
            "epoch 35: dev recall@1=24.40% recall@5=51.80% recall@10=64.40%\n"
          ],
          "name": "stdout"
        },
        {
          "output_type": "stream",
          "text": [
            "loss/sent=0.0424, sent/sec=464.4146\n",
            "loss/sent=0.0543, sent/sec=464.4440\n",
            "loss/sent=0.0536, sent/sec=464.4934\n",
            "loss/sent=0.0760, sent/sec=464.4705\n",
            "loss/sent=0.0426, sent/sec=464.4805\n",
            "loss/sent=0.0441, sent/sec=464.4809\n",
            "loss/sent=0.0480, sent/sec=464.4905\n",
            "loss/sent=0.0583, sent/sec=464.5230\n",
            "loss/sent=0.0610, sent/sec=464.5100\n",
            "loss/sent=0.0624, sent/sec=464.4855\n"
          ],
          "name": "stderr"
        },
        {
          "output_type": "stream",
          "text": [
            "epoch 36: dev recall@1=25.80% recall@5=52.00% recall@10=65.60%\n"
          ],
          "name": "stdout"
        },
        {
          "output_type": "stream",
          "text": [
            "loss/sent=0.0484, sent/sec=464.3330\n",
            "loss/sent=0.0557, sent/sec=464.2038\n",
            "loss/sent=0.0386, sent/sec=464.0929\n",
            "loss/sent=0.0389, sent/sec=464.0608\n",
            "loss/sent=0.0379, sent/sec=464.0223\n",
            "loss/sent=0.0513, sent/sec=463.9535\n",
            "loss/sent=0.0277, sent/sec=463.8320\n",
            "loss/sent=0.0416, sent/sec=463.7552\n",
            "loss/sent=0.0554, sent/sec=463.6665\n",
            "loss/sent=0.0566, sent/sec=463.6355\n",
            "loss/sent=0.0454, sent/sec=463.6236\n"
          ],
          "name": "stderr"
        },
        {
          "output_type": "stream",
          "text": [
            "epoch 37: dev recall@1=27.20% recall@5=54.00% recall@10=65.60%\n"
          ],
          "name": "stdout"
        },
        {
          "output_type": "stream",
          "text": [
            "loss/sent=0.0442, sent/sec=463.6260\n",
            "loss/sent=0.0487, sent/sec=463.6268\n",
            "loss/sent=0.0433, sent/sec=463.6845\n",
            "loss/sent=0.0672, sent/sec=463.7136\n",
            "loss/sent=0.0453, sent/sec=463.7647\n",
            "loss/sent=0.0482, sent/sec=463.7387\n",
            "loss/sent=0.0413, sent/sec=463.7141\n",
            "loss/sent=0.0531, sent/sec=463.7284\n",
            "loss/sent=0.0652, sent/sec=463.7265\n",
            "loss/sent=0.0552, sent/sec=463.7195\n"
          ],
          "name": "stderr"
        },
        {
          "output_type": "stream",
          "text": [
            "epoch 38: dev recall@1=24.60% recall@5=53.20% recall@10=68.00%\n"
          ],
          "name": "stdout"
        },
        {
          "output_type": "stream",
          "text": [
            "loss/sent=0.0473, sent/sec=463.6712\n",
            "loss/sent=0.0392, sent/sec=463.6678\n",
            "loss/sent=0.0417, sent/sec=463.6548\n",
            "loss/sent=0.0330, sent/sec=463.6720\n",
            "loss/sent=0.0636, sent/sec=463.7003\n",
            "loss/sent=0.0571, sent/sec=463.7565\n",
            "loss/sent=0.0638, sent/sec=463.7710\n",
            "loss/sent=0.0603, sent/sec=463.8234\n",
            "loss/sent=0.0488, sent/sec=463.8655\n",
            "loss/sent=0.0659, sent/sec=463.9401\n"
          ],
          "name": "stderr"
        },
        {
          "output_type": "stream",
          "text": [
            "epoch 39: dev recall@1=25.20% recall@5=51.60% recall@10=68.00%\n"
          ],
          "name": "stdout"
        },
        {
          "output_type": "stream",
          "text": [
            "loss/sent=0.0373, sent/sec=463.9503\n",
            "loss/sent=0.0375, sent/sec=463.9879\n",
            "loss/sent=0.0555, sent/sec=464.0225\n",
            "loss/sent=0.0428, sent/sec=464.0738\n",
            "loss/sent=0.0345, sent/sec=464.1277\n",
            "loss/sent=0.0409, sent/sec=464.1594\n",
            "loss/sent=0.0390, sent/sec=464.1693\n",
            "loss/sent=0.0624, sent/sec=464.1833\n",
            "loss/sent=0.0348, sent/sec=464.1704\n",
            "loss/sent=0.0753, sent/sec=464.1724\n"
          ],
          "name": "stderr"
        },
        {
          "output_type": "stream",
          "text": [
            "epoch 40: dev recall@1=27.20% recall@5=52.60% recall@10=65.80%\n"
          ],
          "name": "stdout"
        },
        {
          "output_type": "stream",
          "text": [
            "loss/sent=0.0456, sent/sec=464.1201\n",
            "loss/sent=0.0628, sent/sec=464.1128\n",
            "loss/sent=0.0421, sent/sec=464.1122\n",
            "loss/sent=0.0408, sent/sec=464.0958\n",
            "loss/sent=0.0515, sent/sec=464.1160\n",
            "loss/sent=0.0528, sent/sec=464.1196\n",
            "loss/sent=0.0424, sent/sec=464.1250\n",
            "loss/sent=0.0449, sent/sec=464.1458\n",
            "loss/sent=0.0474, sent/sec=464.1675\n",
            "loss/sent=0.0292, sent/sec=464.1794\n"
          ],
          "name": "stderr"
        },
        {
          "output_type": "stream",
          "text": [
            "epoch 41: dev recall@1=27.80% recall@5=54.20% recall@10=65.60%\n"
          ],
          "name": "stdout"
        },
        {
          "output_type": "stream",
          "text": [
            "loss/sent=0.0399, sent/sec=464.1322\n",
            "loss/sent=0.0454, sent/sec=464.1006\n",
            "loss/sent=0.0574, sent/sec=464.0858\n",
            "loss/sent=0.0560, sent/sec=464.1095\n",
            "loss/sent=0.0391, sent/sec=464.1019\n",
            "loss/sent=0.0368, sent/sec=464.1597\n",
            "loss/sent=0.0495, sent/sec=464.1843\n",
            "loss/sent=0.0327, sent/sec=464.2141\n",
            "loss/sent=0.0531, sent/sec=464.2437\n",
            "loss/sent=0.0481, sent/sec=464.2716\n"
          ],
          "name": "stderr"
        },
        {
          "output_type": "stream",
          "text": [
            "epoch 42: dev recall@1=26.80% recall@5=50.40% recall@10=62.60%\n"
          ],
          "name": "stdout"
        },
        {
          "output_type": "stream",
          "text": [
            "loss/sent=0.0417, sent/sec=464.2592\n",
            "loss/sent=0.0420, sent/sec=464.2980\n",
            "loss/sent=0.0495, sent/sec=464.3220\n",
            "loss/sent=0.0541, sent/sec=464.3591\n",
            "loss/sent=0.0478, sent/sec=464.3773\n",
            "loss/sent=0.0638, sent/sec=464.3900\n",
            "loss/sent=0.0418, sent/sec=464.4093\n",
            "loss/sent=0.0441, sent/sec=464.4545\n",
            "loss/sent=0.0493, sent/sec=464.4586\n",
            "loss/sent=0.0356, sent/sec=464.4756\n"
          ],
          "name": "stderr"
        },
        {
          "output_type": "stream",
          "text": [
            "epoch 43: dev recall@1=28.40% recall@5=55.60% recall@10=67.40%\n"
          ],
          "name": "stdout"
        },
        {
          "output_type": "stream",
          "text": [
            "loss/sent=0.0563, sent/sec=464.4704\n",
            "loss/sent=0.0284, sent/sec=464.4926\n",
            "loss/sent=0.0592, sent/sec=464.5245\n",
            "loss/sent=0.0301, sent/sec=464.5204\n",
            "loss/sent=0.0492, sent/sec=464.5636\n",
            "loss/sent=0.0257, sent/sec=464.5919\n",
            "loss/sent=0.0518, sent/sec=464.6002\n",
            "loss/sent=0.0481, sent/sec=464.6201\n",
            "loss/sent=0.0351, sent/sec=464.6321\n",
            "loss/sent=0.0417, sent/sec=464.6471\n"
          ],
          "name": "stderr"
        },
        {
          "output_type": "stream",
          "text": [
            "epoch 44: dev recall@1=27.80% recall@5=55.40% recall@10=67.80%\n"
          ],
          "name": "stdout"
        },
        {
          "output_type": "stream",
          "text": [
            "loss/sent=0.0405, sent/sec=464.6541\n",
            "loss/sent=0.0304, sent/sec=464.6771\n",
            "loss/sent=0.0405, sent/sec=464.7205\n",
            "loss/sent=0.0482, sent/sec=464.7344\n",
            "loss/sent=0.0277, sent/sec=464.7575\n",
            "loss/sent=0.0340, sent/sec=464.7856\n",
            "loss/sent=0.0382, sent/sec=464.8032\n",
            "loss/sent=0.0402, sent/sec=464.7955\n",
            "loss/sent=0.0596, sent/sec=464.8200\n",
            "loss/sent=0.0347, sent/sec=464.8715\n"
          ],
          "name": "stderr"
        },
        {
          "output_type": "stream",
          "text": [
            "epoch 45: dev recall@1=28.80% recall@5=54.40% recall@10=68.40%\n"
          ],
          "name": "stdout"
        },
        {
          "output_type": "stream",
          "text": [
            "loss/sent=0.0515, sent/sec=464.8991\n",
            "loss/sent=0.0423, sent/sec=464.9323\n",
            "loss/sent=0.0427, sent/sec=464.9432\n",
            "loss/sent=0.0362, sent/sec=464.9708\n",
            "loss/sent=0.0523, sent/sec=465.0326\n",
            "loss/sent=0.0509, sent/sec=465.0718\n",
            "loss/sent=0.0474, sent/sec=465.0764\n",
            "loss/sent=0.0374, sent/sec=465.0781\n",
            "loss/sent=0.0353, sent/sec=465.1136\n",
            "loss/sent=0.0540, sent/sec=465.1576\n"
          ],
          "name": "stderr"
        },
        {
          "output_type": "stream",
          "text": [
            "epoch 46: dev recall@1=29.80% recall@5=55.80% recall@10=67.40%\n"
          ],
          "name": "stdout"
        },
        {
          "output_type": "stream",
          "text": [
            "loss/sent=0.0304, sent/sec=465.1726\n",
            "loss/sent=0.0393, sent/sec=465.1473\n",
            "loss/sent=0.0317, sent/sec=465.1806\n",
            "loss/sent=0.0387, sent/sec=465.1749\n",
            "loss/sent=0.0299, sent/sec=465.2056\n",
            "loss/sent=0.0384, sent/sec=465.2228\n",
            "loss/sent=0.0473, sent/sec=465.2055\n",
            "loss/sent=0.0286, sent/sec=465.1691\n",
            "loss/sent=0.0360, sent/sec=465.1852\n",
            "loss/sent=0.0330, sent/sec=465.2291\n"
          ],
          "name": "stderr"
        },
        {
          "output_type": "stream",
          "text": [
            "epoch 47: dev recall@1=27.80% recall@5=56.60% recall@10=69.00%\n"
          ],
          "name": "stdout"
        },
        {
          "output_type": "stream",
          "text": [
            "loss/sent=0.0612, sent/sec=465.2232\n",
            "loss/sent=0.0278, sent/sec=465.2337\n",
            "loss/sent=0.0301, sent/sec=465.2338\n",
            "loss/sent=0.0293, sent/sec=465.2178\n",
            "loss/sent=0.0351, sent/sec=465.2002\n",
            "loss/sent=0.0377, sent/sec=465.1739\n",
            "loss/sent=0.0417, sent/sec=465.0856\n",
            "loss/sent=0.0404, sent/sec=464.9939\n",
            "loss/sent=0.0342, sent/sec=464.8884\n",
            "loss/sent=0.0394, sent/sec=464.7700\n"
          ],
          "name": "stderr"
        },
        {
          "output_type": "stream",
          "text": [
            "epoch 48: dev recall@1=26.60% recall@5=57.00% recall@10=69.60%\n"
          ],
          "name": "stdout"
        },
        {
          "output_type": "stream",
          "text": [
            "loss/sent=0.0409, sent/sec=464.6379\n",
            "loss/sent=0.0499, sent/sec=464.5586\n",
            "loss/sent=0.0448, sent/sec=464.5657\n",
            "loss/sent=0.0343, sent/sec=464.5825\n",
            "loss/sent=0.0418, sent/sec=464.5661\n",
            "loss/sent=0.0499, sent/sec=464.5484\n",
            "loss/sent=0.0321, sent/sec=464.5014\n",
            "loss/sent=0.0382, sent/sec=464.4814\n",
            "loss/sent=0.0334, sent/sec=464.4722\n",
            "loss/sent=0.0458, sent/sec=464.4375\n",
            "loss/sent=0.0430, sent/sec=464.4364\n"
          ],
          "name": "stderr"
        },
        {
          "output_type": "stream",
          "text": [
            "epoch 49: dev recall@1=31.00% recall@5=56.20% recall@10=68.60%\n"
          ],
          "name": "stdout"
        },
        {
          "output_type": "stream",
          "text": [
            "loss/sent=0.0359, sent/sec=464.3911\n",
            "loss/sent=0.0400, sent/sec=464.3995\n",
            "loss/sent=0.0399, sent/sec=464.3874\n",
            "loss/sent=0.0421, sent/sec=464.3506\n",
            "loss/sent=0.0471, sent/sec=464.3516\n",
            "loss/sent=0.0376, sent/sec=464.3504\n",
            "loss/sent=0.0499, sent/sec=464.3659\n",
            "loss/sent=0.0392, sent/sec=464.3631\n",
            "loss/sent=0.0348, sent/sec=464.3726\n",
            "loss/sent=0.0303, sent/sec=464.3781\n"
          ],
          "name": "stderr"
        },
        {
          "output_type": "stream",
          "text": [
            "epoch 50: dev recall@1=28.40% recall@5=57.40% recall@10=69.40%\n"
          ],
          "name": "stdout"
        },
        {
          "output_type": "stream",
          "text": [
            "loss/sent=0.0398, sent/sec=464.3803\n",
            "loss/sent=0.0277, sent/sec=464.3993\n",
            "loss/sent=0.0329, sent/sec=464.4263\n",
            "loss/sent=0.0340, sent/sec=464.4613\n",
            "loss/sent=0.0240, sent/sec=464.4750\n",
            "loss/sent=0.0354, sent/sec=464.4880\n",
            "loss/sent=0.0311, sent/sec=464.4825\n",
            "loss/sent=0.0343, sent/sec=464.4363\n",
            "loss/sent=0.0351, sent/sec=464.4303\n",
            "loss/sent=0.0241, sent/sec=464.4080\n"
          ],
          "name": "stderr"
        },
        {
          "output_type": "stream",
          "text": [
            "epoch 51: dev recall@1=30.40% recall@5=58.80% recall@10=69.00%\n"
          ],
          "name": "stdout"
        },
        {
          "output_type": "stream",
          "text": [
            "loss/sent=0.0350, sent/sec=464.3688\n",
            "loss/sent=0.0278, sent/sec=464.3724\n",
            "loss/sent=0.0328, sent/sec=464.3705\n",
            "loss/sent=0.0180, sent/sec=464.3822\n",
            "loss/sent=0.0355, sent/sec=464.4327\n",
            "loss/sent=0.0429, sent/sec=464.4469\n",
            "loss/sent=0.0421, sent/sec=464.4870\n",
            "loss/sent=0.0398, sent/sec=464.5263\n",
            "loss/sent=0.0379, sent/sec=464.5617\n",
            "loss/sent=0.0269, sent/sec=464.5739\n"
          ],
          "name": "stderr"
        },
        {
          "output_type": "stream",
          "text": [
            "epoch 52: dev recall@1=28.80% recall@5=58.00% recall@10=68.60%\n"
          ],
          "name": "stdout"
        },
        {
          "output_type": "stream",
          "text": [
            "loss/sent=0.0375, sent/sec=464.5724\n",
            "loss/sent=0.0247, sent/sec=464.6136\n",
            "loss/sent=0.0462, sent/sec=464.6373\n",
            "loss/sent=0.0410, sent/sec=464.6422\n",
            "loss/sent=0.0438, sent/sec=464.6557\n",
            "loss/sent=0.0466, sent/sec=464.6591\n",
            "loss/sent=0.0259, sent/sec=464.7170\n",
            "loss/sent=0.0323, sent/sec=464.7322\n",
            "loss/sent=0.0291, sent/sec=464.7488\n",
            "loss/sent=0.0268, sent/sec=464.7730\n"
          ],
          "name": "stderr"
        },
        {
          "output_type": "stream",
          "text": [
            "epoch 53: dev recall@1=30.40% recall@5=57.60% recall@10=67.40%\n"
          ],
          "name": "stdout"
        },
        {
          "output_type": "stream",
          "text": [
            "loss/sent=0.0297, sent/sec=464.7577\n",
            "loss/sent=0.0428, sent/sec=464.7902\n",
            "loss/sent=0.0281, sent/sec=464.8037\n",
            "loss/sent=0.0485, sent/sec=464.8347\n",
            "loss/sent=0.0488, sent/sec=464.8597\n",
            "loss/sent=0.0287, sent/sec=464.8760\n",
            "loss/sent=0.0141, sent/sec=464.9200\n",
            "loss/sent=0.0319, sent/sec=464.9306\n",
            "loss/sent=0.0223, sent/sec=464.9598\n",
            "loss/sent=0.0322, sent/sec=464.9788\n"
          ],
          "name": "stderr"
        },
        {
          "output_type": "stream",
          "text": [
            "epoch 54: dev recall@1=31.20% recall@5=59.80% recall@10=68.80%\n"
          ],
          "name": "stdout"
        },
        {
          "output_type": "stream",
          "text": [
            "loss/sent=0.0227, sent/sec=464.9709\n",
            "loss/sent=0.0198, sent/sec=465.0033\n",
            "loss/sent=0.0450, sent/sec=465.0428\n",
            "loss/sent=0.0380, sent/sec=465.0626\n",
            "loss/sent=0.0290, sent/sec=465.0745\n",
            "loss/sent=0.0308, sent/sec=465.0815\n",
            "loss/sent=0.0283, sent/sec=465.0859\n",
            "loss/sent=0.0429, sent/sec=465.0772\n",
            "loss/sent=0.0327, sent/sec=465.0681\n",
            "loss/sent=0.0346, sent/sec=465.0641\n"
          ],
          "name": "stderr"
        },
        {
          "output_type": "stream",
          "text": [
            "epoch 55: dev recall@1=31.20% recall@5=57.80% recall@10=70.80%\n"
          ],
          "name": "stdout"
        },
        {
          "output_type": "stream",
          "text": [
            "loss/sent=0.0396, sent/sec=465.0392\n",
            "loss/sent=0.0211, sent/sec=465.0529\n",
            "loss/sent=0.0314, sent/sec=465.0581\n",
            "loss/sent=0.0271, sent/sec=465.0630\n",
            "loss/sent=0.0305, sent/sec=465.0839\n",
            "loss/sent=0.0368, sent/sec=465.0983\n",
            "loss/sent=0.0253, sent/sec=465.1182\n",
            "loss/sent=0.0332, sent/sec=465.1349\n",
            "loss/sent=0.0356, sent/sec=465.1555\n",
            "loss/sent=0.0316, sent/sec=465.1936\n"
          ],
          "name": "stderr"
        },
        {
          "output_type": "stream",
          "text": [
            "epoch 56: dev recall@1=30.60% recall@5=58.40% recall@10=70.00%\n"
          ],
          "name": "stdout"
        },
        {
          "output_type": "stream",
          "text": [
            "loss/sent=0.0334, sent/sec=465.1716\n",
            "loss/sent=0.0302, sent/sec=465.1933\n",
            "loss/sent=0.0189, sent/sec=465.2025\n",
            "loss/sent=0.0251, sent/sec=465.2134\n",
            "loss/sent=0.0200, sent/sec=465.2306\n",
            "loss/sent=0.0297, sent/sec=465.2381\n",
            "loss/sent=0.0266, sent/sec=465.2724\n",
            "loss/sent=0.0485, sent/sec=465.2885\n",
            "loss/sent=0.0308, sent/sec=465.3151\n",
            "loss/sent=0.0156, sent/sec=465.3176\n"
          ],
          "name": "stderr"
        },
        {
          "output_type": "stream",
          "text": [
            "epoch 57: dev recall@1=31.60% recall@5=60.00% recall@10=71.00%\n"
          ],
          "name": "stdout"
        },
        {
          "output_type": "stream",
          "text": [
            "loss/sent=0.0262, sent/sec=465.3118\n",
            "loss/sent=0.0286, sent/sec=465.3004\n",
            "loss/sent=0.0358, sent/sec=465.3066\n",
            "loss/sent=0.0330, sent/sec=465.3290\n",
            "loss/sent=0.0341, sent/sec=465.3425\n",
            "loss/sent=0.0318, sent/sec=465.3735\n",
            "loss/sent=0.0260, sent/sec=465.4182\n",
            "loss/sent=0.0297, sent/sec=465.4318\n",
            "loss/sent=0.0312, sent/sec=465.4680\n",
            "loss/sent=0.0248, sent/sec=465.4993\n"
          ],
          "name": "stderr"
        },
        {
          "output_type": "stream",
          "text": [
            "epoch 58: dev recall@1=28.60% recall@5=55.40% recall@10=66.60%\n"
          ],
          "name": "stdout"
        },
        {
          "output_type": "stream",
          "text": [
            "loss/sent=0.0291, sent/sec=465.5265\n",
            "loss/sent=0.0351, sent/sec=465.5617\n",
            "loss/sent=0.0229, sent/sec=465.6085\n",
            "loss/sent=0.0309, sent/sec=465.6427\n",
            "loss/sent=0.0268, sent/sec=465.6719\n",
            "loss/sent=0.0236, sent/sec=465.6810\n",
            "loss/sent=0.0222, sent/sec=465.7019\n",
            "loss/sent=0.0409, sent/sec=465.7374\n",
            "loss/sent=0.0175, sent/sec=465.7885\n",
            "loss/sent=0.0276, sent/sec=465.8097\n"
          ],
          "name": "stderr"
        },
        {
          "output_type": "stream",
          "text": [
            "epoch 59: dev recall@1=31.00% recall@5=58.60% recall@10=71.00%\n"
          ],
          "name": "stdout"
        },
        {
          "output_type": "stream",
          "text": [
            "loss/sent=0.0286, sent/sec=465.8217\n",
            "loss/sent=0.0327, sent/sec=465.8465\n",
            "loss/sent=0.0272, sent/sec=465.8610\n",
            "loss/sent=0.0383, sent/sec=465.8883\n",
            "loss/sent=0.0225, sent/sec=465.8821\n",
            "loss/sent=0.0185, sent/sec=465.8619\n",
            "loss/sent=0.0307, sent/sec=465.8544\n",
            "loss/sent=0.0310, sent/sec=465.8328\n",
            "loss/sent=0.0230, sent/sec=465.8290\n",
            "loss/sent=0.0340, sent/sec=465.8279\n"
          ],
          "name": "stderr"
        },
        {
          "output_type": "stream",
          "text": [
            "epoch 60: dev recall@1=32.20% recall@5=58.60% recall@10=71.40%\n"
          ],
          "name": "stdout"
        },
        {
          "output_type": "stream",
          "text": [
            "loss/sent=0.0305, sent/sec=465.8256\n",
            "loss/sent=0.0180, sent/sec=465.8204\n",
            "loss/sent=0.0385, sent/sec=465.7969\n",
            "loss/sent=0.0367, sent/sec=465.7771\n",
            "loss/sent=0.0300, sent/sec=465.7907\n",
            "loss/sent=0.0276, sent/sec=465.7711\n",
            "loss/sent=0.0322, sent/sec=465.7499\n",
            "loss/sent=0.0328, sent/sec=465.7450\n",
            "loss/sent=0.0272, sent/sec=465.7233\n",
            "loss/sent=0.0319, sent/sec=465.7232\n",
            "loss/sent=0.0244, sent/sec=465.7277\n"
          ],
          "name": "stderr"
        },
        {
          "output_type": "stream",
          "text": [
            "epoch 61: dev recall@1=31.80% recall@5=56.80% recall@10=70.60%\n"
          ],
          "name": "stdout"
        },
        {
          "output_type": "stream",
          "text": [
            "loss/sent=0.0362, sent/sec=465.7239\n",
            "loss/sent=0.0275, sent/sec=465.7371\n",
            "loss/sent=0.0367, sent/sec=465.7274\n",
            "loss/sent=0.0360, sent/sec=465.7080\n",
            "loss/sent=0.0244, sent/sec=465.7089\n",
            "loss/sent=0.0302, sent/sec=465.7267\n",
            "loss/sent=0.0294, sent/sec=465.7126\n",
            "loss/sent=0.0213, sent/sec=465.6931\n",
            "loss/sent=0.0327, sent/sec=465.6886\n",
            "loss/sent=0.0370, sent/sec=465.6788\n"
          ],
          "name": "stderr"
        },
        {
          "output_type": "stream",
          "text": [
            "epoch 62: dev recall@1=32.40% recall@5=58.80% recall@10=69.60%\n"
          ],
          "name": "stdout"
        },
        {
          "output_type": "stream",
          "text": [
            "loss/sent=0.0184, sent/sec=465.6729\n",
            "loss/sent=0.0283, sent/sec=465.6751\n",
            "loss/sent=0.0322, sent/sec=465.6724\n",
            "loss/sent=0.0238, sent/sec=465.6701\n",
            "loss/sent=0.0345, sent/sec=465.6669\n",
            "loss/sent=0.0356, sent/sec=465.6347\n",
            "loss/sent=0.0265, sent/sec=465.6332\n",
            "loss/sent=0.0168, sent/sec=465.6277\n",
            "loss/sent=0.0264, sent/sec=465.6052\n",
            "loss/sent=0.0301, sent/sec=465.5993\n"
          ],
          "name": "stderr"
        },
        {
          "output_type": "stream",
          "text": [
            "epoch 63: dev recall@1=32.60% recall@5=59.20% recall@10=69.00%\n"
          ],
          "name": "stdout"
        },
        {
          "output_type": "stream",
          "text": [
            "loss/sent=0.0249, sent/sec=465.5648\n",
            "loss/sent=0.0183, sent/sec=465.5454\n",
            "loss/sent=0.0195, sent/sec=465.5229\n",
            "loss/sent=0.0288, sent/sec=465.4985\n",
            "loss/sent=0.0339, sent/sec=465.4944\n",
            "loss/sent=0.0242, sent/sec=465.4776\n",
            "loss/sent=0.0238, sent/sec=465.4341\n",
            "loss/sent=0.0270, sent/sec=465.4112\n",
            "loss/sent=0.0309, sent/sec=465.3760\n",
            "loss/sent=0.0255, sent/sec=465.3653\n"
          ],
          "name": "stderr"
        },
        {
          "output_type": "stream",
          "text": [
            "epoch 64: dev recall@1=31.00% recall@5=58.00% recall@10=71.00%\n"
          ],
          "name": "stdout"
        },
        {
          "output_type": "stream",
          "text": [
            "loss/sent=0.0283, sent/sec=465.3307\n",
            "loss/sent=0.0169, sent/sec=465.3247\n",
            "loss/sent=0.0213, sent/sec=465.3202\n",
            "loss/sent=0.0276, sent/sec=465.3165\n",
            "loss/sent=0.0223, sent/sec=465.3142\n",
            "loss/sent=0.0176, sent/sec=465.3284\n",
            "loss/sent=0.0397, sent/sec=465.3111\n",
            "loss/sent=0.0439, sent/sec=465.2893\n",
            "loss/sent=0.0251, sent/sec=465.2775\n",
            "loss/sent=0.0364, sent/sec=465.2483\n"
          ],
          "name": "stderr"
        },
        {
          "output_type": "stream",
          "text": [
            "epoch 65: dev recall@1=30.80% recall@5=57.20% recall@10=71.00%\n"
          ],
          "name": "stdout"
        },
        {
          "output_type": "stream",
          "text": [
            "loss/sent=0.0246, sent/sec=465.2033\n",
            "loss/sent=0.0268, sent/sec=465.2137\n",
            "loss/sent=0.0314, sent/sec=465.2388\n",
            "loss/sent=0.0430, sent/sec=465.2563\n",
            "loss/sent=0.0304, sent/sec=465.2544\n",
            "loss/sent=0.0229, sent/sec=465.2562\n",
            "loss/sent=0.0362, sent/sec=465.2468\n",
            "loss/sent=0.0271, sent/sec=465.2633\n",
            "loss/sent=0.0283, sent/sec=465.2624\n",
            "loss/sent=0.0233, sent/sec=465.2671\n"
          ],
          "name": "stderr"
        },
        {
          "output_type": "stream",
          "text": [
            "epoch 66: dev recall@1=30.80% recall@5=58.80% recall@10=73.00%\n"
          ],
          "name": "stdout"
        },
        {
          "output_type": "stream",
          "text": [
            "loss/sent=0.0238, sent/sec=465.2426\n",
            "loss/sent=0.0268, sent/sec=465.2582\n",
            "loss/sent=0.0306, sent/sec=465.2596\n",
            "loss/sent=0.0272, sent/sec=465.2636\n",
            "loss/sent=0.0192, sent/sec=465.2517\n",
            "loss/sent=0.0345, sent/sec=465.2382\n",
            "loss/sent=0.0164, sent/sec=465.2456\n",
            "loss/sent=0.0300, sent/sec=465.2487\n",
            "loss/sent=0.0247, sent/sec=465.2067\n",
            "loss/sent=0.0218, sent/sec=465.1833\n"
          ],
          "name": "stderr"
        },
        {
          "output_type": "stream",
          "text": [
            "epoch 67: dev recall@1=31.60% recall@5=60.20% recall@10=72.20%\n"
          ],
          "name": "stdout"
        },
        {
          "output_type": "stream",
          "text": [
            "loss/sent=0.0314, sent/sec=465.1628\n",
            "loss/sent=0.0198, sent/sec=465.1521\n",
            "loss/sent=0.0339, sent/sec=465.1586\n",
            "loss/sent=0.0376, sent/sec=465.1339\n",
            "loss/sent=0.0248, sent/sec=465.1182\n",
            "loss/sent=0.0242, sent/sec=465.1003\n",
            "loss/sent=0.0248, sent/sec=465.0950\n",
            "loss/sent=0.0211, sent/sec=465.0732\n",
            "loss/sent=0.0279, sent/sec=465.0730\n",
            "loss/sent=0.0231, sent/sec=465.0333\n"
          ],
          "name": "stderr"
        },
        {
          "output_type": "stream",
          "text": [
            "epoch 68: dev recall@1=30.20% recall@5=60.00% recall@10=69.20%\n"
          ],
          "name": "stdout"
        },
        {
          "output_type": "stream",
          "text": [
            "loss/sent=0.0228, sent/sec=465.0262\n",
            "loss/sent=0.0337, sent/sec=465.0115\n",
            "loss/sent=0.0334, sent/sec=465.0010\n",
            "loss/sent=0.0292, sent/sec=465.0026\n",
            "loss/sent=0.0235, sent/sec=464.9831\n",
            "loss/sent=0.0235, sent/sec=464.9718\n",
            "loss/sent=0.0139, sent/sec=464.9350\n",
            "loss/sent=0.0254, sent/sec=464.9305\n",
            "loss/sent=0.0226, sent/sec=464.9597\n",
            "loss/sent=0.0243, sent/sec=464.9720\n"
          ],
          "name": "stderr"
        },
        {
          "output_type": "stream",
          "text": [
            "epoch 69: dev recall@1=30.60% recall@5=60.40% recall@10=70.00%\n"
          ],
          "name": "stdout"
        },
        {
          "output_type": "stream",
          "text": [
            "loss/sent=0.0326, sent/sec=464.9477\n",
            "loss/sent=0.0190, sent/sec=464.9312\n",
            "loss/sent=0.0225, sent/sec=464.9321\n",
            "loss/sent=0.0171, sent/sec=464.9526\n",
            "loss/sent=0.0222, sent/sec=464.9559\n",
            "loss/sent=0.0244, sent/sec=464.9285\n",
            "loss/sent=0.0224, sent/sec=464.9272\n",
            "loss/sent=0.0352, sent/sec=464.9237\n",
            "loss/sent=0.0261, sent/sec=464.9165\n",
            "loss/sent=0.0417, sent/sec=464.8678\n"
          ],
          "name": "stderr"
        },
        {
          "output_type": "stream",
          "text": [
            "epoch 70: dev recall@1=32.20% recall@5=59.20% recall@10=70.40%\n"
          ],
          "name": "stdout"
        },
        {
          "output_type": "stream",
          "text": [
            "loss/sent=0.0260, sent/sec=464.8415\n",
            "loss/sent=0.0313, sent/sec=464.8231\n",
            "loss/sent=0.0228, sent/sec=464.8208\n",
            "loss/sent=0.0221, sent/sec=464.8224\n",
            "loss/sent=0.0202, sent/sec=464.8413\n",
            "loss/sent=0.0337, sent/sec=464.8593\n",
            "loss/sent=0.0217, sent/sec=464.8710\n",
            "loss/sent=0.0234, sent/sec=464.8375\n",
            "loss/sent=0.0288, sent/sec=464.8097\n",
            "loss/sent=0.0308, sent/sec=464.7967\n"
          ],
          "name": "stderr"
        },
        {
          "output_type": "stream",
          "text": [
            "epoch 71: dev recall@1=30.60% recall@5=59.40% recall@10=70.60%\n"
          ],
          "name": "stdout"
        },
        {
          "output_type": "stream",
          "text": [
            "loss/sent=0.0207, sent/sec=464.7676\n",
            "loss/sent=0.0269, sent/sec=464.7643\n",
            "loss/sent=0.0250, sent/sec=464.7372\n",
            "loss/sent=0.0165, sent/sec=464.7104\n",
            "loss/sent=0.0196, sent/sec=464.6753\n",
            "loss/sent=0.0162, sent/sec=464.6694\n",
            "loss/sent=0.0117, sent/sec=464.6457\n",
            "loss/sent=0.0185, sent/sec=464.6235\n",
            "loss/sent=0.0233, sent/sec=464.6112\n",
            "loss/sent=0.0205, sent/sec=464.6081\n"
          ],
          "name": "stderr"
        },
        {
          "output_type": "stream",
          "text": [
            "epoch 72: dev recall@1=32.40% recall@5=58.40% recall@10=68.00%\n"
          ],
          "name": "stdout"
        },
        {
          "output_type": "stream",
          "text": [
            "loss/sent=0.0416, sent/sec=464.5837\n",
            "loss/sent=0.0082, sent/sec=464.5668\n",
            "loss/sent=0.0175, sent/sec=464.5425\n",
            "loss/sent=0.0208, sent/sec=464.5072\n",
            "loss/sent=0.0275, sent/sec=464.4735\n",
            "loss/sent=0.0297, sent/sec=464.4441\n",
            "loss/sent=0.0212, sent/sec=464.4231\n",
            "loss/sent=0.0227, sent/sec=464.4104\n",
            "loss/sent=0.0250, sent/sec=464.4243\n",
            "loss/sent=0.0195, sent/sec=464.4046\n"
          ],
          "name": "stderr"
        },
        {
          "output_type": "stream",
          "text": [
            "epoch 73: dev recall@1=32.60% recall@5=56.60% recall@10=67.40%\n"
          ],
          "name": "stdout"
        },
        {
          "output_type": "stream",
          "text": [
            "loss/sent=0.0165, sent/sec=464.3979\n",
            "loss/sent=0.0222, sent/sec=464.3864\n",
            "loss/sent=0.0240, sent/sec=464.3639\n",
            "loss/sent=0.0222, sent/sec=464.3413\n",
            "loss/sent=0.0249, sent/sec=464.3154\n",
            "loss/sent=0.0192, sent/sec=464.3176\n",
            "loss/sent=0.0293, sent/sec=464.3219\n",
            "loss/sent=0.0170, sent/sec=464.3132\n",
            "loss/sent=0.0248, sent/sec=464.3127\n",
            "loss/sent=0.0232, sent/sec=464.3011\n",
            "loss/sent=0.0251, sent/sec=464.2941\n"
          ],
          "name": "stderr"
        },
        {
          "output_type": "stream",
          "text": [
            "epoch 74: dev recall@1=33.80% recall@5=58.00% recall@10=68.80%\n"
          ],
          "name": "stdout"
        },
        {
          "output_type": "stream",
          "text": [
            "loss/sent=0.0178, sent/sec=464.2663\n",
            "loss/sent=0.0215, sent/sec=464.2600\n",
            "loss/sent=0.0363, sent/sec=464.2409\n",
            "loss/sent=0.0379, sent/sec=464.2147\n",
            "loss/sent=0.0259, sent/sec=464.2060\n",
            "loss/sent=0.0189, sent/sec=464.1965\n",
            "loss/sent=0.0300, sent/sec=464.1532\n",
            "loss/sent=0.0212, sent/sec=464.1404\n",
            "loss/sent=0.0206, sent/sec=464.0989\n",
            "loss/sent=0.0198, sent/sec=464.0656\n"
          ],
          "name": "stderr"
        },
        {
          "output_type": "stream",
          "text": [
            "epoch 75: dev recall@1=32.20% recall@5=58.40% recall@10=70.60%\n"
          ],
          "name": "stdout"
        },
        {
          "output_type": "stream",
          "text": [
            "loss/sent=0.0169, sent/sec=464.0176\n",
            "loss/sent=0.0220, sent/sec=463.9653\n",
            "loss/sent=0.0419, sent/sec=463.9404\n",
            "loss/sent=0.0259, sent/sec=463.9049\n",
            "loss/sent=0.0259, sent/sec=463.8696\n",
            "loss/sent=0.0235, sent/sec=463.8420\n",
            "loss/sent=0.0196, sent/sec=463.7981\n",
            "loss/sent=0.0085, sent/sec=463.7498\n",
            "loss/sent=0.0175, sent/sec=463.7350\n",
            "loss/sent=0.0153, sent/sec=463.6743\n"
          ],
          "name": "stderr"
        },
        {
          "output_type": "stream",
          "text": [
            "epoch 76: dev recall@1=34.00% recall@5=59.20% recall@10=72.00%\n"
          ],
          "name": "stdout"
        },
        {
          "output_type": "stream",
          "text": [
            "loss/sent=0.0162, sent/sec=463.6427\n",
            "loss/sent=0.0241, sent/sec=463.6372\n",
            "loss/sent=0.0164, sent/sec=463.6150\n",
            "loss/sent=0.0245, sent/sec=463.5937\n",
            "loss/sent=0.0276, sent/sec=463.5765\n",
            "loss/sent=0.0152, sent/sec=463.5748\n",
            "loss/sent=0.0146, sent/sec=463.5348\n",
            "loss/sent=0.0228, sent/sec=463.4922\n",
            "loss/sent=0.0177, sent/sec=463.4583\n",
            "loss/sent=0.0291, sent/sec=463.4150\n"
          ],
          "name": "stderr"
        },
        {
          "output_type": "stream",
          "text": [
            "epoch 77: dev recall@1=34.60% recall@5=61.00% recall@10=71.80%\n"
          ],
          "name": "stdout"
        },
        {
          "output_type": "stream",
          "text": [
            "loss/sent=0.0255, sent/sec=463.3652\n",
            "loss/sent=0.0206, sent/sec=463.3031\n",
            "loss/sent=0.0178, sent/sec=463.2689\n",
            "loss/sent=0.0203, sent/sec=463.1914\n",
            "loss/sent=0.0167, sent/sec=463.1471\n",
            "loss/sent=0.0172, sent/sec=463.0916\n",
            "loss/sent=0.0192, sent/sec=463.0491\n",
            "loss/sent=0.0200, sent/sec=463.0332\n",
            "loss/sent=0.0198, sent/sec=463.0222\n",
            "loss/sent=0.0220, sent/sec=463.0023\n"
          ],
          "name": "stderr"
        },
        {
          "output_type": "stream",
          "text": [
            "epoch 78: dev recall@1=33.00% recall@5=61.40% recall@10=74.40%\n"
          ],
          "name": "stdout"
        },
        {
          "output_type": "stream",
          "text": [
            "loss/sent=0.0129, sent/sec=462.9641\n",
            "loss/sent=0.0227, sent/sec=462.9392\n",
            "loss/sent=0.0199, sent/sec=462.8830\n",
            "loss/sent=0.0271, sent/sec=462.8447\n",
            "loss/sent=0.0179, sent/sec=462.7901\n",
            "loss/sent=0.0360, sent/sec=462.7299\n",
            "loss/sent=0.0276, sent/sec=462.6961\n",
            "loss/sent=0.0296, sent/sec=462.6861\n",
            "loss/sent=0.0303, sent/sec=462.6656\n",
            "loss/sent=0.0260, sent/sec=462.6438\n"
          ],
          "name": "stderr"
        },
        {
          "output_type": "stream",
          "text": [
            "epoch 79: dev recall@1=33.00% recall@5=60.80% recall@10=72.80%\n"
          ],
          "name": "stdout"
        },
        {
          "output_type": "stream",
          "text": [
            "loss/sent=0.0159, sent/sec=462.5877\n",
            "loss/sent=0.0226, sent/sec=462.5453\n",
            "loss/sent=0.0166, sent/sec=462.4993\n",
            "loss/sent=0.0211, sent/sec=462.4758\n",
            "loss/sent=0.0161, sent/sec=462.4416\n",
            "loss/sent=0.0173, sent/sec=462.3862\n",
            "loss/sent=0.0297, sent/sec=462.3358\n",
            "loss/sent=0.0221, sent/sec=462.2896\n",
            "loss/sent=0.0242, sent/sec=462.2439\n",
            "loss/sent=0.0210, sent/sec=462.2040\n"
          ],
          "name": "stderr"
        },
        {
          "output_type": "stream",
          "text": [
            "epoch 80: dev recall@1=33.40% recall@5=60.60% recall@10=70.00%\n"
          ],
          "name": "stdout"
        },
        {
          "output_type": "stream",
          "text": [
            "loss/sent=0.0327, sent/sec=462.1473\n",
            "loss/sent=0.0192, sent/sec=462.1287\n",
            "loss/sent=0.0173, sent/sec=462.1169\n",
            "loss/sent=0.0148, sent/sec=462.1199\n",
            "loss/sent=0.0146, sent/sec=462.1326\n",
            "loss/sent=0.0150, sent/sec=462.1383\n",
            "loss/sent=0.0199, sent/sec=462.1249\n",
            "loss/sent=0.0228, sent/sec=462.1126\n",
            "loss/sent=0.0185, sent/sec=462.0977\n",
            "loss/sent=0.0155, sent/sec=462.1123\n"
          ],
          "name": "stderr"
        },
        {
          "output_type": "stream",
          "text": [
            "epoch 81: dev recall@1=33.60% recall@5=61.40% recall@10=71.00%\n"
          ],
          "name": "stdout"
        },
        {
          "output_type": "stream",
          "text": [
            "loss/sent=0.0241, sent/sec=462.1082\n",
            "loss/sent=0.0185, sent/sec=462.1195\n",
            "loss/sent=0.0186, sent/sec=462.1425\n",
            "loss/sent=0.0089, sent/sec=462.1374\n",
            "loss/sent=0.0284, sent/sec=462.1551\n",
            "loss/sent=0.0260, sent/sec=462.1724\n",
            "loss/sent=0.0317, sent/sec=462.1586\n",
            "loss/sent=0.0214, sent/sec=462.1519\n",
            "loss/sent=0.0237, sent/sec=462.1780\n",
            "loss/sent=0.0139, sent/sec=462.1918\n"
          ],
          "name": "stderr"
        },
        {
          "output_type": "stream",
          "text": [
            "epoch 82: dev recall@1=33.60% recall@5=61.40% recall@10=71.80%\n"
          ],
          "name": "stdout"
        },
        {
          "output_type": "stream",
          "text": [
            "loss/sent=0.0215, sent/sec=462.1983\n",
            "loss/sent=0.0219, sent/sec=462.2172\n",
            "loss/sent=0.0226, sent/sec=462.2350\n",
            "loss/sent=0.0167, sent/sec=462.2526\n",
            "loss/sent=0.0173, sent/sec=462.2789\n",
            "loss/sent=0.0157, sent/sec=462.3008\n",
            "loss/sent=0.0146, sent/sec=462.3201\n",
            "loss/sent=0.0250, sent/sec=462.3246\n",
            "loss/sent=0.0305, sent/sec=462.3469\n",
            "loss/sent=0.0149, sent/sec=462.3537\n"
          ],
          "name": "stderr"
        },
        {
          "output_type": "stream",
          "text": [
            "epoch 83: dev recall@1=33.00% recall@5=59.60% recall@10=70.00%\n"
          ],
          "name": "stdout"
        },
        {
          "output_type": "stream",
          "text": [
            "loss/sent=0.0324, sent/sec=462.3503\n",
            "loss/sent=0.0250, sent/sec=462.3463\n",
            "loss/sent=0.0162, sent/sec=462.3431\n",
            "loss/sent=0.0133, sent/sec=462.3516\n",
            "loss/sent=0.0324, sent/sec=462.3806\n",
            "loss/sent=0.0285, sent/sec=462.3928\n",
            "loss/sent=0.0180, sent/sec=462.3983\n",
            "loss/sent=0.0206, sent/sec=462.3948\n",
            "loss/sent=0.0248, sent/sec=462.3944\n",
            "loss/sent=0.0327, sent/sec=462.3882\n"
          ],
          "name": "stderr"
        },
        {
          "output_type": "stream",
          "text": [
            "epoch 84: dev recall@1=34.60% recall@5=61.40% recall@10=70.60%\n"
          ],
          "name": "stdout"
        },
        {
          "output_type": "stream",
          "text": [
            "loss/sent=0.0116, sent/sec=462.3754\n",
            "loss/sent=0.0231, sent/sec=462.3783\n",
            "loss/sent=0.0076, sent/sec=462.3837\n",
            "loss/sent=0.0388, sent/sec=462.3761\n",
            "loss/sent=0.0188, sent/sec=462.3656\n",
            "loss/sent=0.0233, sent/sec=462.3393\n",
            "loss/sent=0.0200, sent/sec=462.3275\n",
            "loss/sent=0.0191, sent/sec=462.2941\n",
            "loss/sent=0.0173, sent/sec=462.2750\n",
            "loss/sent=0.0268, sent/sec=462.2704\n"
          ],
          "name": "stderr"
        },
        {
          "output_type": "stream",
          "text": [
            "epoch 85: dev recall@1=33.20% recall@5=60.00% recall@10=72.00%\n"
          ],
          "name": "stdout"
        },
        {
          "output_type": "stream",
          "text": [
            "loss/sent=0.0242, sent/sec=462.2594\n",
            "loss/sent=0.0230, sent/sec=462.2404\n",
            "loss/sent=0.0212, sent/sec=462.2489\n",
            "loss/sent=0.0184, sent/sec=462.2478\n",
            "loss/sent=0.0137, sent/sec=462.2341\n",
            "loss/sent=0.0084, sent/sec=462.2511\n",
            "loss/sent=0.0142, sent/sec=462.2797\n",
            "loss/sent=0.0166, sent/sec=462.2802\n",
            "loss/sent=0.0090, sent/sec=462.2968\n",
            "loss/sent=0.0132, sent/sec=462.3240\n",
            "loss/sent=0.0190, sent/sec=462.3520\n"
          ],
          "name": "stderr"
        },
        {
          "output_type": "stream",
          "text": [
            "epoch 86: dev recall@1=31.80% recall@5=61.00% recall@10=72.20%\n"
          ],
          "name": "stdout"
        },
        {
          "output_type": "stream",
          "text": [
            "loss/sent=0.0122, sent/sec=462.3567\n",
            "loss/sent=0.0141, sent/sec=462.3686\n",
            "loss/sent=0.0109, sent/sec=462.3830\n",
            "loss/sent=0.0204, sent/sec=462.3971\n",
            "loss/sent=0.0196, sent/sec=462.4006\n",
            "loss/sent=0.0329, sent/sec=462.4068\n",
            "loss/sent=0.0213, sent/sec=462.4032\n",
            "loss/sent=0.0189, sent/sec=462.4038\n",
            "loss/sent=0.0166, sent/sec=462.4093\n",
            "loss/sent=0.0070, sent/sec=462.4047\n"
          ],
          "name": "stderr"
        },
        {
          "output_type": "stream",
          "text": [
            "epoch 87: dev recall@1=33.40% recall@5=59.80% recall@10=71.40%\n"
          ],
          "name": "stdout"
        },
        {
          "output_type": "stream",
          "text": [
            "loss/sent=0.0120, sent/sec=462.3747\n",
            "loss/sent=0.0172, sent/sec=462.3844\n",
            "loss/sent=0.0186, sent/sec=462.3863\n",
            "loss/sent=0.0184, sent/sec=462.3922\n",
            "loss/sent=0.0194, sent/sec=462.3874\n",
            "loss/sent=0.0148, sent/sec=462.3836\n",
            "loss/sent=0.0172, sent/sec=462.3742\n",
            "loss/sent=0.0229, sent/sec=462.3781\n",
            "loss/sent=0.0250, sent/sec=462.3941\n",
            "loss/sent=0.0315, sent/sec=462.4175\n"
          ],
          "name": "stderr"
        },
        {
          "output_type": "stream",
          "text": [
            "epoch 88: dev recall@1=32.60% recall@5=61.00% recall@10=71.00%\n"
          ],
          "name": "stdout"
        },
        {
          "output_type": "stream",
          "text": [
            "loss/sent=0.0264, sent/sec=462.4083\n",
            "loss/sent=0.0172, sent/sec=462.4050\n",
            "loss/sent=0.0209, sent/sec=462.4022\n",
            "loss/sent=0.0151, sent/sec=462.3927\n",
            "loss/sent=0.0199, sent/sec=462.3372\n",
            "loss/sent=0.0304, sent/sec=462.2794\n",
            "loss/sent=0.0197, sent/sec=462.2270\n",
            "loss/sent=0.0076, sent/sec=462.1692\n",
            "loss/sent=0.0163, sent/sec=462.1161\n",
            "loss/sent=0.0143, sent/sec=462.0982\n"
          ],
          "name": "stderr"
        },
        {
          "output_type": "stream",
          "text": [
            "epoch 89: dev recall@1=32.20% recall@5=60.80% recall@10=72.00%\n"
          ],
          "name": "stdout"
        },
        {
          "output_type": "stream",
          "text": [
            "loss/sent=0.0177, sent/sec=462.0843\n",
            "loss/sent=0.0087, sent/sec=462.0789\n",
            "loss/sent=0.0148, sent/sec=462.0711\n",
            "loss/sent=0.0154, sent/sec=462.0491\n",
            "loss/sent=0.0261, sent/sec=462.0384\n",
            "loss/sent=0.0128, sent/sec=462.0340\n",
            "loss/sent=0.0084, sent/sec=462.0319\n",
            "loss/sent=0.0187, sent/sec=462.0187\n",
            "loss/sent=0.0209, sent/sec=462.0119\n",
            "loss/sent=0.0179, sent/sec=461.9898\n"
          ],
          "name": "stderr"
        },
        {
          "output_type": "stream",
          "text": [
            "epoch 90: dev recall@1=31.60% recall@5=58.40% recall@10=70.00%\n"
          ],
          "name": "stdout"
        },
        {
          "output_type": "stream",
          "text": [
            "loss/sent=0.0128, sent/sec=461.9647\n",
            "loss/sent=0.0148, sent/sec=461.9159\n",
            "loss/sent=0.0165, sent/sec=461.8407\n",
            "loss/sent=0.0266, sent/sec=461.7964\n",
            "loss/sent=0.0148, sent/sec=461.7374\n",
            "loss/sent=0.0146, sent/sec=461.7001\n",
            "loss/sent=0.0254, sent/sec=461.6718\n",
            "loss/sent=0.0288, sent/sec=461.6303\n",
            "loss/sent=0.0205, sent/sec=461.6243\n",
            "loss/sent=0.0196, sent/sec=461.5989\n"
          ],
          "name": "stderr"
        },
        {
          "output_type": "stream",
          "text": [
            "epoch 91: dev recall@1=32.60% recall@5=61.40% recall@10=71.60%\n"
          ],
          "name": "stdout"
        },
        {
          "output_type": "stream",
          "text": [
            "loss/sent=0.0081, sent/sec=461.4830\n",
            "loss/sent=0.0172, sent/sec=461.4165\n",
            "loss/sent=0.0170, sent/sec=461.3226\n",
            "loss/sent=0.0310, sent/sec=461.2721\n",
            "loss/sent=0.0128, sent/sec=461.1831\n",
            "loss/sent=0.0175, sent/sec=461.1146\n",
            "loss/sent=0.0169, sent/sec=461.0521\n",
            "loss/sent=0.0213, sent/sec=460.9852\n",
            "loss/sent=0.0114, sent/sec=460.9202\n",
            "loss/sent=0.0185, sent/sec=460.8912\n"
          ],
          "name": "stderr"
        },
        {
          "output_type": "stream",
          "text": [
            "epoch 92: dev recall@1=33.60% recall@5=60.80% recall@10=72.00%\n"
          ],
          "name": "stdout"
        },
        {
          "output_type": "stream",
          "text": [
            "loss/sent=0.0099, sent/sec=460.8043\n",
            "loss/sent=0.0219, sent/sec=460.7385\n",
            "loss/sent=0.0131, sent/sec=460.6880\n",
            "loss/sent=0.0148, sent/sec=460.6104\n",
            "loss/sent=0.0096, sent/sec=460.5402\n",
            "loss/sent=0.0081, sent/sec=460.4522\n",
            "loss/sent=0.0159, sent/sec=460.3299\n",
            "loss/sent=0.0158, sent/sec=460.2649\n",
            "loss/sent=0.0140, sent/sec=460.1514\n",
            "loss/sent=0.0120, sent/sec=460.0679\n"
          ],
          "name": "stderr"
        },
        {
          "output_type": "stream",
          "text": [
            "epoch 93: dev recall@1=31.80% recall@5=60.20% recall@10=72.20%\n"
          ],
          "name": "stdout"
        },
        {
          "output_type": "stream",
          "text": [
            "loss/sent=0.0160, sent/sec=459.9958\n",
            "loss/sent=0.0214, sent/sec=459.9303\n",
            "loss/sent=0.0122, sent/sec=459.8722\n",
            "loss/sent=0.0233, sent/sec=459.8309\n",
            "loss/sent=0.0198, sent/sec=459.7795\n",
            "loss/sent=0.0154, sent/sec=459.7252\n",
            "loss/sent=0.0159, sent/sec=459.7024\n",
            "loss/sent=0.0157, sent/sec=459.6480\n",
            "loss/sent=0.0200, sent/sec=459.6215\n",
            "loss/sent=0.0149, sent/sec=459.5835\n"
          ],
          "name": "stderr"
        },
        {
          "output_type": "stream",
          "text": [
            "epoch 94: dev recall@1=31.20% recall@5=59.00% recall@10=70.40%\n"
          ],
          "name": "stdout"
        },
        {
          "output_type": "stream",
          "text": [
            "loss/sent=0.0239, sent/sec=459.5272\n",
            "loss/sent=0.0117, sent/sec=459.4846\n",
            "loss/sent=0.0173, sent/sec=459.4692\n",
            "loss/sent=0.0100, sent/sec=459.4274\n",
            "loss/sent=0.0149, sent/sec=459.3944\n",
            "loss/sent=0.0208, sent/sec=459.3635\n",
            "loss/sent=0.0214, sent/sec=459.3456\n",
            "loss/sent=0.0108, sent/sec=459.3253\n",
            "loss/sent=0.0220, sent/sec=459.3149\n",
            "loss/sent=0.0087, sent/sec=459.2950\n"
          ],
          "name": "stderr"
        },
        {
          "output_type": "stream",
          "text": [
            "epoch 95: dev recall@1=33.40% recall@5=61.00% recall@10=72.60%\n"
          ],
          "name": "stdout"
        },
        {
          "output_type": "stream",
          "text": [
            "loss/sent=0.0177, sent/sec=459.2756\n",
            "loss/sent=0.0143, sent/sec=459.2564\n",
            "loss/sent=0.0097, sent/sec=459.1686\n",
            "loss/sent=0.0084, sent/sec=459.0996\n",
            "loss/sent=0.0168, sent/sec=459.0051\n",
            "loss/sent=0.0162, sent/sec=458.8910\n",
            "loss/sent=0.0151, sent/sec=458.8057\n",
            "loss/sent=0.0158, sent/sec=458.7732\n",
            "loss/sent=0.0153, sent/sec=458.7292\n",
            "loss/sent=0.0114, sent/sec=458.6641\n"
          ],
          "name": "stderr"
        },
        {
          "output_type": "stream",
          "text": [
            "epoch 96: dev recall@1=31.80% recall@5=60.20% recall@10=70.60%\n"
          ],
          "name": "stdout"
        },
        {
          "output_type": "stream",
          "text": [
            "loss/sent=0.0189, sent/sec=458.5893\n",
            "loss/sent=0.0111, sent/sec=458.5002\n",
            "loss/sent=0.0103, sent/sec=458.4000\n",
            "loss/sent=0.0102, sent/sec=458.3046\n",
            "loss/sent=0.0225, sent/sec=458.1979\n",
            "loss/sent=0.0065, sent/sec=458.1306\n",
            "loss/sent=0.0191, sent/sec=458.0937\n",
            "loss/sent=0.0092, sent/sec=458.0555\n",
            "loss/sent=0.0144, sent/sec=457.9917\n",
            "loss/sent=0.0066, sent/sec=457.9703\n"
          ],
          "name": "stderr"
        },
        {
          "output_type": "stream",
          "text": [
            "epoch 97: dev recall@1=29.40% recall@5=56.80% recall@10=72.20%\n"
          ],
          "name": "stdout"
        },
        {
          "output_type": "stream",
          "text": [
            "loss/sent=0.0177, sent/sec=457.9248\n",
            "loss/sent=0.0150, sent/sec=457.8678\n",
            "loss/sent=0.0210, sent/sec=457.8113\n",
            "loss/sent=0.0236, sent/sec=457.7284\n",
            "loss/sent=0.0168, sent/sec=457.6812\n",
            "loss/sent=0.0057, sent/sec=457.6104\n",
            "loss/sent=0.0277, sent/sec=457.5545\n",
            "loss/sent=0.0172, sent/sec=457.4835\n",
            "loss/sent=0.0221, sent/sec=457.3812\n",
            "loss/sent=0.0221, sent/sec=457.2928\n"
          ],
          "name": "stderr"
        },
        {
          "output_type": "stream",
          "text": [
            "epoch 98: dev recall@1=34.00% recall@5=62.20% recall@10=72.80%\n"
          ],
          "name": "stdout"
        },
        {
          "output_type": "stream",
          "text": [
            "loss/sent=0.0190, sent/sec=457.1725\n",
            "loss/sent=0.0142, sent/sec=457.0568\n",
            "loss/sent=0.0092, sent/sec=456.9892\n",
            "loss/sent=0.0154, sent/sec=456.9230\n",
            "loss/sent=0.0235, sent/sec=456.8271\n",
            "loss/sent=0.0155, sent/sec=456.7083\n",
            "loss/sent=0.0183, sent/sec=456.6017\n",
            "loss/sent=0.0202, sent/sec=456.5004\n",
            "loss/sent=0.0184, sent/sec=456.3781\n",
            "loss/sent=0.0162, sent/sec=456.2576\n",
            "loss/sent=0.0168, sent/sec=456.1513\n"
          ],
          "name": "stderr"
        },
        {
          "output_type": "stream",
          "text": [
            "epoch 99: dev recall@1=33.00% recall@5=61.00% recall@10=72.00%\n"
          ],
          "name": "stdout"
        }
      ]
    },
    {
      "metadata": {
        "id": "Bj_ZzHuQIgTx",
        "colab_type": "code",
        "colab": {
          "autoexec": {
            "startup": false,
            "wait_interval": 0
          },
          "base_uri": "https://localhost:8080/",
          "height": 37
        },
        "outputId": "9d6f3c06-840b-4c2a-d07f-d388bb745ba9",
        "executionInfo": {
          "status": "ok",
          "timestamp": 1529584477795,
          "user_tz": -540,
          "elapsed": 471,
          "user": {
            "displayName": "Sungjun Lee",
            "photoUrl": "https://lh3.googleusercontent.com/a/default-user=s128",
            "userId": "107995332831641667384"
          }
        }
      },
      "cell_type": "code",
      "source": [
        ""
      ],
      "execution_count": 5,
      "outputs": []
    }
  ]
}